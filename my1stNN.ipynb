{
  "nbformat": 4,
  "nbformat_minor": 0,
  "metadata": {
    "kernelspec": {
      "name": "python3",
      "display_name": "Python 3"
    },
    "language_info": {
      "codemirror_mode": {
        "name": "ipython",
        "version": 3
      },
      "file_extension": ".py",
      "mimetype": "text/x-python",
      "name": "python",
      "nbconvert_exporter": "python",
      "pygments_lexer": "ipython3",
      "version": "3.6.5"
    },
    "colab": {
      "name": "Copy of my1stNN.ipynb",
      "provenance": [],
      "collapsed_sections": [],
      "include_colab_link": true
    },
    "accelerator": "GPU"
  },
  "cells": [
    {
      "cell_type": "markdown",
      "metadata": {
        "id": "view-in-github",
        "colab_type": "text"
      },
      "source": [
        "<a href=\"https://colab.research.google.com/github/rumary/DeepLearning_Coursera/blob/master/my1stNN.ipynb\" target=\"_parent\"><img src=\"https://colab.research.google.com/assets/colab-badge.svg\" alt=\"Open In Colab\"/></a>"
      ]
    },
    {
      "cell_type": "markdown",
      "metadata": {
        "id": "pWq8mbGGKY5d",
        "colab_type": "text"
      },
      "source": [
        "# my1stNN.ipynb (or MNIST digits classification with TensorFlow)"
      ]
    },
    {
      "cell_type": "markdown",
      "metadata": {
        "id": "0ckDyzS6KY5e",
        "colab_type": "text"
      },
      "source": [
        "<img src=\"https://github.com/hse-aml/intro-to-dl/blob/master/week2/mnist_sample.png?raw=1\" style=\"width:30%\">"
      ]
    },
    {
      "cell_type": "code",
      "metadata": {
        "id": "rvKksY_VKnIp",
        "colab_type": "code",
        "colab": {
          "base_uri": "https://localhost:8080/",
          "height": 341
        },
        "outputId": "0b56c10f-2cb2-479c-eecc-cbd98c11b610"
      },
      "source": [
        "! shred -u setup_google_colab.py\n",
        "! wget https://raw.githubusercontent.com/hse-aml/intro-to-dl/master/setup_google_colab.py -O setup_google_colab.py\n",
        "import setup_google_colab\n",
        "# please, uncomment the week you're working on\n",
        "# setup_google_colab.setup_week1()\n",
        "setup_google_colab.setup_week2()\n",
        "# setup_google_colab.setup_week3()\n",
        "# setup_google_colab.setup_week4()\n",
        "# setup_google_colab.setup_week5()\n",
        "# setup_google_colab.setup_week6()\n",
        "\n",
        "# If you're using the old version of the course (check a path of notebook on Coursera, you'll see v1 or v2),\n",
        "# use setup_week2_old()."
      ],
      "execution_count": 3,
      "outputs": [
        {
          "output_type": "stream",
          "text": [
            "shred: setup_google_colab.py: failed to open for writing: No such file or directory\n",
            "--2019-09-22 19:43:41--  https://raw.githubusercontent.com/hse-aml/intro-to-dl/master/setup_google_colab.py\n",
            "Resolving raw.githubusercontent.com (raw.githubusercontent.com)... 151.101.0.133, 151.101.64.133, 151.101.128.133, ...\n",
            "Connecting to raw.githubusercontent.com (raw.githubusercontent.com)|151.101.0.133|:443... connected.\n",
            "HTTP request sent, awaiting response... 200 OK\n",
            "Length: 3792 (3.7K) [text/plain]\n",
            "Saving to: ‘setup_google_colab.py’\n",
            "\n",
            "setup_google_colab. 100%[===================>]   3.70K  --.-KB/s    in 0s      \n",
            "\n",
            "2019-09-22 19:43:46 (44.5 MB/s) - ‘setup_google_colab.py’ saved [3792/3792]\n",
            "\n",
            "**************************************************\n",
            "inception_v3_weights_tf_dim_ordering_tf_kernels_notop.h5\n",
            "**************************************************\n",
            "cifar-10-batches-py.tar.gz\n",
            "**************************************************\n",
            "mnist.npz\n"
          ],
          "name": "stdout"
        }
      ]
    },
    {
      "cell_type": "markdown",
      "metadata": {
        "id": "G7HMN_JEKY5f",
        "colab_type": "text"
      },
      "source": [
        "### This task will be submitted for peer review, so make sure it contains all the necessary outputs!"
      ]
    },
    {
      "cell_type": "code",
      "metadata": {
        "id": "4cHVjYH_KY5f",
        "colab_type": "code",
        "colab": {
          "base_uri": "https://localhost:8080/",
          "height": 53
        },
        "outputId": "d7170310-19c6-45a1-e943-889d6f24561d"
      },
      "source": [
        "import numpy as np\n",
        "from sklearn.metrics import accuracy_score\n",
        "from matplotlib import pyplot as plt\n",
        "%matplotlib inline\n",
        "import tensorflow as tf\n",
        "print(\"We're using TF\", tf.__version__)\n",
        "\n",
        "import sys\n",
        "sys.path.append(\"..\")\n",
        "import grading\n",
        "\n",
        "import matplotlib_utils\n",
        "from importlib import reload\n",
        "reload(matplotlib_utils)\n",
        "\n",
        "import keras_utils\n",
        "from keras_utils import reset_tf_session"
      ],
      "execution_count": 4,
      "outputs": [
        {
          "output_type": "stream",
          "text": [
            "We're using TF 1.14.0\n"
          ],
          "name": "stdout"
        },
        {
          "output_type": "stream",
          "text": [
            "Using TensorFlow backend.\n"
          ],
          "name": "stderr"
        }
      ]
    },
    {
      "cell_type": "code",
      "metadata": {
        "id": "YbzY6PF-f7jD",
        "colab_type": "code",
        "colab": {
          "base_uri": "https://localhost:8080/",
          "height": 35
        },
        "outputId": "55500a7c-797b-4609-f118-8cb8b0d5b3c8"
      },
      "source": [
        "\n",
        "import grading_utils\n",
        "reload(grading_utils)"
      ],
      "execution_count": 5,
      "outputs": [
        {
          "output_type": "execute_result",
          "data": {
            "text/plain": [
              "<module 'grading_utils' from '/content/grading_utils.py'>"
            ]
          },
          "metadata": {
            "tags": []
          },
          "execution_count": 5
        }
      ]
    },
    {
      "cell_type": "code",
      "metadata": {
        "id": "002zCsIif08R",
        "colab_type": "code",
        "colab": {}
      },
      "source": [
        "grader = grading.Grader(assignment_key=\"XtD7ho3TEeiHQBLWejjYAA\", \n",
        "                        all_parts=[\"9XaAS\", \"vmogZ\", \"RMv95\", \"i8bgs\", \"rE763\"])"
      ],
      "execution_count": 0,
      "outputs": []
    },
    {
      "cell_type": "code",
      "metadata": {
        "id": "rlHmhdSKf2Bt",
        "colab_type": "code",
        "colab": {}
      },
      "source": [
        "# token expires every 30 min\n",
        "COURSERA_TOKEN = \"6pNAJQ3EDvbJSLgT\"\n",
        "COURSERA_EMAIL = \"maria.msu.ff@gmail.com\""
      ],
      "execution_count": 0,
      "outputs": []
    },
    {
      "cell_type": "markdown",
      "metadata": {
        "id": "LiJa2SJ0KY5j",
        "colab_type": "text"
      },
      "source": [
        "# Look at the data\n",
        "\n",
        "In this task we have 50000 28x28 images of digits from 0 to 9.\n",
        "We will train a classifier on this data."
      ]
    },
    {
      "cell_type": "code",
      "metadata": {
        "id": "QlcWtOn1KY5j",
        "colab_type": "code",
        "colab": {
          "base_uri": "https://localhost:8080/",
          "height": 53
        },
        "outputId": "55ed8c94-59a4-4215-ff41-bcff80c1294d"
      },
      "source": [
        "import preprocessed_mnist\n",
        "X_train, y_train, X_val, y_val, X_test, y_test = preprocessed_mnist.load_dataset()"
      ],
      "execution_count": 8,
      "outputs": [
        {
          "output_type": "stream",
          "text": [
            "Downloading data from https://s3.amazonaws.com/img-datasets/mnist.npz\n",
            " 9592832/11490434 [========================>.....] - ETA: 0s"
          ],
          "name": "stdout"
        }
      ]
    },
    {
      "cell_type": "code",
      "metadata": {
        "id": "llMS0-qEKY5l",
        "colab_type": "code",
        "colab": {
          "base_uri": "https://localhost:8080/",
          "height": 701
        },
        "outputId": "c817df08-8263-4c83-f127-3a549bf9c5f2"
      },
      "source": [
        "# X contains rgb values divided by 255\n",
        "print(\"X_train [shape %s] sample patch:\\n\" % (str(X_train.shape)), X_train[1, 15:20, 5:10])\n",
        "print(\"A closeup of a sample patch:\")\n",
        "plt.imshow(X_train[1, 15:20, 5:10], cmap=\"Greys\")\n",
        "plt.show()\n",
        "print(\"And the whole sample:\")\n",
        "plt.imshow(X_train[1], cmap=\"Greys\")\n",
        "plt.show()\n",
        "print(\"y_train [shape %s] 10 samples:\\n\" % (str(y_train.shape)), y_train[:10])"
      ],
      "execution_count": 9,
      "outputs": [
        {
          "output_type": "stream",
          "text": [
            "X_train [shape (50000, 28, 28)] sample patch:\n",
            " [[0.         0.29803922 0.96470588 0.98823529 0.43921569]\n",
            " [0.         0.33333333 0.98823529 0.90196078 0.09803922]\n",
            " [0.         0.33333333 0.98823529 0.8745098  0.        ]\n",
            " [0.         0.33333333 0.98823529 0.56862745 0.        ]\n",
            " [0.         0.3372549  0.99215686 0.88235294 0.        ]]\n",
            "A closeup of a sample patch:\n"
          ],
          "name": "stdout"
        },
        {
          "output_type": "display_data",
          "data": {
            "image/png": "[encoded data removed]",
            "text/plain": [
              "<Figure size 432x288 with 1 Axes>"
            ]
          },
          "metadata": {
            "tags": []
          }
        },
        {
          "output_type": "stream",
          "text": [
            "And the whole sample:\n"
          ],
          "name": "stdout"
        },
        {
          "output_type": "display_data",
          "data": {
            "image/png": "[encoded data removed]",
            "text/plain": [
              "<Figure size 432x288 with 1 Axes>"
            ]
          },
          "metadata": {
            "tags": []
          }
        },
        {
          "output_type": "stream",
          "text": [
            "y_train [shape (50000,)] 10 samples:\n",
            " [5 0 4 1 9 2 1 3 1 4]\n"
          ],
          "name": "stdout"
        }
      ]
    },
    {
      "cell_type": "markdown",
      "metadata": {
        "id": "DZaB7YoVKY5n",
        "colab_type": "text"
      },
      "source": [
        "# Linear model\n",
        "\n",
        "Your task is to train a linear classifier $\\vec{x} \\rightarrow y$ with SGD using TensorFlow.\n",
        "\n",
        "You will need to calculate a logit (a linear transformation) $z_k$ for each class: \n",
        "$$z_k = \\vec{x} \\cdot \\vec{w_k} + b_k \\quad k = 0..9$$\n",
        "\n",
        "And transform logits $z_k$ to valid probabilities $p_k$ with softmax: \n",
        "$$p_k = \\frac{e^{z_k}}{\\sum_{i=0}^{9}{e^{z_i}}} \\quad k = 0..9$$\n",
        "\n",
        "We will use a cross-entropy loss to train our multi-class classifier:\n",
        "$$\\text{cross-entropy}(y, p) = -\\sum_{k=0}^{9}{\\log(p_k)[y = k]}$$ \n",
        "\n",
        "where \n",
        "$$\n",
        "[x]=\\begin{cases}\n",
        "       1, \\quad \\text{if $x$ is true} \\\\\n",
        "       0, \\quad \\text{otherwise}\n",
        "    \\end{cases}\n",
        "$$\n",
        "\n",
        "Cross-entropy minimization pushes $p_k$ close to 1 when $y = k$, which is what we want.\n",
        "\n",
        "Here's the plan:\n",
        "* Flatten the images (28x28 -> 784) with `X_train.reshape((X_train.shape[0], -1))` to simplify our linear model implementation\n",
        "* Use a matrix placeholder for flattened `X_train`\n",
        "* Convert `y_train` to one-hot encoded vectors that are needed for cross-entropy\n",
        "* Use a shared variable `W` for all weights (a column $\\vec{w_k}$ per class) and `b` for all biases.\n",
        "* Aim for ~0.93 validation accuracy"
      ]
    },
    {
      "cell_type": "code",
      "metadata": {
        "id": "oOYYPoGWKY5o",
        "colab_type": "code",
        "colab": {
          "base_uri": "https://localhost:8080/",
          "height": 53
        },
        "outputId": "4622d45b-ec65-4ddd-9aca-6f5b13b763fd"
      },
      "source": [
        "X_train_flat = X_train.reshape((X_train.shape[0], -1))\n",
        "print(X_train_flat.shape)\n",
        "\n",
        "X_val_flat = X_val.reshape((X_val.shape[0], -1))\n",
        "print(X_val_flat.shape)"
      ],
      "execution_count": 10,
      "outputs": [
        {
          "output_type": "stream",
          "text": [
            "(50000, 784)\n",
            "(10000, 784)\n"
          ],
          "name": "stdout"
        }
      ]
    },
    {
      "cell_type": "code",
      "metadata": {
        "id": "uz13e34RKY5q",
        "colab_type": "code",
        "colab": {
          "base_uri": "https://localhost:8080/",
          "height": 89
        },
        "outputId": "da1024d6-1f6b-4e93-e192-9d886a7c3eaa"
      },
      "source": [
        "import keras  # we use keras only for keras.utils.to_categorical\n",
        "\n",
        "y_train_oh = keras.utils.to_categorical(y_train, 10)\n",
        "y_val_oh = keras.utils.to_categorical(y_val, 10)\n",
        "\n",
        "print(y_train_oh.shape)\n",
        "print(y_train_oh[:3], y_train[:3])"
      ],
      "execution_count": 11,
      "outputs": [
        {
          "output_type": "stream",
          "text": [
            "(50000, 10)\n",
            "[[0. 0. 0. 0. 0. 1. 0. 0. 0. 0.]\n",
            " [1. 0. 0. 0. 0. 0. 0. 0. 0. 0.]\n",
            " [0. 0. 0. 0. 1. 0. 0. 0. 0. 0.]] [5 0 4]\n"
          ],
          "name": "stdout"
        }
      ]
    },
    {
      "cell_type": "code",
      "metadata": {
        "id": "63kuZRowKY5v",
        "colab_type": "code",
        "colab": {
          "base_uri": "https://localhost:8080/",
          "height": 217
        },
        "outputId": "a252861f-0200-4226-9a42-3bfbb588d955"
      },
      "source": [
        "# run this again if you remake your graph\n",
        "s = reset_tf_session()"
      ],
      "execution_count": 12,
      "outputs": [
        {
          "output_type": "stream",
          "text": [
            "WARNING:tensorflow:From /content/keras_utils.py:68: The name tf.get_default_session is deprecated. Please use tf.compat.v1.get_default_session instead.\n",
            "\n",
            "WARNING:tensorflow:From /usr/local/lib/python3.6/dist-packages/keras/backend/tensorflow_backend.py:79: The name tf.reset_default_graph is deprecated. Please use tf.compat.v1.reset_default_graph instead.\n",
            "\n",
            "WARNING:tensorflow:From /usr/local/lib/python3.6/dist-packages/keras/backend/tensorflow_backend.py:82: The name tf.placeholder is deprecated. Please use tf.compat.v1.placeholder instead.\n",
            "\n",
            "WARNING:tensorflow:From /usr/local/lib/python3.6/dist-packages/keras/backend/tensorflow_backend.py:84: The name tf.get_default_graph is deprecated. Please use tf.compat.v1.get_default_graph instead.\n",
            "\n",
            "WARNING:tensorflow:From /content/keras_utils.py:75: The name tf.ConfigProto is deprecated. Please use tf.compat.v1.ConfigProto instead.\n",
            "\n"
          ],
          "name": "stdout"
        }
      ]
    },
    {
      "cell_type": "code",
      "metadata": {
        "id": "o-Px1tbGRx-L",
        "colab_type": "code",
        "colab": {
          "base_uri": "https://localhost:8080/",
          "height": 35
        },
        "outputId": "9e84e2e4-d985-4188-975f-864bd3464554"
      },
      "source": [
        "X_train_flat.shape[0], X_train_flat.shape[1], y_train_oh.shape[1]"
      ],
      "execution_count": 13,
      "outputs": [
        {
          "output_type": "execute_result",
          "data": {
            "text/plain": [
              "(50000, 784, 10)"
            ]
          },
          "metadata": {
            "tags": []
          },
          "execution_count": 13
        }
      ]
    },
    {
      "cell_type": "code",
      "metadata": {
        "id": "AuzOFQbQKY5x",
        "colab_type": "code",
        "colab": {
          "base_uri": "https://localhost:8080/",
          "height": 91
        },
        "outputId": "0b18dedd-e5cf-4c14-f09a-4e73f9c77489"
      },
      "source": [
        "# Model parameters: W and b\n",
        "# Model parameters: W and b\n",
        "W = tf.get_variable('W', shape = (784, 10), dtype = tf.float32) ### YOUR CODE HERE ### tf.get_variable(...) with shape[0] = 784\n",
        "b = tf.get_variable('b', shape = (10), dtype = tf.float32) ### YOUR CODE HERE ### tf.get_variable(...)"
      ],
      "execution_count": 14,
      "outputs": [
        {
          "output_type": "stream",
          "text": [
            "WARNING:tensorflow:From /usr/local/lib/python3.6/dist-packages/tensorflow/python/ops/init_ops.py:1251: calling VarianceScaling.__init__ (from tensorflow.python.ops.init_ops) with dtype is deprecated and will be removed in a future version.\n",
            "Instructions for updating:\n",
            "Call initializer instance with the dtype argument instead of passing it to the constructor\n"
          ],
          "name": "stdout"
        }
      ]
    },
    {
      "cell_type": "code",
      "metadata": {
        "id": "7anBKHQmKY50",
        "colab_type": "code",
        "colab": {}
      },
      "source": [
        "# Placeholders for the input data\n",
        "input_X = tf.placeholder(tf.float32, shape = (None, 784), name = 'input_X')\n",
        "input_y = tf.placeholder(tf.float32, shape = (None, 10), name = 'input_y')"
      ],
      "execution_count": 0,
      "outputs": []
    },
    {
      "cell_type": "code",
      "metadata": {
        "id": "xUfipdBhMSwu",
        "colab_type": "code",
        "colab": {}
      },
      "source": [
        "logits = tf.matmul(input_X, W) + b #\n",
        "probas = tf.nn.softmax(logits) ### apply tf.nn.softmax to logits\n",
        "classes = tf.math.argmax(probas, axis=-1)\n",
        "\n",
        "loss = tf.reduce_mean(tf.nn.softmax_cross_entropy_with_logits_v2(logits = logits, labels = input_y))\n",
        "step  = tf.train.AdamOptimizer(learning_rate = 0.01).minimize(loss)"
      ],
      "execution_count": 0,
      "outputs": []
    },
    {
      "cell_type": "code",
      "metadata": {
        "scrolled": false,
        "id": "f-KI-Qm7KY56",
        "colab_type": "code",
        "colab": {
          "base_uri": "https://localhost:8080/",
          "height": 309
        },
        "outputId": "755bdd19-467f-4b2b-dc29-1629ba0f34c5"
      },
      "source": [
        "s.run(tf.global_variables_initializer())\n",
        "\n",
        "BATCH_SIZE = 512\n",
        "EPOCHS = 40\n",
        "\n",
        "# for logging the progress right here in Jupyter (for those who don't have TensorBoard)\n",
        "simpleTrainingCurves = matplotlib_utils.SimpleTrainingCurves(\"cross-entropy\", \"accuracy\")\n",
        "\n",
        "for epoch in range(EPOCHS):  # we finish an epoch when we've looked at all training samples\n",
        "    \n",
        "    batch_losses = []\n",
        "    for batch_start in range(0, X_train_flat.shape[0], BATCH_SIZE):  # data is already shuffled\n",
        "        _, batch_loss = s.run([step, loss], {input_X: X_train_flat[batch_start:batch_start+BATCH_SIZE], \n",
        "                                             input_y: y_train_oh[batch_start:batch_start+BATCH_SIZE]})\n",
        "        # collect batch losses, this is almost free as we need a forward pass for backprop anyway\n",
        "        batch_losses.append(batch_loss)\n",
        "\n",
        "    train_loss = np.mean(batch_losses)\n",
        "    val_loss = s.run(loss, {input_X: X_val_flat, input_y: y_val_oh})  # this part is usually small\n",
        "    train_accuracy = accuracy_score(y_train, s.run(classes, {input_X: X_train_flat}))  # this is slow and usually skipped\n",
        "    valid_accuracy = accuracy_score(y_val, s.run(classes, {input_X: X_val_flat}))  \n",
        "    simpleTrainingCurves.add(train_loss, val_loss, train_accuracy, valid_accuracy)"
      ],
      "execution_count": 17,
      "outputs": [
        {
          "output_type": "display_data",
          "data": {
            "text/html": [
              "<img src=\"data:image/jpeg;base64,/9j/4AAQSkZJRgABAQEASABIAAD/2wBDAAIBAQEBAQIBAQECAgICAgQDAgICAgUEBAMEBgUGBgYFBgYGBwkIBgcJBwYGCAsICQoKCgoKBggLDAsKDAkKCgr/2wBDAQICAgICAgUDAwUKBwYHCgoKCgoKCgoKCgoKCgoKCgoKCgoKCgoKCgoKCgoKCgoKCgoKCgoKCgoKCgoKCgoKCgr/wAARCAEgA2ADASIAAhEBAxEB/8QAHwAAAQUBAQEBAQEAAAAAAAAAAAECAwQFBgcICQoL/8QAtRAAAgEDAwIEAwUFBAQAAAF9AQIDAAQRBRIhMUEGE1FhByJxFDKBkaEII0KxwRVS0fAkM2JyggkKFhcYGRolJicoKSo0NTY3ODk6Q0RFRkdISUpTVFVWV1hZWmNkZWZnaGlqc3R1dnd4eXqDhIWGh4iJipKTlJWWl5iZmqKjpKWmp6ipqrKztLW2t7i5usLDxMXGx8jJytLT1NXW19jZ2uHi4%2BTl5ufo6erx8vP09fb3%2BPn6/8QAHwEAAwEBAQEBAQEBAQAAAAAAAAECAwQFBgcICQoL/8QAtREAAgECBAQDBAcFBAQAAQJ3AAECAxEEBSExBhJBUQdhcRMiMoEIFEKRobHBCSMzUvAVYnLRChYkNOEl8RcYGRomJygpKjU2Nzg5OkNERUZHSElKU1RVVldYWVpjZGVmZ2hpanN0dXZ3eHl6goOEhYaHiImKkpOUlZaXmJmaoqOkpaanqKmqsrO0tba3uLm6wsPExcbHyMnK0tPU1dbX2Nna4uPk5ebn6Onq8vP09fb3%2BPn6/9oADAMBAAIRAxEAPwD9/KKKKACiiigAooooAKKKKACiiigAooooAKKKKACiiigAooooAKKKKACiiigAooooAKKKKACiiigAooooAKKKKACiiigAooooAKKKKACiiigAooooAKKKKACiiigAooooAKKKKACiiigAooooAKKKKACiiigAooooAKKKKACiiigAooooAKKKKACiiigAooooAKKKKACiiigAooooAKKKKACiiigAooooAKKKKACiiigAooooAKKKKACiiigAooooAKKKKACiiigAooooAKKKKACiiigAooooAKKKKACiiigAooooAKKKKACiiigAooooAKKKKACiiigAooooAKKKKACiiigAooooAKKKKACvPfjt%2B1J8FP2b5NGsfil4g1Maj4ilnTQNB8OeF9R1zVNR8lVed4bHTbee5kjiVkMkixlI96biu5c%2BhV4N%2B0P8D/j5/wANJ%2BDv2tv2bLLwfrWueH/B2seFNX8KeOdcutLtLywv7mwuxcQXtraXj288U2noCpt3WVJSCUKK1ABpf/BTL9izWLvxPb2nxXv0h8FWsk/jLUrvwXrEFjoIS0iu9l5dy2iwWsrQzRskMjrJIWKorMrKL2n/APBQ/wDZK1HwBrXxFTx/q9vB4f1ay0vVdE1DwNrNrrkV5ebfscC6PNaLqEr3AYGER27eaAxTcFYjy2b9gH4y%2BMf2a/jn8NfGHinwppHin4o/FS38daHc6U1xeWFpeW0OiywQ3IkihkkiN3pRRwoyYHGDuJVaPi79i/8AaV%2BLmr/Ef45fG34S/CjWvFnjWx8KaPp/gKy%2BI2s2Wm6fY6Hcaldw3qa7b6al5DqDXOqTOksVoPJSKNFZiWcgHsviH9vv9mzwv4a8OeI9XvvG3meK0v5NE8P2vwm8SXGuSRWUscV3NJpMWntf28MLzQq8s0CIpmiy37xM%2Bmaz8RPBHhv4e3XxX8T%2BJbbSvDljo76rf6vqrfZYbSySIzPPMZdvlKsYLNvxtAOcYNfGHin9hH9s/WPgX4X8Nay3hfxV470a58RHRfGV/wDHbxNpGr%2BCLW%2BuUktLO11q1sJLzXIYkjhEy3qw/aTbReYCFGPUfjR/wTotfj1%2Bzb4n%2BHHxD%2BOfjW78d%2BMPhfH4Z17xS3jbWho818tpDE2oJoS3y2FuzzQLK3kRRSEPIBIrSM5AOkg/4KUfsZf8K58V/FbWPite6Jo3giysr7xQ/ifwdq%2Bk3NlZXkxhtb37LeWsVxJaSyK6pcxxtC3luQ%2BEYjj/AI3f8FZP2d/hn8ENU%2BMfgPRfFXiqbQfiD4X8L674Y/4QXXbHU7A6zqVrax3T2cmnNdeV5Fw88DeT5d48aW8MhknjB8r1T/gmJ8ZPHfwq8faR4i8DeG9G8Y%2BI9D0fR7DxDqv7RfjPxut3aWusW%2BoTRyf27AfsEZ8likUSzHe%2BGkxknv8A9qH9gz40/GD4g/F/4g%2BBfEPheOTxfB8LbzwlZ6tfXMSvf%2BE/EdzrUsN40dvJ5ENwGt4VljEzrl2MfyKrgHqFh/wUE/Zb1H4m2XwZh8T%2BJo/Fd5oun6xLoF38N9egudO0%2B9adILu/SSyU6dDut5VeS68pYiFEhQum6j4a/wCCmH7FPi3wZ4s%2BIWkfGC4TR/Bfgi68Zaxe6h4S1W0Fx4et0Z5tWsVntUbVLNVQ4nsxPGxZArEugbB0P9kP4ofEP4mfG74g/G9fD2gxfGj4O%2BHfCF1Y%2BE9duNRl0u4tE11Ltlnns7XzYwNViMT7FZikm6OPA3fN37Y37Kn7UOj/ALDHxS%2BJv7TF34AtIfhD%2BxT8QfBHhePwFqF5cNrzXukWxn1G6W5toBYqE0i3CWcbXAVppCZ22oKAPrPw9/wUl/Yy8TaHrHiPT/i1dQWehppU1/JqnhLVbJmtNSu1s7HUIUuLVGubCWdgovoQ9qoDO0qorMPT9E%2BLvw88R/FLX/gvofiH7T4k8LaXp%2Boa/YR2k22zgvmuBa7pinlF3%2ByzHy1cyKoRmVVkjLfJOofsz%2BIPFegeKfjb/wAFIvF/wz8J%2BBbf9nu5%2BHUlx4f8QTLay6beyQyXmq3k17BbpYOTBbCG2QzCAmT/AEiQsuOw/wCCPngP4u2f7I9r8f8A9pDUDf8AxJ%2BL15H4n8V6g9nJbtJCLSCy01fKl%2BeH/iX2lpI0TYKSzTZAYtkA%2BqqKKKACiiigAooooAKKKKACiiigAooooAKKKKACiiigAooooAKKKKACiiigAooooAKKKKACiiigAooooAKKKKACiiigAooooAK8R0j/AIKMfse6ld69Z6n8Urzw83hzw5c%2BINQk8a%2BEdV0GObSbd0jnv7WTUrWBb63R5IlaW2MqAyxjOXXPtN7FczWcsNndCCZ4mWKYx7/LYjhtp64POO9fmJq//BHL9uX4v6t4X1z43fHHQ31vw14P1Cz1DxRqHxW8TeJx4h1v7ZpV9a6idLvoobLSbaS50xfPsLIBRHJtWWQKgUA%2B2X/b/wD2YbX4aN8WNY8QeKtK0ttcg0axs9c%2BGWv2GqanfzIZIYLLTbixS9v2kQM6/Z4ZAyo7AkIxHReA/wBqz4H/ABH1%2By8J%2BHPEOqQ6vf8AhSfxJDpGteFdS0y7TTYbv7JLLLDeW8UkDrP8hhkVZe%2BzbzXk3xO%2BDn7bvxib4e/G3XPBvwq0P4h/Cjx1NrHh/wAM2vjjUr/Rdcs7jSbvTLmO4vn0qGaxmKXskkbpa3AjMQU%2BYJGxV%2BJPwG/bg1/4y%2BHf2mvA%2BjfCu08WX3ww1XwX4x0LUvFepSWGkLcX8N1a39lcJpwk1AxCN1kt5YrQSlxiWLHIB3Gk/wDBRv8AZA8R694F8LeFfiNqus6n8SfBuleLfBunaJ4H1m9nvND1F9lrqMiQWjNa2%2B7HmSTiNbcMpm8oMCdj4a/tufs3fFf4jXPwn8M%2BL9Ws9ft9LudThsvE/gzVtEW/sbeRI57uyl1G1gjv4I3liDy2zSIvmISQGUnyj9hT9hL4sfsw6/8ADjWfHniDw1dnwd%2Byl4R%2BGN%2B%2BkXM8rNq2lvM1zNF5kEe61bemxmKu235o0wK8a%2BGn/BKv9sbxP8UfC/ib9qb4w2eqRaf4A8V%2BF/GniaD4v%2BJNavPEUur2KW39p2umX0Men6EcqWNpaKUXKgTOI1WgD6l8J/8ABRf9kfxrosfirQfHeuf2Hcarpen6f4lvfh/rdrpWoy6lex2VlJaX09mlteQS3M0UYuIJHhBlQs4VgT6X4W%2BLvw88a/EDxT8LvC/iH7XrnguSzj8T2iWkwWxkuoPtEEZlZBG7tCVkKIzMiyRlgokTd8w%2BOPAnxF8K/wDBPbxp8CP%2BChnif4VeCPAWg/DSLQLb4meHfFt2GadI0trXUntLqzgTTZlmFvJDBHcXTGcoiOTtDdr/AMEr/h98WPDf7ImlfFX9oqwS3%2BJ3xYvpfHXxEhW3aL7Pf36xmG02N8yfZbGOys9pyQLXBoA%2BjaKKKACiiigAooooAKKKKACiiigAooooAKKKKACiiigAooooAKKKKACiiigAooooAKKKKACiiigAooooAKKKKACiiigAooooAKK8Z%2BFv7bvw4%2BK/xg/4VNpPgfxTp8F7da3a%2BF/FuqWtquleI59IuhaalFZtHcPOGhm3AefDCJlikkhMsaF6ufD39rSw%2BI3xK8ZeC9P%2BCnjGw0HwLrN3pWu/EHVLjR49HF1bQRTyqirqDXpXZMvztaquQ2SAMkA9arxf49eP/wBov/hovwL8CPgL4z8FeH01/wAFeJde1fU/F/gu71ok6dd6Hbwwwx2%2BpWPlhv7UlZmZnz5aABeSbP7M/wC2X4H/AGnNRuNI0b4d%2BLvC11/wjeneJNHt/F9lawPrGh3xmW11G3FvcTFY3MDhopvKuIsp5sMfmJuyviJrK2f/AAUq%2BEOiuoxe/BP4hsrZ53Jq3g04/JmP4Um0ty4QlUdo9m/u1Ze/4Qf/AIKF/wDR0HwZ/wDDD6t/81FH/CD/APBQv/o6D4M/%2BGH1b/5qK9mopkHjP/CD/wDBQv8A6Og%2BDP8A4YfVv/moo/4Qf/goX/0dB8Gf/DD6t/8ANRXs1FAHjP8Awg//AAUL/wCjoPgz/wCGH1b/AOaij/hB/wDgoX/0dB8Gf/DD6t/81FezUUAeM/8ACD/8FC/%2BjoPgz/4YfVv/AJqKP%2BEH/wCChf8A0dB8Gf8Aww%2Brf/NRXs1FAHjP/CD/APBQv/o6D4M/%2BGH1b/5qKP8AhB/%2BChf/AEdB8Gf/AAw%2Brf8AzUV7NRQB4z/wg/8AwUL/AOjoPgz/AOGH1b/5qKP%2BEH/4KF/9HQfBn/ww%2Brf/ADUV7NRQB4z/AMIP/wAFC/8Ao6D4M/8Ahh9W/wDmoo/4Qf8A4KF/9HQfBn/ww%2Brf/NRXs1FAHjP/AAg//BQv/o6D4M/%2BGH1b/wCaij/hB/8AgoX/ANHQfBn/AMMPq3/zUVa1/wCN/wCyJ8KbTSNJ%2BOnxh%2BHPhzXNQ0WDUDbeLvENhaXdxHJkeftuHV2RnSQBumUYZ4IGb/w1/wD8E4P%2Bjovgj/4W2j//AB2uaeMwdOTjOrFNdHKKf3OSZ7WH4b4kxdCNahga84SV1KNGtKLXdSjRlFrR6ptablj/AIQf/goX/wBHQfBn/wAMPq3/AM1FH/CD/wDBQv8A6Og%2BDP8A4YfVv/moqv8A8Nf/APBOD/o6L4I/%2BFto/wD8dr07QNF%2BFnivQrLxT4W0nw/qWmalaR3Wnajp8EE0F1BIoeOWORAVdGUhlZSQQQQcGrpYnD121TnGVu0k/wAmznx2TZzlcIzxuFq0lJ2TqU6lNN72TnTgm7a2Tbtra2p5z/wg/wDwUL/6Og%2BDP/hh9W/%2Baij/AIQf/goX/wBHQfBn/wAMPq3/AM1FeefD7/go1%2Bxf4v8AA9n4w8Q/D3xPoM%2BqeONa8LaJo1z8HtbnvNWvdOuL%2BORbSKHT2e6Jh0%2BedliVzCAY5Nkiso7L4hftUfsteBbLx7aXmiRafrHgLwhrXiG8tvFngTVtJs7uz0xf9Lnt7qTTnF7bxM0QklskuiomjYI%2B9FfY800f%2BEH/AOChf/R0HwZ/8MPq3/zUUf8ACD/8FC/%2BjoPgz/4YfVv/AJqKq2H7Vn7GGofGeT9n6G8t/wDhKLfxBHoN1H/wg1%2BLCHVX06PUo7FtQa0Fos72kqTJGZQzg4UFgVGz8a/ir8FfhJ%2Bzzrv7Q%2Bj%2BEdG8Uadpdg0mm2%2BhrbSDVbppRBBaxTAFA0lwyQ7idqsxLdDQBQ/4Qf8A4KF/9HQfBn/ww%2Brf/NRR/wAIP/wUL/6Og%2BDP/hh9W/8Amop/7OHxAtvi5eeMvA/xR%2BBXhvwr4w8B%2BIIdM1/StH1FdVsZFnsba9t7m2upLS2eWN4rlVO%2BCNllilXDKFd%2BQ8KfHD4h3Hj7xV8GPiL%2Byr8OdC8Y6P4Dt/FekQW3j83elyWktzPbiPULw6TG%2BnyBoHOUguI2VJCjv5bCgDrP%2BEH/AOChf/R0HwZ/8MPq3/zUUf8ACD/8FC/%2BjoPgz/4YfVv/AJqK8Gvf%2BCmnw4tPgfZ/FqT4Q/Ca3guvibdeDz4y1H4mxQeAiYNNN8b6PxF/ZjeZAzA2Sn7IM3qSwZ%2BTe3oPhv8AakvvEeqfs76sf2RtH07wv8eUFvNqGq6ykWpeH9Qbw/qmtpB9hFkVuYvK0t0MpnhYGdCIzhgADuP%2BEH/4KF/9HQfBn/ww%2Brf/ADUUf8IP/wAFC/8Ao6D4M/8Ahh9W/wDmorndd%2BLfxL8Mftg%2BFP2a9W/ZW%2BHU%2BjeL7LXNSsfEGmeOJpdQtNM06KEG7ubB9HjjjD3N3Y25Vbp9pudwL7CDgfB79p/xT8adf%2BJHws8Efs4/CXW/Gvw9/stJ18LfE86j4f8AtN1cXMM9hd6mNISSzvrVbV5ZrX7LK6pNbnOZcKAeg/8ACD/8FC/%2BjoPgz/4YfVv/AJqKP%2BEH/wCChf8A0dB8Gf8Aww%2Brf/NRXmuuftY%2BJ7f9lHxP%2B03oX7Lvw2C/Dy%2B8TW3xDstd8ezWtnanRZporiTT7uDRrg36M1vIBvht2VhsZQ4ZVdJ%2B2RpC/GDwR%2Bz9qPwR%2BF/h7xprPhfQdV8Y6D41%2BI8GmS6dcakZAdM0pf7Pkk1m8h8icsmy2UjyMspmwgB6R/wg/wDwUL/6Og%2BDP/hh9W/%2Baij/AIQf/goX/wBHQfBn/wAMPq3/AM1FY%2Bg/Gu7Hx/8Ait8FvG/7L2j2tv8AD7wTpfirw/e%2BHtSXUrzxDZXs%2BrQLGbQ2kItrjfpMm2NZZg/npllIIrwTw9/wVe8B%2BIf2evF/xysvgN8KLmPwxf8Aga2Ooab8U4p/D1u/iTWItNNvqWq/2Wp06808SrcXlv8AZ5fKjlg%2Bc%2Bb8oB9J/wDCD/8ABQv/AKOg%2BDP/AIYfVv8A5qKP%2BEH/AOChf/R0HwZ/8MPq3/zUV5x4%2B/a4m8LeHPBSeEvgF8KvE%2Bu%2BKvA/iHxjcy6X8S0/4R6PR9Iks1ne01U6Xm9mdb%2B2ZENvDGAJi8yLGrPzesf8FLfg3J8a/A3w38D/AAS8K3%2BmeOrPwleaIuq%2BIYrHxBq9przgR3ulaT9kk/tG1s42868l%2B0ReRHFOdreV84B7X/wg/wDwUL/6Og%2BDP/hh9W/%2Baij/AIQf/goX/wBHQfBn/wAMPq3/AM1Fec/B79srR/i38QNP8Fxfs6eD9Ni8a6f4pn%2BFkk/ilJLrVpdCvUs7mHUbdbD/AIlhd3V1Mb3exVkEgSRVifkj/wAFJfAlr8I/FHxCvfgx8Krg%2BGPiBpvha68U6L8So7vwRDJdwrIbi58QHTE%2BzJAWEM4Nq3lzSwRknzcoAe5/8IP/AMFC/wDo6D4M/wDhh9W/%2BaiqHgfxx%2B1Z4O/as8OfBH43fEf4e%2BJtG8TfD3xDrkM3hX4eX2i3VpdabfaJborPcavfJLG6apKSoRGDRIQ2Mg3P2fPih4W/aM/ZYsv2hNL%2BGmm%2BH5tTsdQlsxp06XMLfZrieGO8s7tYojc2k/krcW8%2BxPNgmicou/aH%2BOP%2BUhfwv/7Iz48/9O3hCgD2aiiigAooooAKKKKACvnH4TeKv27/AI66Pr3jvwv8b/hJoGl2/wAQvFWh6XpV/wDB/VL%2B4itdL16/0yFpbhPEUCyyPHZq7MsUa7nICgAV9HV4z%2Bwf/wAkQ1z/ALLN8R//AFNdboAP%2BEH/AOChf/R0HwZ/8MPq3/zUUf8ACD/8FC/%2BjoPgz/4YfVv/AJqK9mooA8Z/4Qf/AIKF/wDR0HwZ/wDDD6t/81FH/CD/APBQv/o6D4M/%2BGH1b/5qK9mooA8Z/wCEH/4KF/8AR0HwZ/8ADD6t/wDNRR/wg/8AwUL/AOjoPgz/AOGH1b/5qK9mooA8Z/4Qf/goX/0dB8Gf/DD6t/8ANRR/wg//AAUL/wCjoPgz/wCGH1b/AOaivZqKAPGf%2BEH/AOChf/R0HwZ/8MPq3/zUUf8ACD/8FC/%2BjoPgz/4YfVv/AJqK9mooA8Z/4Qf/AIKF/wDR0HwZ/wDDD6t/81FH/CD/APBQv/o6D4M/%2BGH1b/5qK9mooA8Z/wCEH/4KF/8AR0HwZ/8ADD6t/wDNRR/wg/8AwUL/AOjoPgz/AOGH1b/5qK9mooA8Z/4Qf/goX/0dB8Gf/DD6t/8ANRR/wg//AAUL/wCjoPgz/wCGH1b/AOaivZqKAPGf%2BEH/AOChf/R0HwZ/8MPq3/zUUf8ACD/8FC/%2BjoPgz/4YfVv/AJqK9mooA8Z/4Qf/AIKF/wDR0HwZ/wDDD6t/81FH/CD/APBQv/o6D4M/%2BGH1b/5qK9mooA8Z/wCEH/4KF/8AR0HwZ/8ADD6t/wDNRR/wg/8AwUL/AOjoPgz/AOGH1b/5qK9mooA8Z/4Qf/goX/0dB8Gf/DD6t/8ANRR/wg//AAUL/wCjoPgz/wCGH1b/AOaivZqKAPGf%2BEH/AOChf/R0HwZ/8MPq3/zUUf8ACD/8FC/%2BjoPgz/4YfVv/AJqK9mooA8Z/4Qf/AIKF/wDR0HwZ/wDDD6t/81FH/CD/APBQv/o6D4M/%2BGH1b/5qK9mooA8Z/wCEH/4KF/8AR0HwZ/8ADD6t/wDNRR/wg/8AwUL/AOjoPgz/AOGH1b/5qK9iurq1sbd7y9uY4Yo1LSSyuFVAOpJPAFeTePv2%2B/2JPhhLJa%2BOP2rvANlcQ/62zXxRbTXCfWKJ2cf981jWxGHw8b1ZqK82l%2BbR6OXZPm%2BcVfZ4DDVK0u1OnOb%2BahCVvnYrf8IP/wAFC/8Ao6D4M/8Ahh9W/wDmoo/4Qf8A4KF/9HQfBn/ww%2Brf/NRXm%2Bo/8Frv%2BCdqXj6Z4V%2BL%2Bq%2BJbtDg23hzwXqlySfZvs4Q/g1Qj/gsJ8E5B51t%2BzX8eZrc/wCrvIvhXcmJx6gl84/CuB57k19K8X6O/wD6SpH10fCrxJcU5ZTXhf8AngqbfoqtSk38kenf8IP/AMFC/wDo6D4M/wDhh9W/%2Baij/hB/%2BChf/R0HwZ/8MPq3/wA1FeY/8PgPhBc/u9B/ZX/aA1WXvBp/wpnZwfTDSKKUf8FW7qX57b/gmr%2B1W6H7rn4Shcj1wbml/bmU9Kqfopv8qbH/AMQr8QV8WAlH/FUw8fwli4v8D03/AIQf/goX/wBHQfBn/wAMPq3/AM1FH/CD/wDBQv8A6Og%2BDP8A4YfVv/morzA/8FK/jj4oP2f4Vf8ABLX473k/Tb4u0m20KPP%2B/NI4x70o/ax/4KqXI8%2B2/wCCTdlFG/KR3Hx00neB23Yixmj%2B2sC/g55f4adR/wDtiD/iGXFVP/eHh6L7VMZg4P7niZs9O/4Qf/goX/0dB8Gf/DD6t/8ANRVv9lb4jfGnxhrHxQ8CfHTX/C%2Brap4B%2BIUWh2eq%2BE/DVzpNvdWsug6Pqas9vcXt4yyLJqMqFhLtKxodqnOfJv8AhpD/AIK3at8un/8ABNnwnpB/var8YrS4H1xDGDXQ/wDBOvV/jLrut/HnVv2gvCOj6D4vm%2BM0H9raToN%2B11aW%2BPCPhsRBJWAL5hEbN6MzDtXRhsfSxU3GEJrS95QlFffJLXyPHzvhLH5DhY18RiMPO75eWliaNaezd3GlKVo6ayva7S6n0nRRRXcfLhRRRQAUUUUAFFFFABRRRQAUUUUAFFFFABRRRQAUUUUAFFFFAHyh8Jv2Qf2kPht8TfDLXi%2BCL7wj8Mtd8Van4Gkj8RXkWoas2t37yKl7GbFo7QWdpdXcWY3uPtUgic/ZhuFSeL/2GvEfxI/aib4l/wDCnfhp8PtGln1tfFXjHwTrE8niLx3ZXul3NhHZ6lF/Z1vGiI88N3ue4uysthAEChmI%2Bq6KAPnL9jr9mj9oD4b%2BOLXx7%2B0VfeETeeG/hbo/gPw%2Bng/Ubm4S/gs5ZZJ9TuBcW8P2aScm322iecsPlP8Av5vMGzjvip4L8O/Dv/gsX8CvEekap4glu/Gfwz%2BI6ahDqvi3Ub61jaKbwzIotba5nkgsVODuW2SJXwu4NtXH19Xxz%2B19q/8AZn/BYz9jW2LYF94V%2BKNuf/AHRpAPzjFc2LnyUb%2BcfxlFfqe3w9h/rWZez/6d1n/4DQqy/wDbT7GooorpPECiiigAooooAKKKKACiiigAooooAKKKKAPM9S/Zk/Zt%2BNGj6D4p%2BMX7PfgfxZqdv4ftbWDUfEvhOzv544FUusSyTxswQM7sFBwC7HGSapf8MD/sK/8ARlnwl/8ADc6Z/wDGK5P4vf8ABSD9i/8AY%2Bl8OfDT9ov4y/8ACO63feFLPU7Wy/4R3UbvfavviWTfa28iDLwyjaWDfLnGCCeQ/wCH5v8AwSy/6Oi/8snXP/kKvFxGL4dp15RrzpKaevN7O9/O6vf1NF4h4jKl9UjnE6Sp6cixNSCj1soqvFR32UVvtqet/wDDA/7Cv/Rlnwl/8Nzpn/xivTtA0DQvCmhWXhbwtotppumabaR2unadp9ssMFrBGoSOKONAFRFUBVVQAAAAMCvlb/h%2Bb/wSy/6Oi/8ALJ1z/wCQq%2BnvAPjrwr8UPAmi/EvwLqn27RPEWkW2p6Pe%2BQ8X2i1uIllik2SKrpuR1O1lDDOCAeK6MDiMnrTksHKm2lryct7efKlpfuKXF1XiT91PMZYnk1s686vLfS9pValr7XSV9r9Dwn4YfsL%2BK/AHjzwprWp/GfTdQ0HwP8UPFXi/w1pcPhCSC7C67/azz2lxcm9dJTFLqrFJUhi/dwhGQsxkHketf8EYZde8U%2BPfEl58dvDsVx4y8BeP/C/9tWvwvRNbuY/E0iuLjVdRN8X1R7LaI4UC26eWNu1MBh7tYft%2BfCPV9OsZtJ8KeI5r660XxbqV3pMv2C3l0tPDl6thqMd3JPdpBAwu3SBGaXy2JLF1jV3XhPBv/BT7wP8AHab4caj8BILOWx134z6j4G8bwX99Y6lLp5t/Bur%2BIUNtc6VfXFnK7G0sDvSeZAk00bBJVPlekQddJ%2BwwH8Q6rr4%2BKGDqfx10n4jmIaJ/q/sWkafpv2DPn/Nv%2BweZ52Bt83b5bbdzd58a/gdqH7QH7POu/BLx/wCMYre/1qwaNPEGh6WYBZXSSia1uooJZZctDKkL7WdldoznAbA%2BePFv/BVaV/gh4U8a/CL4U6/4jvdUg%2BHsniPxTL4fgt9G0VvEl3pypBcwDUmuY7hrW981UgN1FA00HmzMpJb6Q%2BMPx48P/CT4BePPj7daNqVzY%2BAvD%2BsapfWVxp81pLcDToZZZVjE6KWVvJYJKoaNwQyMykEgHO/AX9n/AOKHwp1fxF478a/FrQ/EPirxx4ti1bxpqNl4PmsLSS1g0yKwt7Kxt2vpmtNn2eCUySy3JZmuBtUSp5PGfs4fsnftXfAvR/G%2BpeJP2n/APijxp40vf7Ru/Gs3wivbe4lvRIBEtzGddkEtnDbj7PDawm3EajcHLtIz7X7LXxs%2BP3iH4qeJvgN%2B0qPCNz4i0bwV4d8V2upeC9KubK0FrqsmpQGyaO5ubh3lt59LmzOHRZUmjIijIZa5bx/%2B05%2B018GPjZ4k%2BHfiGf4feNYoPhX4k8aafpOhabcaLP4fSxlhXToNSvbq%2BngdL3fPGJzHagNZTsqOiSGIAji/YH%2BMOn60nxe0n9pLQF%2BI7/Eq88YXt9d/DqWTw3JLcaFDojQR6SuprNFttreOQTfbWk8552YskxiDZP2B/jN4S8O/s/8Agr4N/tG%2BGNM0j4Fap/agTxN8NrjUZ9avH0nU9Klw9vqtpHaQG31W4McKxv5bxw4ZkQxt5V4M/wCCnfx91f4c61qniDU/Bemiz8ReFrO4%2BIHif4a614bsPDVpqtvcTTXeo6PqN6t21rE0EcEV99ogtriS7%2BV1W2lJ6y9/bv8Aj14s/Ya1D9sn4YeOfhnFD4OuvEmnaza6l4R1K6i8ZajpuqTadZxaUYr%2BN7RdQeBPIDLevuvYUVZiuZAD6F0/4BXtn%2B0b4t/aQufGyXGpa14M07w34as5NL/d6DbW8t1cTOD5v79rie5RpOI/ltIE527j5Z4r/Yz/AGrPF1p8Q/Gw/bI0DQPiP438JaV4YsfFfhT4Yz2lnpGnWl3czySC0k1aWaa8kW8uY1uPtSCDcjRxhlYyUfGH7aHx30f4ua3q9h4b8MWnw/8ABPxV8HfDzxZol/YXEut3Gp6/Fo7LdQXaXKwRRW8niDTVaJreUyiO5IkjwgPOeIP%2BCj3xim8RfGvxJ4B%2BH/hq98FeDPhBJ4r%2BGVze3EkNx4glgub21lu5pmlWIWUktq3kKqhpYo1mEpW5RYwD05/2LNa1v9lPw1%2Byj4n8b%2BFrLRNF8Q6RPqNt4M8E3GnWV/pFhfQ3n9mCC41G6kTzzAsc07TSGRJJcpucsM79oz9gGT44fFXxB468O/EvTPD%2Bm%2BPdG8P6V8RbK48Jfbb69t9H1Ce9tGsLz7VELCYm5kRpHiuQAsTxrG6F281%2BF37fH7S3xXNr8JfDF54QTxbrXxdPhTR/FniD4Y61okNtYx%2BGm12e6u/Dd/fJqMEgMT2saS3MQmEiXK/ugA%2BdL/wVU8Va1deFfCd94n8I/D7UbTwbNrnxK1zWvAuseItOtmg1m80eURCxng/s%2BzFxpt7I%2BoXkvlQI1sGVjIWUA9k8QfsffGzxj%2B0j8SPit4m/aF8PxeEviN8NrfwVceHtD8B3Vpq%2BnWVs2qyW88OqHVZI/tKyavOzP9kCkRxBVjIZ2pfCX9jP9oD4TXGs%2BOrD9ofwPc%2BNLzwh4d8K6Tej4TTQaPa6VpEt5JD52nxasJJ7lzezDzVuYo4wkYjhUBw%2BZD%2B2Z8cD8dIb1tI8Kv8ADO9%2BMV98NrPTRYXCa0l7baZPOdSe7Nz5Bha9tpbb7N9nDLG6T%2BeSDDXjfwq/4Ks/tJeLvhF4i8ceIPDvhKO7t/CfhDWRdXfgbV9ItfC41jWPsF7NMt1dM2v6bp8Ba7bVbF4bOdLd9rorGSMA9i8Q/wDBOXX9Y/Z/tfgoPiF8Pb%2B7uvFuueJPEGueKfg7Fqi22o6pdzXUlzottJfLHpUsLzy%2BS8hu8ZDSCVt7Omp/8EzvsWv23hv4d/GG10j4cm88FXF94YvfCrXmqQ/8Iw9s1hBY6mbtBZwN9jg8xGt5mBe4eN4nmLLxOp/8FSPGd1%2ByZ498S/Ci78FeOfib4X8Q67o2g6lo9lcxeHdXj07TYNVm1sQ/aZJVsY7K5hyFuWWWd4Yo5wLmJ66P4g/t0/HrRtWvvGPhbR/CK%2BEPAOi%2BC7z4gWN/pd1JqGqSa5OFuBYTJdJHaLaW7RzL5sVwbh2MWYNvmsAdhoH7CmqaP%2B0j4j/alTxF8ObDxTNpms2/hC68M/CYac8NxfMmy91mUX7y61cQxxRxKwe0UrJcfKplUxZWq/sFfGLxHr198YvEH7Segn4jz%2BNtG8RWl9p/w7lh8OK2m2V1ZQwz6U2pvNcFo7yZ2lN6riSK0ZSgtkU9d8P/AIt/tG6t%2B1d8Yv2evE%2Bo%2BCZ7Xw74D8O%2BJfh7dWGhXkEluNVvPENqINRZ7uQXWw6NA5eFLfiaRdpwrV5X40/bA/bF8G%2BA/ivoeiQ%2BEfG3iX4eeNfBejp4t8F/C7Wb2wRNU1Ozh1eF9FttQnu7q502wnN46wXXKzQ5VCkikA9w%2BCnwHf8AZv8A2Z9R%2BGV14rXW7x7jxBrWq6nDpwsoJb3U7%2B81K5EFsHk%2BzwLNdyLFFvcpGqBndgXah44/5SF/C/8A7Iz48/8ATt4QrW%2BEPxPj%2BMH7Mb%2BOj8R9G8V3E2n6lBf6xoXhm60WA3EMk0MsDWF5PPcWc0LoYZYZpDIskbhgh%2BRcnxx/ykL%2BF/8A2Rnx5/6dvCFAHs1FFFABRRRQAUUUUAFeM/sH/wDJENc/7LN8R/8A1Ndbr2avGf2D/wDkiGuf9lm%2BI/8A6mut0AezUUUUAFFFFABRRRQAUUUUAFFFFABRRRQAUUVy3xF%2BOPwW%2BEFsbv4sfF3wx4ZiC7t/iDXrezGP%2B2rrmpnOFOPNNpLu2kvvbRvhsLisbWVHD05Tm9oxjKUn6KMZN/JM6mivl3xf/wAFkP2APD2pHw74V%2BLt3411g58nR/Avh281OaY%2BiPHH5R5/26yk/b5/bR%2BJ7CX9nP8A4Jb%2BOJrFuRqXxM8Q2fhpgvYi3l8x2z7GvMlneV83LCpzvtBOb/8AJFJfe0fbUvDDjp01VxODeGg9VLEzp4aLXl9YqUpP/t2nI%2Bt6K%2BSpfil/wWb8VIbHQP2V/g74Ukm%2BVL7xF43uL%2BO3/wBpktVDPj0FRr%2Bwr%2B3B8YW%2B2ftPf8FK/FlhDJ10D4O6XDoEVv6qLvDzSj3dc0v7Uq1NKGHqSfmlBffN/lFmi4FwODXNmuc4SjHtTqSxU36Qw0Gv/AqsUfWtzdWtnEZ7y5jiQdXkcKPzNYer/Fj4WeH4mn174leH7FE%2B%2B95rMEQX6lmGK%2BbbT/gip%2BwfqMw1D4qeF/Fvj%2B/H/MT8aePNSuZie5/dTRrk/wC7W9pP/BH3/gmtosiy2f7JugOU6C7u7u4H4iWZgfxo9tnctqNNetST/wDSYW%2B5i/s7wuo6TzHF1GusMJSgn6e0xTl/4FH5HY%2BOP%2BChv7Cvw6tJLrxX%2B1z8PYjF/rLe08U211OP%2B2MDvIfwWvLW/wCCyX7NfiWVl%2BA/wj%2BMPxTiUkfavh98NLu5iJ6Y3T%2BSfxxXsfgr9h79jT4c3UWoeB/2VPh5pt1CcxXtt4PsxOp9pTHv/WvUIoooIlhhjVERQqIowFA6ADtR7LO6vxVacP8ADCUn985JfgP694X4FfucDisU/wDp9iKVCP8A4DhqVSf/AJOj5Mb/AIKHftWeKx5Xwk/4JS/Fe8lf/UjxjqVloCH/AHmmZ9v40h8d/wDBaL4kfJ4d%2BA/wU%2BG0En328V%2BJ7zWLiJf9n7EBGzfXivraij%2BzsVP%2BLiqj/wAPJD/0mLf4i/1zyLC/7jkOFi%2B9V4jEv7qtenD/AMk/yPkpf2V/%2BCrPiM/2p4g/4KmaV4fuG6ab4d%2BC2nXNrH9HuZBI340v/DIv/BVD/V/8Pe4sf89P%2BFA6Lu/LzcV9aUUf2NhOs6n/AINqf/JfoH/ESs/WkcPg0ui%2BoYKy9L0W/vk35s%2BSm/YY/b88Sf6H8Rv%2BCuPiu5sz9%2BPwz8NdL0ac/SaJmI/KlX/gkV4A1MfafHP7ZP7Q/iG8fmW71H4pygn2CxxKFX0HavrSij%2BxMtfxxcv8U5y/Of6B/wARR42p6YavCgv%2BnOHwtH/0jDX/APJj5Ng/4Iu/sValcpL8TF8eeOYYmDQ2fi/4g6hcQow/i2xyR5%2BhyPavWfh/%2Bwd%2BxZ8LYo08C/sq%2BAbGSL7l0fC9tLcfjNIjSH8Wr1mitqOU5Xh5c1OhBPvypv73d/iedmPiDx3m1L2WLzTESh/L7WcY/wDgEHTh6%2B7r1uQabpemaPZpp%2BkadBa28YxHBbQqiKPZVAAqeiivQSSVkfIylKUm5O7YUUUUCCiiigArxn9l/wD5Lf8AtHf9lmsf/UK8L17NXjP7L/8AyW/9o7/ss1j/AOoV4XoA9mooooAKKKKACiiigAooooAKKKKACiiigAooooAKKKKACiiigAooooAKKKKACvhb/gohqf8AYv8AwVt/Yh1PdjMnjy2z/wBdoNGix/49X3TX57f8FatT/sX/AIKWfsOaluxnxprdtn/rteeH4sf%2BPV5uby5MvlLs4/8ApdM%2B08PaH1ni6hR/mjXX34XF/wCR%2BhNFFFekfFhRRRQAUUUUAFFFFABRRRQAUUUUAFFFFAGV4G/5EnR/%2BwXb/wDota1ayh4M0NMrA19CmSRFb6tcxovsqrIFUewAFL/wh%2Bk/8/eq/wDg8u//AI7QBqUVl/8ACH6T/wA/eq/%2BDy7/APjtH/CH6T/z96r/AODy7/8AjtAHh/iD/gmn%2Bz54l8R/GbxLqGr%2BJhL8bdOtrPXLdNRh8nRBEpLSaahhIgaaci5mEvmpLMqllK/IX%2BCv%2BCd3w58LeLo/iF4g%2BMXj7xT4gPxOk8d3mseIL3T/ADLvU28Kz%2BF/LZLWyhiS3FhOWWOJI8TIjZ2bo29t/wCEP0n/AJ%2B9V/8AB5d//HaP%2BEP0n/n71X/weXf/AMdoA%2Bcv%2BHUnwYs/C%2BgeAfDnxn%2BJGkeHdIsfCEOqaDp2p6eIPEE3hprU6Zd3jPYtKJttlbJL9neCOVIlDJ8q4%2BgdY%2BHWkeLfA%2Bu/Dr4hX1z4j0nxFDfW2pWuqRwqGsroOr2Y8iOMGJY3MalsyFQN7u2WNz/hD9J/5%2B9V/wDB5d//AB2j/hD9J/5%2B9V/8Hl3/APHaAPM/gd%2Bx7pfwLk1LWdO%2BOfjvxBr%2BqQ6LY3XijxNPps98dI0qSV7TSR5dlHF9mH2i7DOYzcsbyZzP5hWReZ8Pf8E6vBdhL8V7Dxp8fPiF4v0L40RarF488OeI/wCxjDdRX0BtjCl1babDfJFBbH7PBH9pKRRgDBPzV7l/wh%2Bk/wDP3qv/AIPLv/47R/wh%2Bk/8/eq/%2BDy7/wDjtAHkvhT9i6%2B8Hx%2BJdf079rH4oT%2BNfFFlpOn3nxFvRoUuqwadpr3L2tlFEdK%2Bw%2BUHvb1iz2rys11IxkJCFcHxR/wTe8GaxZ/Dy08J/tEfEjwx/wAK51PVNYsG0t9FvBqut6hM81zrF7HqWm3Uct6ZZ7qRZEWMRtdzFFXcu33j/hD9J/5%2B9V/8Hl3/APHaP%2BEP0n/n71X/AMHl3/8AHaAPKPEX7DXw98UfGVPi9qnxF8XeRca5pGveIfCEVzZLpOva3pkccdjql0n2XzxPELe0IWGaKFmsrctE3liuV1T/AIJGfsDyeJfE/inwX%2Bz94c8GXPinwL/wi93/AMIN4d0/SfskAuHuPtdu1vbq8d15jJmQsVIgiBQhefoH/hD9J/5%2B9V/8Hl3/APHaP%2BEP0n/n71X/AMHl3/8AHaAPEX/4J6%2BE7iGfxJf/ALQXxFuPH8ni%2B38SW/xTkk0caza3cGnSaZGkcK6cNOEP2Ke4gMTWbKwuJHOZCJFp%2BKv%2BCYvwO8QfD%2Bw%2BGei%2BPfGvh/Sv%2BEHm8H%2BLV0bUbQzeL9FmlkmnttRluLWV90ks93I09sbecNeTlZF38e9f8IfpP/P3qv8A4PLv/wCO0f8ACH6T/wA/eq/%2BDy7/APjtAHkdz%2BwN8I774yT/ABS1DxX4nn0mfxBceIR8PJLq1GhR61PpjaZNqKotuLkSNaySr5RuDbiSV5hEJT5gpfCr9gPRPg/p0y%2BFv2kviXNq1t4Ns/CfhPxFqM2jzXfhfRraUSx2lmp07yZclIw8t5FczOI03OSM17T/AMIfpP8Az96r/wCDy7/%2BO0f8IfpP/P3qv/g8u/8A47QB4l4s/wCCZP7I/wATvg1qXwj%2BOHw4sPiDd6s%2Br3F5438caFpuoa2t/qSKl1fwyva%2BVazlYrdV8iKONFtbdFjCRIoZd/8ABNb4Cpqehx%2BFNc8Q%2BG/Dul6X4f0/V/A/h37BbaR4hh0S6a600XkX2QunlTMS32WS3Ey4jmEsaqg9w/4Q/Sf%2BfvVf/B5d/wDx2j/hD9J/5%2B9V/wDB5d//AB2gDymD9jfU7X9ofxt%2B0dZ/tYfEyHUvHHhK38O3WjRQeH1sdNs7V9QksTan%2ByftCyW0uqXksbyzSbmkAmEyoqin8EP2INT/AGfPgW/wH%2BHX7X/xQjs45YpNM1y6svDMmo2DiWSW4kDjRhHdS3UkjvPNdxzyyOS4dXZmb2L/AIQ/Sf8An71X/wAHl3/8do/4Q/Sf%2BfvVf/B5d/8Ax2gDivh78DfDP7PnwM1rwN4c1zVtWkun1bVtY1zXp45L3VNQvJJbi5uZjFHHEGeSRiEijjjRQqIiqoUYXjj/AJSF/C//ALIz48/9O3hCvUT4M0N8LO19MmQTFcatcyI3sytIVYexBFeXeOP%2BUhfwv/7Iz48/9O3hCgD2aiiigDz/APar%2BNVz%2Bzn%2Bzf42%2BOOn6Cmq3nhjw5dX2n6ZLMYo7u6VD5ELuASiNKUVnAJVSTg4xXm/g39pP9oPwt4a%2BNnhP4p%2BFtD8a%2BO/hLocesaXD4D0e50638Sw3GmPdW1tHbT3F3JDObiC4t8ebIGAjkAUuY19m%2BLnws8G/HD4WeIvg38Q7CS60LxTotzpWrQQzNFI1vPE0b7HXDRuAxKupBVgCCCBXE/B79lNPg/d63r0Xx78deIde8TztN4l8R%2BIP7Ka71FltIrW13C3sIYolto4sxJDHGpeSV5RMzsaAPEv2fP27/iV8etL%2BJHgbwn8cfhp4j8QeCfB3h7xTH428C/DfV9X0tLfUZNQWbTf7Kt9Se7u72A6XMCIbhXJuYlMCvG8RzPCH7ef7WHxj%2BH/AIY074UaT4EsfFt14Z8ceIdWv/EvhrUUtL600DV4tNt7ddPN5HdaVcXpnSR47mSWWwMckUsMsgwPcvDn7H194ZsvEes2X7UnxIl8ceKX0%2BPVPiXcR6E2rfY7LzTbWKQ/2WNPS3Q3F0wQWmS91K5Yu24czrP/AATV%2BGOoeErDRNF%2BNPxE0TWoU8Qxa3410nUrBdV16DXbiO51aG6aSyeBFnmhgcG2hgeAwRi3aEDBAPVPBn7QHw68Rfs76D%2B014n8QWPhjwxrXhSx1%2Ba/8QahFbQafbXMEcy%2BdNIVRMCRQWJAzXB/8E6fE/hrxr%2BzdfeMPBviGx1fSNU%2BLfxDu9M1TTLtLi2u4JPGetNHLFKhKyIykMGUkEEEGvZvC/hnQfBfhrTvB3hXS4rHS9JsYbLTbKAYS3giQJHGvsqqAPYV5P8AsH/8kQ1z/ss3xH/9TXW6APZqKKKACiiigAooooAKKKg1TVNM0TTbjWda1GC0s7SB5rq7upVjjhjUFmd2YgKoAJJPAAobSV2OMZTkoxV2yevI/wBpL9uv9lb9k2ARfGr4u6fY6pKB9j8OWRN3ql0zfcVLWENJ8xIAZgFyeWFeCeI/jz8ef%2BCmXi%2B6%2BFH7GPinU/BHwd0y9Nv4w%2BNVqrQ3mtOjYey0XOCBkYa57dsABZvcP2bf%2BCfn7J/7Ks51v4WfCu1fxBKS154u11zf6tcyN992uptzoW6kR7FJ/hrxljsXj21gYrk29pK9n35Iqzkl/M3GLe3NufpEuFuHuFIRlxTVqPEtc31ShyqpFOzj9YrT5oUJSTv7KNOrXjFpzVNtRXkkPx8/4KXftdzK37NnwKsPgr4OkYMnjT4s2/n6xdR9Q0GlxnERPH%2BuJVgchgavf8Ma/wDBSrxB/wAjl/wVpvYYm%2B/a%2BHvg/pVoVHcLLvLfiRX1pRVLKI1NcRWqTl/jcF8owcUl978zCfiHXwj9nlGX4TDUlsnh6eIn6yrYqNWpKXdpQXaCR8kn/glEPFnz/Gv9vj9oHxar/wCv08%2BPfsNjIO4MEEQx%2BDV1Hw6/4JIf8E7fhrcDUNO/Zg0PV7wtvmvPFck2rvK/dmF48i5PsoHtX0dRWkMlymEub2MW%2B8ryf3zcjmxPib4gYmi6P9pVadN7xpONCL9Y4eFBP539TK8I%2BBPA/wAP9MGi%2BA/BulaJZjGLTSNOitoh/wABjUD9K1aKK9KMYxVoqyPiqtWrXqOpVk5Se7bbb9W22/m2FFFFMzCiiigAooooAKKKKACiiigAooooAKKKKACiiigAooooAKKKKACvGf2X/wDkt/7R3/ZZrH/1CvC9ezV4z%2By//wAlv/aO/wCyzWP/AKhXhegD2aiiigAooooAKKKKACiiigAooooAKKKKACiiigAooooAKKKKACiiigD4/wD2cf2i/j/4n%2BNHgTxd40%2BKc%2BreHfix4i8daXH4Hk0ixit/DK6PfTpYyW80UC3Lt5Fo8dz9olmDTXCtGIFXy253RP8AgpHa/FL/AIKd2v7Pvw%2B/aX8GQ%2BGYtG8XeHo/AEeq6a%2BrX/iPSpbANdzI5NzBiSS%2Bt4Lf5BItjcTkSxvE0f0bof7FP7OPhj4i6r8VvDnhDVLDXNXlu5Zri08YarHFaPd3cV5etZwLciGwN1cQxy3BtkiNyykzeZubPYeKvhD8PvGnjXS/iL4i0OSXWtF0fUtL0vUIr%2BeF7e1v/s/2pFEbqMv9lgw5BdPL%2BQrlsgHhH/BOD4m/G/VfDcvwl/a68WfEmT4v6V4P0HVvGGhfEHTvDUUNu11HPE9xpsvh%2BJYJbWS6trtAssjzR%2BQm5Yw4L/MH/BYf4neG/Ef7d/7NFtpOm%2BIYbzwB4su7u/uNV8I6jY2jk634YQNa3VzBHBegZOWt3kC5G4jcufv34M/szfCH4C6pq/iD4f6brU2ra7DbQ6trnijxfqeu6hcwW/mmCA3ep3FxOIYzPOyRBwitNIwUF2J%2BI/8AgvB/oPi74ZeKun9heFdav9393b4o8FJn/wAfryc9/wCRPXfaN/ucX%2Bh%2BgeFWviPlcP56vJ/4MhWp/wDuQ/RqiiivWPz8KKKKACiiigAooooAKKKKACiiigAooooAKKKKACiiigAooooAKKKKACiiigAooooAKKKKACiiigAooooAKKKKACiiigArxnxx/wApC/hf/wBkZ8ef%2BnbwhXs1eM%2BOP%2BUhfwv/AOyM%2BPP/AE7eEKAPZqKKKACiiigAooooAK8Z/YP/AOSIa5/2Wb4j/wDqa63Xs1eM/sH/APJENc/7LN8R/wD1NdboA9mooooAKKKKACiivmD9r79sz4hQfEeD9i39iXTbTX/jBq8Al1LUbhRJp3gqxbG6/vjgrvwwMcJBLEqSrbkjl5cXi6OCo%2B0qeiS1cm9lFdW/%2BC2km17nD3DuZcTZisJg0lZOU5yfLTpU46zqVJvSEIrdvVtqMVKcowl7b8cf2hPgp%2BzZ4Jm%2BIfxz%2BJOleGtKiVts%2BpXIV52Az5cMYy80mOiIGY%2BlfJ%2BmeCvjv/wVr1ODxZ8YNO1n4d/s5xzrPo3goytbax47VW3JcXzIc29mcBliU5YfMCfklHpPwQ/4Je/BjwX4xi%2BNP7Q/iTVvjL8R%2BGfxZ4%2BcXEVo4OdtnZnMNsgPKjDMn8LDpX0rcXNtZWz3V3PHDDEhaSSRgqoo6kk8AV57wuMzL/fEoUv%2Bfad3L/r5JWVv7kdH9qTWj%2Bwhn3DfBMZf6uyliMbt9bnDkhS7vC0pc0lPtiK3vxWtKlTk%2BeNLwl4S8L%2BAvDNj4L8E%2BHrPSdI0y2S307TdPt1igtolGFREUAKAOwrRoBBGQaK9lJRSSVkj82qVKlao6lSTlKTbbbbbbd2222222222227thRRRTICiiigAooooAKKKKACiiigAooooAKKKKACiiigAooooAKKKKACiiigAooooAKKKKACvGf2X/wDkt/7R3/ZZrH/1CvC9ezV4z%2By//wAlv/aO/wCyzWP/AKhXhegD2aiiigAooooAKKKKACiiigAooooAKKKKACiiigAooooAKKKKACiiigAooooAK/PH/gvRpb6r4P8AKiyHg%2BCHii5Rh1UxeK/AkmfyU1%2Bh1fDH/BY7SP7btb6z252fsz/ES4x/1y1fwdL/AOyV5ucw9plGIj3pz/8ASWfa%2BG2I%2BqeIuTVv5cXh3/5Wpr9T7b8P6omt6DY61HjbeWcU649HQN/WrlcZ%2Bznq/wDwkH7PfgTXt%2B77d4M0u43eu%2B0ibP612dd1KftKUZd0n96T/U%2BVzDD/AFTH1qH8k5x/8BnKP/toUUUVocgUUUUAFFFFABRRRQAUUUUAFFFFABRRRQAUUUUAFFFFABRRRQAUUUUAFFFFABRRRQAUUUUAFFFFABRRRQAUUUUAFeM%2BOP8AlIX8L/8AsjPjz/07eEK9mrxnxx/ykL%2BF/wD2Rnx5/wCnbwhQB7NRRRQAUV5F%2B318QvGnwo/Yo%2BKfxI%2BHmsyaZrOi%2BBtRurLV4Ywz6aVgbdeKGBUmBd0w3ArmPkEZFeY/CTTfinor/tIfs6fAP4waxenw7pVkPh14i8ceJrvXJNE1q%2B0PzfJlvL15ppYo5fsl5skZ9gvSFAjMaKAfVdFfAXwb8bSeGdQ%2BNHwx/ak1L4s%2BAvh34J8EeC9Z1A6/8Z77U9dTW7qbVo7yCHU9Nv57pVuRa6b5VjBOsjGZCsEf2xYja8XfB79saP8AZ0%2BHvxG8aah4jutM8HweMdd8U%2BCtY%2BP%2BteFtZXRZ7r7Ro9rc6npu9r68srALDJ9pmEZl3b7hjmZgD7zrxn9g/wD5Ihrn/ZZviP8A%2Bprrddp4b%2BK0Hib4DaR8aPh74D8Qa9Bq3hqz1bR/D0D28Wp3MU8KSxxE3txFEs21xu82ZRkHLZ6%2Be/8ABOnVr/Xv2br7W9V8MX2iXN58W/iHNcaPqckD3Ni7eM9aJhla3llhLoTtJjkdMg7WYYJAPdKKKpeJPEeg%2BDvDt/4t8Vavb6fpml2ct3qN/dyBIreCNS7yOx4CqoJJ9BSbUVdibUU23ZI85/bF/as8E/sdfBC/%2BLni21l1C7MqWXhvw9aEm51vU5ciCzhUAkszckgEqis2DjB8U079uL/goZ4D0%2BC%2B%2BO3/AASy1%2B5tnhWSS/8Ah14ys9UlGRkr9i4lVh0ILHnpWV%2Byr4a8Qf8ABQv9oqP/AIKFfFnR7m2%2BHvhWaay%2BAfhbUIivmgNtm1%2BaM9JZCuIgfuhQRyiO2x%2B3V8XviB%2B0J8U7T/gmn%2BzF4gkstc1%2ByW7%2BK/i%2BzOf%2BEU8PtjfGCOBdXKtsROoVweA4dPmMRjMVWovFwqShBtRpRiot1G9m1JP4n8O1oJze5PCPDuccf5v/ALPinhcNFObqOMXCFCGtTEVVKLfLbSnBOMpt04xvOrFLxvx7/wAFgv2mP2rtB1v4X/8ABN79jXxxL4jtJDa6x4n8Q2lsE0EngjyxI0P2j721ZZRtKHKPggX/ANj/AMMf8FGv2ZPh5P4X%2BFv/AATU0i11vW7o33i3x14%2B%2BMVld6h4gvmJL3Nx9nQuoyzbYtxCAnlmZmb7j%2BB3wM%2BFv7OPwy0z4Q/Bzwja6LoWlQCO3traMBpGwA0srdZJXIyztlmPJrra0o5LjqlSOIxeKk6qVvdUFGN9%2BW8ZW7OW78loenmWMx9PBVsmyvMK0cDKak708PTq1uX4XWlThJtJ3lClzuFNu9p1LzPklvit/wAFnCpCfsofBsHHBPjm5IH/AI7Wfb/8E3/jN%2B1LOnib/gpj%2B0ZeeK7V2EkXwr8BTzaV4btD1CyMhW4vCp5DuVYHIywr7GorueT0aumIqTqx/llL3fmoqKfpK68j5N5Dh62mKq1K0f5Zy935xjGCl6SuvJnxRB4G/bT/AOCZlwh%2BE8GvfHb4HxOAfCMr%2Bd4r8Kw5xizf/l/gUcCE4YAKoCANIfR/hV/wVn/YR%2BKGqHwvffGmHwbr0R23Xh/4h2kmiXNu/wDcY3IWIt7K7V9IVynxS%2BBPwU%2BOGmrpHxl%2BEfhvxVbR/wCqi8QaLBdiPnOV81TtPuMVMcBjMHpg6q5OkJpyS8oyT5kvJ8yXSy0UxyzMMBpl9ZcnSnUTlFeUZp88V2i%2BdLpZaLn7r9tD9jyxtZL27/at%2BGyRRIXkdvHFhhVAyT/rq8V1b/grN4K%2BIWuTeEv2If2ffHHxwv7aUx3epeHbA2Gi27D7yyahdKEDemFKt2avSov%2BCbv7AUMqzJ%2Bxr8N9yMCN3hG1IyPUFMH6GvYND0HQ/DGkW%2BgeGtGtNOsLSMR2tlY26wwwoOioiAKo9gKp0s6raTqQprvBSlL5c9or7mU6PEOI92dWnSXeEZTl8vaWivW0n5HynN%2B2x/wUdu4mtdH/AOCR2sx3Uo2W8l98WNKWFHPAZyEyFB5Pt6VXg/Ze/wCClX7SEy61%2B01%2B2ZH8L9Mb57fwZ8EbXypoj/D52pXAMjMOjIoaNjnGK%2Bv6KP7KlV0xFec12uor58ii385WB5LKs7YrE1Kkf5bqC%2Bfs1Bv5yt5HyTL/AMExPivaRm50D/gqL%2B0NFex/NbSah4phuoFcdC8JiUSL6qSM1FH4V/4LO/BlxpHh34m/CH4xaa3yRal4q0q40LUoj/CzpaEwMo74JYnHvX13RR/Y2FhrRlOm%2B8Zy/FSc0/uD/V/BQ1oTqUn3jUn%2BKlKpF/cfJIsP%2BC4mt/6bNr/7M%2BiBeYrKC11y5L/7Mjt0%2Bq0f8J1/wWv8K/8AId%2BBHwD8Vhev/CNeJ9SsS/0%2B1ggGvrain/ZTWqxFVP8Axp/g4WH/AGLJaxxddP8A6%2BJ/g6dj5Jb9tP8A4KOeDh5vxM/4JP6rPaR/66%2B8G/FDTdSkYdylsEEh%2BmaRf%2BCy37NnhU/Z/j98Jvi58LrheJIvG/w4u41z3KtbiXcvoeMivreij6lmVP8Ah4pv/HCEvxjyMP7Pzel/CxrflUpwl%2BMfZs%2Ba/C//AAWC/wCCavi/b/ZX7Wnh%2BHd0/tS2u7H8/tMKY/GvS/BX7ZP7I3xHuY7HwF%2B1D8PtYuJeI7XTvGNlLMT6eWsu7Ptiun8UfCH4T%2BN93/CafDDw7q%2B/7/8AamiQXG76%2BYhzXmfjf/gmx%2BwJ8QraS28SfsgfD8eb/rJtM8NwWMx9/MtljfPvmi2ew60pfKpH8nJBy8SU/tUZ/KrD8nNHtqOkiCSNgysMqwOQRS18jTf8Eevgz4EY6h%2Byl8ePip8IbyM7raHwt41uJ7DP92W2ujJ5qd9pYdKSP4Lf8FlPDefBmh/tlfCrX9KP3fF3iHwHLBrEQHAAtrcm2fjuxySPc0vr%2BPpaVsLL1hKM1%2BLg180L%2B08zo6YjByfnTlGovxdOS%2BasfXXTrXjfjT/goZ%2Bw38PPGEngLxp%2B1Z4GsNWg4ubSXX4T5DZxtkZSVjb/AGWIPtXk1x/wTM%2BM3xp2237a/wDwUE8fePtJfm68K%2BGLKDw1pl0D/wAsp0tCWmjxx1U9DkV7L4A/YS/Yz%2BGPg9fAXg39mDwRBpa43wXXh2C6eYgY3SyTq8krY43OzH3o9vnFd/u6Uaa/vvmb/wC3aei%2Bcn6B9Yz7Eu9KjGkv%2BnknKT/7dpaL1c2/I0vC/wC2D%2ByX422jwd%2B1B8PNULfdTT/GljM30wspIPtXe6XrGka5ai%2B0XVba8gb7s1rOsiH8VJFeMeKP%2BCaf/BP7xfu/tj9jv4eoX%2B82neGYLNj75t1Q596871//AII1/so6Jef8JX%2BzFqni/wCDXiiMfufEHgDxVdRl%2B4SaGeSSOSLPVAFyCQTQ6ud09ZUqc/8ADOUX8ueLX3teoOtxFS1lRpTX92c4v5c8Wr%2BrXqfWlFfIlr8Kf%2BC0fhaM%2BDdH/ak%2BDHiLTIDi28W%2BI/CF5Bq8y9MSW9sfswI9QSTk5NOl8Df8Fofhyw8T6P8AHT4PfEfIzdeGNZ8Mz6QFUdre4gJJc%2BsuFFH9qVFvhqq7%2B7F2%2B6evyD%2B2aqV5YOsu/uxdvuqXl/26vQ%2BuaK%2BTfCn/AAVBf4c%2BMrH4Zf8ABQH9nzWPgfqupuItJ8QajqMepeHdQk5yi6jABHC2Bu2yYCg/Mw4z9WafqFhq1jDqmlX0NzbXMSy29zbyh45UYZVlYcMCCCCODXXhcdhcYn7KV2t001JesWk181r0bO7BZjgswUvYSu47ppxlH/FGSUl5XVn0bJqKKK6zuCiiigArxn9l/wD5Lf8AtHf9lmsf/UK8L17NXjP7L/8AyW/9o7/ss1j/AOoV4XoA9mooooAKKKKACiiigAooooAKKKKACiiigAooooAKKKKACiiigAooooA5jw58bfgx4x%2BIOs/CTwj8XfDGq%2BK/DiK/iHwzpuv20%2BoaWrY2tcWyOZIAdy4LqM5HrV%2B7%2BInw/sPHdl8Lb7xzo8HibUtNn1HTvDk2pxLf3VnC8aTXEduW8x4o3liVpFUqpkQEgsM/FP7PHh7xn4M%2BNngDQPEHwg8a6dqXw08VfEe88feJm8D6i1pqNtrOsu9p9mukgKaj9see1vWW3aXyFtGNx5LRgVj/ABG/Zv8A29dU/b2u/H998MvCMsni3wR8Q9J0z4iaN411GRtH0yRdOi0O0khbSEjs5Y9nmiD7U6yz3OozLIoRY2APt/4ZfG34MfGu31G8%2BDXxd8MeLYdHv2sdXl8Ma/bX62N0oy0ExgdhFIAeUbDD0r5n/wCClukf274p1LSgu5pf2Sfi15Y/2xN4WK/qBUv/AAT50TWNU%2BLDeONG%2BCvijwJoGifAbwb4N1DTvE/hW50hpNXsJtSeS1hjuI0%2B0R2cc6oLmLfbv9pxDLIFfa79pfwt8V9V/a2m03xt4y8Paloeq/s2/EuDw1pmleGJ7O7sUa78LLItzcSXsyXZbcmCkNuFwchtw28%2BMh7TCVId4yX3xkj2eHcR9U4iwVf%2BStRl/wCA1qUv0PXf2BdX/t39hr4Oaozbmk%2BF%2BgiQ%2Brrp8Kt%2BoNet18%2Bf8EpdX/tv/gnR8Ib3dnZ4Pht8/wDXJni/9kr6DrLLJ%2B0y2hLvCH/pMTu43w/1TjXNKH8uJxC/8r1v8wooortPmAooooAKKKKACiiigAooooAKKKKACiiigAooooAKKKKACiiigAooooAKKKKACiiigAooooAKKKKACiiigAooooAK8Z8cf8pC/hf/ANkZ8ef%2BnbwhXs1eM%2BOP%2BUhfwv8A%2ByM%2BPP8A07eEKAPZqKKKAIr2ys9Ss5dO1G0iuLe4iaOeCaMOkiMMMrKeCCCQQeCDXH%2BB/wBmv9nP4ZaFbeFvht8AfBXh7TLMXYtNO0PwrZ2kEH2pVW52RxRqq%2BcqIJMD5wqhs4FdrRQB5vH%2Bxv8AshxfCuX4FxfsrfDdfBE2pJqE3g5fA2njSpLxWVluGtPJ8kygohDldwKg54FQ6h%2BxR%2Bxpq3hbRPA%2Bqfsk/DG50Tw1PPP4c0e48Bac9rpUs7q8z20Rh2QNI6KzlACxUE5IFenUUAIqqihEUAAYAA4Arxr9g/8A5Ihrn/ZZviP/AOprrdezV4z%2Bwf8A8kQ1z/ss3xH/APU11ugD2avi79rrXta/b8/aTh/4J0fDLVbiHwL4aa31b4%2BeIbCUrmHcHttCjkXpLMyhpMHKqvU7JEP0d%2B1n8a7b9nH9mbx18cbiRFfw14Yu7yzWTGJLoRkW8fP9%2BYxr/wACrzD/AIJ3fCXw7%2ByZ%2BwvpPjP4i3X2XWdZ0V/GfxL8Qai5aee9uIvtVxNcOcljGhCH/rmTySSfGzF/W8RHBXtBrnqP%2B4nZR8uZp3f8sZdzw8wp1c2x9PKaabU1zTte8o8yjGmra3qTdn1cU0tZGz%2B2j%2B0vov7E3wE03RPhZ4Pt7/xdrckHhv4U%2BCLCEAXd8yrFBGsa4xBCu1m6AKFXILrVn9hD9kUfsp/Cy5fxnrn9v/ETxjenWfiR4smO6TUtSkyzKrYB8mLcyRrgDG5tqlyK8n/YZ8F%2BKP2xfjXd/wDBTr426NNa2Nxby6Z8DPDF6OdH0XLK%2BouvQXN18xz1CEgFkZNv2RSwEHjq/wBemrRStSXaPWdu8%2BnaFlpzM/ZuKKlLg/KP9UsG17W8ZY2cbe9Vj8GGi1vTw1/fs%2BWeJc3rGjAKKKK9o/NQooooAKKKKACiiigAooooAKKKKACiiigAooooAKKKKACiiigAooooAKKKKACiiigDI8efD/wN8UfCd74E%2BJHhHTtd0XUYjHfaXq1mk8Ey%2BjI4IPqD1BGRzXy7D/wST0P4fyz237Mn7Zvxq%2BGWjvcPNaeE9D8XC40ixZjlhDbzozKCeTudjz1r65orjxOX4LGSUq0E2tnqmvnFxdvK9vI8/GZXl%2BPkp16acls9VJLtzRcZW8rteR8iy/s3/wDBVf4MP/afwX/br8OfEiBRk%2BHPiz4OW3Vsddt5YnzSSOACAoP1NSQ/tXf8FXtHT%2BzNY/4JPabrNzD8suqaP8dNKtra5P8AfjinjMiKfRjmvraiuX%2BynT/gV6kF25lJf%2BVIza%2BTOT%2BxXS/3bE1aa7cymvl7WM2vlI%2BSH%2BOn/BYj4isbLwX%2Bwp8OPhy/3ftvj/4mrq8Wf72zTFVse1OX4Uf8Fm7xftV3%2B1j8HLOST5ntbPwLcyRRH%2B6rOwZgPU819a0U/wCynLWpiKsn/j5fwhFIP7Fc9auKrSf%2BPk/CEIo%2BSj%2Bzn/wVz8Tfu9c/4KN%2BDvDadC3hz4RW122P%2B3qQYNdF/wAE6/A/xD%2BG%2Bt/HnwZ8V/i9c%2BPPEFn8ZoDqPiy70qKxkvi/hHw3ImYISUjCI6RgA8iME8k19J14z%2By//wAlv/aO/wCyzWP/AKhXheujDYCjhZucZTb296cpfg3b52udWEyyhg6jqRnOTat71ScvwbsvVK57NRRRXaeiFFFFABRRRQAUUUUAFFFFABRRRQAUUUUAFFFFABRRRQAUUUUAFFFFABXh/wAVdMj1r9vD4d6PLjbd/A/4gQtn0bVPCK/1r3CvGfHH/KQv4X/9kZ8ef%2BnbwhSaTVmVCUoTUo7rX7tf0PPP%2BCJupyan/wAExfhg02RJbw6rbSKeqmLVrxAPyUV9U18l/wDBFn/Qf2KT4U6f2D8QPEdht/u7dRmfH/j9fWleXkTbyXDX/kivuVv0PvPFWMY%2BJmcuOzxNaS9Jz51%2BE0FFFFeqfAhRRRQAUUUUAFFFFABRRRQAUUUUAFFFFABRRRQAUUUUAFFFFABRRRQAUUUUAFFFFABRRRQAUUUUAFFFFABRRRQAV4z44/5SF/C//sjPjz/07eEK9mrxnxx/ykL%2BF/8A2Rnx5/6dvCFAHs1FFFABRWb4z8Y%2BFfh34P1b4geOdftdK0TQtNn1DWNUvZQkNnawxtJLNIx4VERWYnsAa4/4Z/tT/Az4s%2BA9f%2BJXhfxhcWmleFJJE8UHxPod7olzo%2By2S6Zrq21GGCe3X7PLHMGkRVaN1dSVINAHoVFeR%2BH/ANuT9nXxV4G1P4geH9W8V3VtpE1pHeaYnw114asRdDNtLHphshezwygMUmjhaNxHIQxEb7a/iL9v79lHwv8ADXRfizqfxFv5NH1%2BXUI7BNP8I6rd3qGwd01A3FlBavdWi2jxuly08Ua27jbKUYgEA9krxn9g/wD5Ihrn/ZZviP8A%2Bprrdev6Zqem63ptvrOj38N3Z3cCTWt1bSh45o3UMrqw4ZSCCCOCDXkH7B//ACRDXP8Ass3xH/8AU11ugDyr/grG7fFe0%2BEP7Elkxd/i58TbNNct1PL6HpxF5fHHfbtgPpxU/wDwVZ8T65418E%2BCf2EPhvfvbeIPjh4mj0i5ltfv2Og2%2B2fUrkD0WIKhBGGV3Haq/gv/AIyB/wCCxPivxYf32jfAn4cWuh2fdE1nVmNxLIp/vC1BiYDoQM%2BlQfsh/wDGWH7e3xU/bTvf9I8N%2BB8/Dr4aueY38hhLqd4nY75mCJIOqMy5%2BWvkqzeMqVYR3rz9mvKnSX7x/O816yPpvCanTw%2BdZlxdXSdPALmp31Uq0P3OFhro74mc6rXWOHd1Y%2Bs/CXhXQPAvhTTPBHhTTY7LS9H0%2BGx02ziHywW8SCONB7BVA/CtCiivrElFJLZHzlSpUrVJVKjblJttvVttttt9W222%2BrbYUUUUyAooooAKKKKACiiigAooooAKKKKACiiigAooooAKKKKACiiigAooooAKKKKACiiigAooooAKKKKACiiigArxn9l//kt/7R3/AGWax/8AUK8L17NXjP7L/wDyW/8AaO/7LNY/%2BoV4XoA9mooooAKKKKACiiigAooooAKKKKACiiigAooooAKKKKACiiigAooooAKK%2Be/g1%2B3HrXxS%2BMOl%2BEdX%2BD0GkeEPGGpeJNP%2BHviuPxKbm51S40S7a3uRdWRtkFmswiuJ7dknn3xQEyCB2VDLq/7aeueFv2vbf9lfxH4N8G3cupadf31gvhj4iNqGt2Fpb2xnS81XS2sYv7PtZSvkpOJ5gZpYUwfMJUA9/rxnxx/ykL%2BF/wD2Rnx5/wCnbwhWX/wT0/bL1L9ub4F2Hxzn0v4dWNrqml6feQad4D%2BKB8Szae9zbLO9pqB%2BwWgtLqIOitEPMOd2SuBu1PHH/KQv4X/9kZ8ef%2BnbwhQB5j/wSJP2L4e/Gjwr0/sL9pDxbYbf7u2WB8f%2BP19aV8l/8Ex/%2BJV8VP2ofCvTyf2htVv9v/X1BA%2Bfx219aV5OR6ZVTXbmX3TqI/QPFL3uPcZU/n9jP/wPDYSX5thRRRXrH5%2BFFFFABRRRQAUUUUAFFFFABRRRQAUUUUAFFFFABRRRQAUUUUAFFFFABRRRQAUUUUAFFFFABRRRQAUUUUAFFFFABXjPjj/lIX8L/wDsjPjz/wBO3hCvZq8Z8cf8pC/hf/2Rnx5/6dvCFAHs1FFFAHmH7anwh8VfHz9kz4h/B3wK9qNb8QeFLy10eO%2BlKW810YyYopWAJWJ3Co7YOFZjg4wfMPhx8MPiB8VfEPxo8V/Hz9l7xDo2hfGDRodEl8HX%2BuaTLcLp9ppTW8v2uSzvpI0ku5Lq4hj8mSTbHbo8rQlgq/T1FAHwv8N/hl%2B3B8CLT4tftN/Dr4PfEXxj4z8SeE/Cng/wN4R%2BKPirwzJqsEOm3OqO%2Bo3TaddQaebaIaszLAtx9onNrIZJVe43Jd0j4EfHP4MaZ8O/i18LP2YPGninUtO8C%2BPPD/inwz4o8QeH4NautY8Qalpmpya1dSR6g1iIJrvT52mjgmd40vIhHDiIxD7booA8z%2BCnwL8T/C/9kPwV%2BzenxN1DTNX8L%2BANJ8Pv4r0KK2e4Sa0s4YGuIVvIJoSWMZI82JxhuVzXI/8ABPmCTwZ%2By9qlv4l8XXmrNpfxV%2BIov9d1VIEuLvy/GWtb7iYW8UUKu2CzCONEBJ2qowB71XxvrHxF/wCFU/8ABK745%2BOo5/KmtfFfxYis5M423E3i7XYIT/38kSscRWjh8POq9opv7k3%2Bhz4vERwmFqV5bQjKX3Jv9Dzj9mD4wXvwV/4JU/GT/gobrkhtfEXxO1vxD4ptJJTh7eae4aw02DP9xZFjKgdBJxX1b/wT/wDgSv7Nv7Gnw7%2BEM1iLe%2B0/w3BPrKbcH7fcD7RdZ7k%2BdLIMnnAFfKPxU%2BHf2j9nz9jT/gnRDb/P4rvdI1XxhaAcSadpVkl7fo4/hDzOCCe6Y5r9EK%2BfySi/bJy/5dU4Q/7fn%2B9qP1vKKZ9vh8PLh7wgynL5aVMZOeKqd3GmvYUr%2BtSeKmvPVBRRRX0x8gFFFFABRRRQAUUUUAFFFFABRRRQAUUUUAFFFFABRRRQAUUUUAFFFFABRRRQAUUUUAFFFFABRRRQAUUUUAFFFFABXjP7L/8AyW/9o7/ss1j/AOoV4Xr2avGf2X/%2BS3/tHf8AZZrH/wBQrwvQB7NRRRQAUUUUAFFFFABRRRQAUUUUAFFFFABRRRQAUUUUAFFFFABRRRQB83fDr9hXx98NviZp3ijS/jvpd14e8Iar4h1D4c%2BHLzwVIZNKm1q%2B%2B03n2u5W%2BX7aIo5Lq3tgkdv5UdxmX7SyAnpfFP7N/wAbfiF8efDvxW8efHTw5Jo/gXV9U1PwPo2j%2BAZbW8iuLvT7qwRNQvH1GVb2COG7kYxRQ2wkljgdjmIA%2B2UUAeP/AAF/Zx%2BIfgL4x%2BK/2gfjL8UdB8R%2BKPFHh3SNBZPCXgyTQtPt7HTpb2aEmGW9vJZZy9/MDI020IsaoiYcvzF/8I/hR4G/4KbeC/Hvgn4Y%2BHtH13xP8HvHEviXWtK0WC3u9WePVvCXltczRoHnK73wXLEbjjqa%2Bh68Z8cf8pC/hf8A9kZ8ef8Ap28IUAeY/sIf8Sr9uj9rXwr08nxtoF/t/wCvrTC%2Bfx219aV8l/su/wDEn/4KwftSaZ0Gr6J4Jv1X18rTpYSfzNfWleTk2mDlHtUqr/ypL/M/QPEv3uJKVX/n5hcDL78HQT/GLCiiivWPz8KKKKACiiigAooooAKKKKACiiigAooooAKKKKACiiigAooooAKKKKACiiigAooooAKKKKACiiigAooooAKKKKACvGfHH/KQv4X/APZGfHn/AKdvCFezV4z44/5SF/C//sjPjz/07eEKAPZqKKKACiiigAooooAK/OT9rC4m13/gmpdfA%2B0lZZ/ih%2B1j4k8KQhDhmM3xD1icqPqLY/hmv0br83Lq%2BtvFvxx/Z4%2BEV1IDZ2n7R3xh8ZarnkQLpXibW5IZGHu7sAfUV5OeO%2BWVKf8APyw/8DlGL/ByPF4hUqmUVKMd6rjTX/cScIfk5Hs3wZgh%2BOX/AAVr%2BJXxHhiV9E%2BC/gLTvBmihR%2B6F/esby6dPR40HkN6AgV9e18m/wDBGbS7vW/2Qrn9obX48a38XfHWueLdYLclXlvZIEQH%2B6I7dSB0G819ZUZIubAKu96rdT/wJ3j90VFH634nSjh%2BLZ5VD4MBCnhF2vQgo1Gv8VeVeXno%2BwUUUV6x%2BfBRRRQAUUUUAFFFFABRRRQAUUUUAFFFFABRRRQAUUUUAFFFFABRRRQAUUUUAFFFFABRRRQAUUUUAFFFFABRRRQAV4z%2By/8A8lv/AGjv%2ByzWP/qFeF69mrxn9l//AJLf%2B0d/2Wax/wDUK8L0AezUUUUAFFFFABRRRQAUUUUAFFFFABRRRQAUUUUAFFFFABRRRQAUUUUAFFFFABXjPjj/AJSF/C//ALIz48/9O3hCvZq%2BaPj/APGTw98Mf%2BCof7PHhDxHIIh44%2BGvxC0fTp2OFW8W78LXaKT0G5LaVQOpYqB15idSFKPNJ2Wn4tJfi0Z1KtOjDmm7LRfe0l%2BLS%2BZg/DNl0b/gtD8TtLLBTrXwT0bUAueWEN40GffGcV9a18hf8FM9A1n4DeMPAP8AwUo%2BH2myzXvwxvxp3j60tUy%2BpeFbyQR3CkD77QSOJUHRS7ufuV9ZeH9f0bxVoNj4o8OalFe6dqVnFdWF5A%2B6OeGRQ6SKe6spBB9DXl5a/Y4jEYaW6m5rzjU1T%2BTUovz9T9I41h/aWUZTndHWnPDww0u8K2FThKL/AMVOdKrDvBv%2BVluiiivXPzsKKKKACiiigAooooAKKKKACiiigAooooAKKKKACiiigAooooAKKKKACiiigAooooAKKKKACiiigAooooAKKKKACvGfHH/KQv4X/wDZGfHn/p28IV7NXjPjj/lIX8L/APsjPjz/ANO3hCgD2aiiigDjv2g/jNoX7O/wO8WfHPxJpl1fWfhTQLnUpNPsdvn3jRRlkt4txC%2BZIwWNdxA3OMkDJrznwv8Atl69o/w/%2BLet/tBfCGLw54j%2BDekNq/iTQfCviBtbhvdPOnG/hmtLiS2tGlZ1jnhKPChEtu4BZCkjejftCfBnQ/2ifgb4s%2BBniTVLqws/FegXOmyahY7fPs2ljKpcR7gV8yNisi7gRuQZBGRXD/BT9nH4y/DvxL4t%2BI/xB%2BNfhvxJ4p8cNGPEF/Z%2BA5rG0SK2s0trCG2t21GYxRxt9omlEkkpme5cKYVVVAByfhD9t/4u%2BLfDnj/w3afArwfJ8SfBXg/QvFcHhXT/AIpPc6Xe6TqrXQt5JNSXTQ8EqrYXrPGttKMJCUd1mVhk/E//AIKUXfgnwL8CfFVh4M%2BH2lz/ABt8KNrUL/Ev4rnw9p2lOLOyuVtFuxp1ybmZzeBEURx7vLJxztF/4R/8E/vEXwV8IfEnUvh54u%2BGWgeO/iHpFjpJ1Dwt8H20vw5ptlavdMiro8GpiWWZmv753ma9DM80efkhWM3dI/ZK/ai0L9kPwp%2ByrY/tIfDqQaN4Lk8Ka7rd98GrmdNR00W0VrAYbZ9b228ywo3mNI1xFK7A%2BSirsIB9GWrzyW0clzGiSMgMixSF1DY5AYgbhnvgZ9BX5PeAvF32z9ov49/EES5tfg98Lfi0Yuf9Vqd7448QzKR6FoFC4r9NdD%2BBnw30/wCBul/s7eJPD1v4m8L6b4ctNEl0/wAU20d8l/a28KRKLlJFKTEiNS25cE84r8jfhv4R0D4NfsU/8FB/iD4P8PWek6VN8atY8EaFpumWiQW9nbweIbmAW0ESALGgXUFARQAABxxXz3Ek5QwcWtk5Sf8A25TqSX48p3cPZZLPOO8hy211VxuHT9IzUj9M/wDgmx4R/wCEI/YD%2BD%2BgmLYzfD/TbuRCMFXuIFuGB98ymvbqwfhZ4TXwF8MfDngZECjRdBs7AKOgEMCR4/8AHa3q9nB0fq%2BEp0v5YxX3RS/Q6%2BI8w/tfiLG469/bVqs//A6tSS/CSCiiiug8YKKKKACiiigAooooAKKKKACiiigAooooAKKKKACiiigAooooAKKKKACiiigAooooAKKKKACiiigAooooAKKKKACvGf2X/wDkt/7R3/ZZrH/1CvC9ezV4z%2By//wAlv/aO/wCyzWP/AKhXhegD2aiiigAooooAKKKKACiiigAooooAKKKKACiiigAooooAKKKKACiiigD86v2VPE3wn8JftW%2BGddTxBommfFGLxP8AEVP2iLye6ihvUsX1lo9LXVHYgiNpm01dOEx5tmItv3RetP8AaCX4fn9vey139jzxX8ML/wCIU%2Bm%2BLbHXND%2BG%2BiW8Hiux1ZdBvWju/EV5HPIbmwF3DBCkE0EDLdz2TiSQIVr9AqKAPh7/AIJWH4HH4oap/wAMmnT/APhDP%2BFK%2BEP%2BE2/snHl/8Jd5uo/aPtmOf7Y8jZ9t8z/Sf%2BPbz%2BdlcV/wVg%2BGP7Qnxa/aA8N%2BJdI8H6Dpeq/Cv4aeLvG/wq1XRvE1xe3l/dafq/hSSUXNq9lAtsxgMiJHHNcB2fkrtAb9Fq8Y8dokn/BQj4YRyIGVvgx48DKwyCP7W8IcVz4vDQxmFnQlopJr07NeadmvNHJj8JTx%2BCqYabsppq/VdmvNNJrzSOk%2BFXjv4b/tk/sw6R45/syG%2B8NfELwmrX2mzNvUxXMJSe1fHdSZIm91NeE/8EwPGmufCW68af8ABOT4pa20/iH4QamR4VubtwJdW8L3B8yxuF/vGMN5TheI8xJ1qh/wTo1Oz/Zi%2BPvxW/4Jw6/qEdrbaBrzeKfhZbTyhTcaBqBMz28AJy4tpt6sQPvSOeg49F/be/Yuv/j6dI%2BOHwM8UL4Q%2BMvgfM3gvxbGuFnXktp94AD5trLllIIOwuxAIZ0fxIzxOJw9LHU43rU7xnFfatpOK8%2BaKnC%2BmqWnNc%2B08Oc/y/NMjr5DnVRUqWJcf3lm44fF0W4RqSS972c05UqvKuZUqkKijL2XK/oOivB/2J/22tJ/ad0rUfh/8Q/D3/CHfFjwfL9k8eeAb2QCa0mXA%2B024JJmtZMhkkBYAMAScqze8V7mGxNDGUFVpO8X/TTW6aejT1T0Z5ed5JmfDuZ1MvzCnyVYbrRppq8ZRkrxnCcWpQnFuM4tSi2noUUUVueUFFFFABRRRQAUUUUAFFFFABRRRQAUUUUAFFFFABRRRQAUUUUAFFFFABRWVrPjnwT4dz/wkHjHSrHb977ZqEcWP%2B%2BmFcrrH7WH7LPh3P8AwkH7Svw/sdv3vtnjKxix/wB9Sisp16FP45perS/NoxqYnDUvjnFeskvzaO/orxXWP%2BCj/wCwHoeft37ZXw1fHUWnjC0uP/RTtXLav/wWB/4JraJn7b%2B1p4efHX7HbXVx/wCioWzXLPNcrp/FXgv%2B34//ACRxVM6yal8eJpr/ALiQ/wDkj6Tor5Ml/wCC3/8AwTXlkNvoHxy1HWJQcGLS/A%2BsSHPpzagH86b/AMPlv2Y77/kVfhX8YNdz93%2ByPhjevu%2Bm8LWP9u5N0xEH6O/5JnP/AKycP9MVB%2Bkub/0lSPrWivkr/h7Hbaj8vhX/AIJ3/tQapn7s0XwoMcR/4G9wMflR/wAPIP2iNU/5Fb/gld8a5s/d/taG0sfz3yHFH9t5Y9pt%2BkKj/wDcYf6xZO/hqN%2BkKr/KkfWtFfJX/Dbf/BRbVP8AkV/%2BCQ%2BvSg/dOrfFzSLL8w6HFH/DR3/BXLV/%2BQd/wTd8IaPnp/a3xgtbjb9fIjGaP7Ywj%2BGNR%2BlKp%2BsUH9v4F/DCq/SjV/WKPrWvGfHH/KQv4X/9kZ8ef%2BnbwhXmH/Ce/wDBazV/%2BQd8AvgJpGen9reKdSuNv18gDP4VT%2BCZ/bpf/goX4Mm/bTX4VJu%2BDPjL/hGYfhkdSOz/AIm3hX7R9qN71P8AqNmz0kz2rWhmEa9VQVKor9XBpfNt/ob4bNY4msqcaFVX6ypuMV6ty/Tc%2BwaKKK9A9QKKKKACiiigAr8vPiv8OovD/wCwxqfw/Vo2l%2BMf7e3iO3njj/5aGXxvqaKp45OzT0/Kv1Dr85fEn/FU%2BMv2cPhV977Z%2B2H8TNf8v1/svxTrs278PNrx89hGeWzT3dor/t%2BUIv8ABs%2B98LqcFx/gsW/%2BYf21b09lhsRUv8nGB%2BjVFFFewfBBRRRQAUUUUAFFFFABRRRQAUUUUAFFFFABRRRQAUUUUAFFFFABRRRQAUUUUAFFFFABRRRQAUUUUAFFFFABRRRQAUUUUAFeM/sv/wDJb/2jv%2ByzWP8A6hXhevZq8Z/Zf/5Lf%2B0d/wBlmsf/AFCvC9AHs1FFFABRRRQAUUUUAFFFFABRRRQAUUUUAFFFFABRRRQAUUUUAFFFFABRRRQAV4z44/5SF/C//sjPjz/07eEK9mrxnxx/ykL%2BF/8A2Rnx5/6dvCFAEf7Y37EXw7/a50Kw1OfVrzwt478NSfafBPxC0I%2BXqOi3IOVwwIMsJP3oicEE4Kthh5B8Nv8AgpH4i/Zs1VPgH/wVC0WTwd4mtJlttK%2BJVlpc0nhzxTFj5LhJo0K20pAy8bhVU8/u87F%2ByapeIvDfh3xfotx4a8W6BZapp15GY7vT9RtUngnQ9VdHBVh7EV5mIwE/bvEYWfJUe91eM%2B3MrrVdJJqSWmq0Xj4rLKn1l4rBTVOq/iurwmltzxTWq6Ti1JLT3lovBPj/APsgfs4ft2aVpXxx%2BG3xCTSPGOnRh/CHxc%2BHuqRtd2xGdqmWFtl1DyQY2PRmCsm4mvO9I/bl/aT/AGLHXwR/wUl%2BFN7qGg20gis/jl4D0trrS7mLosmoWsQ8yyk/vFVKsxwiYG49L4r/AOCPP7H934gufF3wfk8afCjVbt98158LPGFxpQ39mWH54U%2BiIo46VmzfsB/tv%2BG7d9M%2BF/8AwVj8axWBUott428Cab4gd0IwVkknKFwRwcivJr0M0p1nXpUeWo93TlGUZ/4oT5G/W6ktuZn22VeIWd4fLYZTxFlix%2BEhpBRrKNWjd3f1erJKpTT3dKftaDe9OLvJ/S3wt%2BL3wu%2BN/hC38ffCD4gaT4k0a5H7rUdHvknj3YyUYqTscZ5RsMDwQDXR1%2BZNz/wRI/bF8O/Eeb4sfCT9tXwz4R8QzyBrnVvBvg%2BfQftWDnEltZTi2IJJyBHhsnOa6/4g%2BEf%2BDhX4PeHv%2BKL%2BLPw2%2BJ0cHAkt9JtrXUmQd2jmjt4Scdg7Mfc1rSzrMaVNvF4KomusLST%2BXNzL019TixzyjG4yEMip4iSn9jEQoUpRfZ1ViXQn/iTp335Vex%2Bg9Ffk1H/wUJ/b78NaoPD/AO1N%2B1Jd/BG6MoiE3i/9neR7WRz/AM854XmR1/2jgfhXunwp039r/wDaJhjk%2BGf/AAXd8E6uJVybLwp8LNCnnHsytP5sZ9ioPtTw/EuHxc%2BSjSm5dm6cX/4DKcZfgTm3DvHmR0FiMZkeKjSe1TkpypPzVWFWrSa/7if5H3jRXyV/wwD%2B2hq/Hi7/AIKzfESYH739jeFNO0/8tm7FH/DrDxPq/PjP/gpf%2B0xeZ%2B9Hp3xDSxjb2KpAePxru%2Bu5jL4cI/nOmv8A5I%2BV/tHNpfDgZfOpSX/yR9a1BqGqaZpMButV1GC2iHWS4mVFH4k18o/8Obf2btS/5Hb4x/GbxLn7/wDbvxQvJN318vZU%2Bn/8ER/%2BCaFrcC91L9nmbVLnvcat4w1adm%2BoN1tP5Ue3zmW1CC9an/yMGH1niCXw4WC9a3/yNNnvGvftL/s4%2BFd3/CUftAeCdN2/e%2B3%2BK7OHH13yCuJ17/gpH%2BwF4b3f2l%2B2R8OHK9RZeLbW5I/CF2rM0H/gld/wTs8N7f7P/ZA8FSben2/S/tf5%2BeXzXbaB%2Bxn%2ByB4V2nwz%2Byr8N9PK9GsvA9hEfzWIGi%2Bey6Uo/wDgx/8AyIX4ln0ox%2BdWX6RR5Prv/BZ//gmT4eJW9/aq0yYjjGn6JqN1k%2B3k2zZrL/4fUfsV6l/yJEHxC8TZ%2B5/YPw51GTf9PMjSvqDQvA3gnwuAPDPg/StOC/dFhp8cOP8AvhRWrR7HOpb1oL0pt/8ApVT9A%2Br8Qy3xFOPpSk//AEqp%2Bh8lf8PZ9N1X5fA//BP39pnW8/cntvhWY4D9XecY/Kj/AIeHftW63/yJP/BKP4rz5%2B5/bup2OmZ%2BvmM2K%2BtaKPqWZS%2BLFv5U6a/PmD%2Bz83l8eNf/AG7SpL8%2BY%2BSv%2BGr/APgqlr3Ggf8ABKiw0pD9y413416Y34mOKPcPpR/wsf8A4LTa9/yCf2b/AIG6Du6f254wvrrb9fsyjP4V9a0Uf2bXfxYqo/RwX5Uw/sjEy%2BPG1n6OnH/0mkfJX/CO/wDBb/XR/wATL4ifs26CG/6A%2Bk61dMv/AH/OCaP%2BGd/%2BCu%2Bu/wDIV/4KK%2BCtC3df7E%2BEdvdbfp9ocZ/GvrWij%2ByKT%2BKtVf8A3El%2BiiH9hUX8detL1rTX/pKifJX/AAwz/wAFAtYH/FY/8Fc/FM%2Bfv/2J8MdK078tjNij/h2N8V9Y/wCRw/4KiftCz5%2B//YviiDTs/TZC2K%2BtaKP7Fy9/EpP1qVH/AO3oP9XsrfxKcvWrVf8A7kR8lf8ADoH4W3//ACOH7Xf7RHiHP3/7a%2BLEz7vrsiSj/hyZ%2BwRf/wDI3%2BFvF/iDP3v7Z%2BIWqPu%2BuydK%2BtaKP7Dyd70Iv1u//SpMP9W8hfxYaL9U5f8ApUpHy/o3/BGD/gmRoWPsX7KWlyben2zW9Ruf/Rty2a6rRv8AgmJ/wT20LH2L9jrwC%2BOn2zw9Fc/%2BjQ2a92orWGUZVT%2BHDwX/AG5H/wCRNqeRZJS%2BDC01/wBw4f8AyJ5po/7F37HXh7H9g/sn/DSyK9DaeBdPjP8A47CK6nSPhD8JvD%2BP7A%2BF/h2x2/d%2Bx6JBFj/vlBXRUV1Qw2Gp/BCK9IxX5JHbTwmEpfBTivSMV%2BUUNhhht4xDBEqIo%2BVUXAH4CnUUVsdAUUUUAFFFFABXjPjj/lIX8L/%2ByM%2BPP/Tt4Qr2avGfHH/KQv4X/wDZGfHn/p28IUAezUUUUAFFeYftp/F7xV8A/wBkz4h/GPwNHanW/D/hS8utHe%2BiL28N0IyIpZVBBaJHKu65GVVhkZyPN/h74/8A2oPClr8fPghpXjqb4n%2BMvh9odtqHw91nxPYWFnPqF3e6VJLBYXYsIba3IW8gbDrHGfJuI1YlkMjgH0vRXxH8C/jz%2B0J8V7X4x/AaL47fFHT9S8LfDXwz4o0n4geNPhnp2ja5YXl9NqyXtnHY3GmxWz26nSAscsltLk3E%2B2SYRxvWinxu/aX%2BM3gD4BeBfC/x/uvBWueNP2ddS%2BIXiTxjY6Dps819qFlb6BGkDQ3VtJAltJNrMk0wijjcCGNI3iDkgA%2By6/N/4K31nr3/AAUI%2BE2lX8wEXgrxD8btffIJ2fa/Gmr2IOBzkkADHJPAr7U%2BCn7QaePP2Q/BX7UHjTw7qFqfEfgDSfEWpaVoWi3epXED3dnDO8UNtaxy3ExVpSoVEZsDp1r4O/4Jx%2BINP%2BL/APwUF8f/ABG0u3vks/D1n4i063i1PTJ7K4h%2B3fFDVr5RLb3CJLBJs4aORFdeVZQQRXk5t70aFP8Amq0/wcpf%2B2o/QPD79zWzTGf8%2BsDi386kaVBff7aSP0o/4TDSf%2BfTVP8AwR3f/wAapf8AhMNJ/wCfTVf/AAR3f/xqvnbx9/wWR/4JvfC/x3rXw08c/tG/Ydb8O6tc6ZrFl/wiGsS/Z7q3laKWPfHaMj7XRhuUlTjIJHNZP/D8v/glp/0dD/5ZOt//ACFVSzzJYScZYmmmv78f8zOj4W%2BJmIoxq0skxcoySaaw9VpppNNNQs0000%2BqafU%2Bn/8AhMNJ/wCfTVf/AAR3f/xqj/hMNJ/59NV/8Ed3/wDGq%2BdvAP8AwWR/4JvfFDx3ovw08DftG/btb8RatbaZo9l/wiGsRfaLq4lWKKPfJaKibndRuYhRnJIHNd9%2B398YPiZ%2Bz7%2BxN8U/jj8G7TTZvE/hLwPqGq6OurzMlussELSb32xybtqhmCbcOyhCyBi69eFxuDxsXLD1IzS35Wnb1sfP55wzxJwxWhSzjBVcNKabiqtOdNySdm0ppNpPRtddD0v/AITDSf8An01X/wAEd3/8ao/4TDSf%2BfTVf/BHd/8AxqvnvU/23Pjb4V%2BIfjnwX8QvgV4E0LT/AIZfDy08TeOfE938VLo2Nu93FqjW9tbY0cSzqH0%2BMSyukRRLgtHHM6CKTmfht/wUq1f4q6p4Z0PVvhPq/hfW4vjRL4O8Q6Qst5bQyIfB%2Boa/DPt1jR7S9eF0hiTb9ntJBKgZZZIVK3HSeGfVX/CYaT/z6ar/AOCO7/8AjVH/AAmGk/8APpqv/gju/wD41Xzz%2ByV%2B3z8Sf2h9P0S48c/swf8ACP3fiz4TaL8QfCel%2BHvGsOqz3WnXzBHgnNxBZRW9xCXiYqHkR0fIcMpjrqf2q/FnxV1L4tfC/wDZ4%2BFvxX1DwI3ja61i61bxXo2m2N1exW9hZCRbaBb%2B3uLdWkmmhZmeJz5UEqrtZhIgB67/AMJhpP8Az6ar/wCCO7/%2BNUf8JhpP/Ppqv/gju/8A41XzlB%2B0J%2B0j8T/%2BCZHhD4//AA%2BtLn/hOdd0jw7N4hu/Cuhre3FvaS39pFrGoadZSLIJ5UszeXNvAVl3Msa7JziN%2BL8BfHH9pX40fs1fEHUPAvi7426hrvwz%2BJV/oelXPh3wp4X0zxJ4osxY2l5by3lnr1nDaQbBehGSOK2mbyB%2B7Vy0VAH2D/wmGk/8%2Bmq/%2BCO7/wDjVH/CYaT/AM%2Bmq/8Agju//jVfIHj79oP9pa1%2BCfwB/aj8M/FfXL2y8ZWngv8A4Ta68P6bon/CDQR391Ype3VyLyAa4guEu5UtjbErFIsDXCwxiZjwmq/8FYIPFf7WHxA034cftbfDSx8LaL8GPHtx4c8J6pqllM9vrXh%2BawxquorDuvYlfdqjC1X71lY/aAhZm8sA%2B%2Bf%2BEw0n/n01T/wR3f8A8aq/YX9pqdol9YziSKQZVgCO%2BCMHkEHIIPIIr5f/AOCdXxk/aN8beMvHnw1/aRv/ABnDqeh6J4b1Ww0T4labokGu28V/FeLJcFtCRbJrGSezljgUk3SPa3QnC/uxX0j4P/5BM3/YUvv/AErloA1aKKKACiiigAooooAKKKKACiiigAooooAKKKKACiiigAooooAKKKKACiiigArxn9l//kt/7R3/AGWax/8AUK8L17NXjP7L/wDyW/8AaO/7LNY/%2BoV4XoA9mooooAKKKKACiiigAooooAKKKKACiiigAooooAKKKKACiiigAqO6urWxtZL69uEhhhjLzSyuFVFAyWJPAAHOakqj4o8PWHi3w1qPhTVS4tdTsZrS5MTYby5EKNg9jhjQB5X%2BzP8Atp%2BAf2ntUfSNA%2BH/AIt8NS3Phmy8TeHT4ssrWH%2B39Cu3kS31K1EFxMVjYx/NFOIbiMSReZCnmJnnvF3/AAUP8F/DLQfHutfGH4B/EbwhL4F%2BGWsePl03WbXS5LjXtE0xc3ctl9lv5kWRS0K%2BTdNbvm4jyAN5XB/ZM/Zh/af%2BEnjTwz4p%2BMKeBbw%2BC/hppnw80d/D/iC8JvtPgcyXOrzJLYqIriUwWQWxVnSPExN2%2BVUU/hX%2Bzv8AtY6tq3xY8a/tY/BT4Q%2BMNc8e6Dd6RaQH4h393pj6N5jrbeHmtZ9DUWtk8Msr3M4Ny888jM0TR%2BVFAAfRHwr8deKPiF4bk1zxd8GPEvgW6S7aFdG8VXWmTXLoFUiYNpt5dw7CWKgGQPlGyoG0t5944/5SF/C//sjPjz/07eEKp/sQ/s4eMP2eNL8anxF4V8IeEbDxR4qTU9D%2BHfw/v5rnRfDUC2NtbPHbSS21rzPLBJcyLHbwxh5jhWYvLJlX/wAMfDfg7/gpt4L8Z6TqXiGa88Q/B7xxJfw6r4u1G%2BtIimreEsC2tbmeSCyB3HK26RhsDcDtXAB9D0UUUAFFFFABRRRQBFfWNlqdnJp%2BpWcVxbzIUmgnjDo6nqCp4I9jXhHxW/4Jd/8ABP74zSyXfjT9ljwtFdStue90G1bSpy/98yWTRMzZ7kmvfKK58RhMLi48tenGa/vJP80z18o4gz7h%2Bt7bK8XVw8u9OpOm368ko3%2BaZ8kD/glI3gT95%2Bzf%2B3T8cPAip/x76V/wl/8AaemRemLa5Q5/F6X/AIUf/wAFhfhwMeBv22fhp8QUj/1UPxC%2BHjaYWHZWfTmJPpu6nrX1tRXD/YuBh/C5qf8AgnOK%2B7mkvwPqv%2BIm8U1/%2BRgqGL/7CMNh6sn6z9lSqfP2l31bPkr/AIX7/wAFevAIx4z/AGCvAPjlU/1s/gT4mJp%2BR3ZUv0LH/d60f8POPip4S%2BX4w/8ABMn49aUV/wBbN4a8PQa3BH6kyQyr8vvivrWij%2Bz8bD%2BHi5/9vRhP84xf4i/1v4YxP%2B%2B5Bh2%2B9GrisO/ujVrQXyifJkX/AAWr/YV0uRbf4ma74y8ESk7TF4s%2BH%2BpQFW9D5UMgH5123hT/AIKl/wDBO/xltOkftf8AgmHf0/tXVhYfn9pEePxr3uWKKeJoZ4ldGGGR1yCPQiuJ8V/syfs2%2BO93/Ccfs%2BeB9Z3/AH/7V8J2dxu%2BvmRnNHss8htVpy9YSj/6TN/kH17wtxP8TAYyi/8Ap3iaNVfJVsPB/fIk8MftI/s7eN9v/CGfHvwXq%2B/7n9l%2BKbS43fTy5DmuyhnhuYlnt5lkRhlXRgQR7EV4D4n/AOCVn/BOvxdu/tX9kLwZFu6/2Xpxsfy%2BzMmPwrjZv%2BCJn/BPW0la58F/DTxB4YmY5M3h7x3qsJB9QHuHA/Kj2ueQ3pU5ek5L/wBKg/zD6j4W1/gx%2BMpf48NQqL5uliYP7on1lRXyX/w6P8G6Tz4B/bd/aQ8NbfuRaT8VpPKHsVkhbI9s0f8ADu39qLQv%2BRF/4Kr/ABct9v3P%2BEgs7LVMfXzFXNH13M4/FhH8qkH%2BaiH%2BrXA1b%2BDn8V/18weKh%2BMJVV9yPrSivkv/AIZR/wCCqGg86B/wVVsNVQfct9d%2BCumLj6yRSbj9aP8AhXX/AAWk0L/kFftG/A3XtvT%2B3PCF/a7vr9nY4/Cj%2B068fiwtVeihL8qgf6kZTU/gZ9gpf4pYml/6cwh9aUV8l/2//wAFvdD/AOQj8P8A9mzXAv8A0CdV1u2Zh/23BANH/C/f%2BCvei/8AIT/4J/8AgLW8df7H%2BKsVtu%2Bn2hDj8aP7XpL4qNVf9w5fo5B/xDvHT/g5jgKnpjaK/wDTkKR9aUV8l/8ADaf/AAUg0rjxR/wSK1ZQOr6R8YdIvM%2B4VUB/Cj/h43%2B0fpf/ACNX/BK34zQ4%2B9/ZIs778tjrmj%2B2sAvi51606i/9sD/iGPFkv4X1ep/gxmCl%2BWJR9aUV8l/8PXX087fE/wDwTl/ah0/H3ph8K/OiH/A1uP6Uf8Pi/wBn2z/5GX4E/G3Rcfe/tT4XXSbfrsLUf25lPWql6qS/OCD/AIhX4hP4MvlP/BOhP/0jEz/I%2BtKK%2BS/%2BH2n/AAT9s/8AkZPHfijRsfe/tT4f6qm367bdqvab/wAFrf8AgmHquBbftT2SE/8AP14b1WH/ANGWq01nuSt2%2Bsw/8CS/OxE/CvxNhHmeS4pruqFSS%2B%2BKkvxPqaivnjTf%2BCsf/BOTVcfZf2uvCa56faZ5If8A0Yi1v6d/wUb/AGBdUx9m/bK%2BGi56faPGVnD/AOjJBW8c0yyfw14P/t%2BP/wAkeZW4E45w/wDFyrEx9cPX/wDlLPaKK8z079tL9jnV8f2T%2B1l8M7rPT7P47098/lNW5p/7QvwC1bH9l/HHwfc56fZ/E1q%2BfykreOKws/hqRfpKP/yR5dbIM%2Bw/8XB1o%2BtKqvzpI7Cisqw8d%2BCNVx/ZnjLSrnPTyNRifP5NWokiSoHjcMp6FTkGtlKMtnc82pRq0XapFx9U1%2BaQtFFFMzCvGfHH/KQv4X/9kZ8ef%2BnbwhXs1eM%2BOP8AlIX8L/8AsjPjz/07eEKAPZqKKKAMzxp4N8K/EXwdq3w%2B8daBa6romu6bPp%2BsaXexB4by1mjaOWGRTwyOjMpHcE1xPwu/ZL%2BCXwb06703wBp/iKD%2B0Z55tVu7/wAd6xfXWoyy28NsZLm4urqSa5ZILeGKJpXYwJGBF5Yr0migDyrSP2LvgJofw48TfDDTbLxYtn4xeJvE2sS/EnXZNbvxGFWNG1d706gEVUCKi3AUIzoBtdw2Nc/8E7P2T734QeGvgXe%2BEfEk3h7whbT2nh1ZfiTrzX1pZzxCKax%2B3m%2B%2B1yWbxKkbWjytAyRxqY8IoHt1FAEGl6ZpuiaZb6No1hDaWdpAkNra20QSOGNFCqiqOFUAAADgAV%2Bc/wDwSK0Ga5/aW/bD8d3GXV/2i7jSrRj/AMsxD4l1OSRR9WnUmv0fr4h/4JO%2BFG0jwb%2B0V4ouI/3utftoeNXR8dYYvEYiUfgyyfnXn4yn7TFYf%2B7KT%2B6El%2Bp9fw7jVgsgzldatClT/wDAsVSk/wAKf3H29RXzF4//AOCmv/CBeO9b8C/8O%2Bf2nta/sXV7mw/tjQPhP9psL/yZWj8%2B2l%2B0jzYX270fA3KynAzWR/w9h/6xqftaf%2BGb/wDuqs5Z1lkZOLqar%2B7P/wCVn5vLiHJoScZVdVp8NTpp/wA%2Bj60rF%2BI/w88GfFz4fa58KviNoMWq%2BH/EukXOl65pk7MqXVpcRNFNEShDAMjMMqQRnIIPNfPngH/gpr/wnvjvRfAv/Dvn9p7Rf7a1e2sP7Y1/4T/ZrCw86VY/PuZftJ8qFN293wdqqxwcV7N%2B0n4w%2BJ3w8%2BAXi/4g/Bnw5aaz4n0HQLnUtH0W9hd01KSBDKbUBHQh5VRo0bdhXdWIYAqevDYzDYyLlRldLfSS/wDSox/U7cHj8HmEXLDy5ktHpJef2ox/C5jQfsa/s8L4V8U%2BDtT8Ialq9n418N2%2Bg%2BKpfEXivU9TutSsIPtPkxyXN3cyT70%2B1z4lDiUbl%2Bf5E253gf8AYK/Za%2BHupLrnh/wFqU2pDxcPFEura14x1bUry41caRNowu5ri8upZZ2Gnzy2%2BJGZdpU43IjL4b4j/wCCj/xN%2BJHha58Y/suNoeq2HiPx3NpHwoli8JLqjeINOsNIW61W9ka51vSraGOK78%2BAO1wu0WbgJK0g8vifBv7dXxG%2BLniPRPjxZfabXTvHnwy/Z31WPwo2v3v2HSp/EXi7Xba/kg%2BzTxbnMXkozHKTrawrMksS%2BUek7D7D8MfsnfAjwTY6JYeDvCd7pS%2BHPA1p4O0SbTvEeoQzWmi2rxvBarKk4c7TFHmQsZGAIZ2DMDo/G/8AZ6%2BFP7ROiafofxS0fUZhpGom%2B0i/0TxFfaRfWNwYZYGeG8sJobiLdDNNE4SQB0kZWBUkV8m/BP8Aap/ag%2BN37Unwg8Yan4q8I/2J47%2BFvj/W/Dnw90q6vdPa1ks7/RoLaDVpTNcJdSx%2BaUa4S2iNtI9wixSZyfbv239W8ST6Z8KPhvL4q1Xw7pHjv4r2Gh%2BM9S8N67cafdQ2Z0%2B/ukghvbdop7fz721s7XzI2jkZbgqpUuKAPQpP2d/hYngMfDDRrHWNF0CLw5YaFZaZ4Z8V6jpUen2NmSbdLT7HcRGzdQdplgKSuiIjOyxoq87d/sS/s/T/AA8074W2Nh4t0vSNNury5B0D4l69pt3ez3bmS5lvbu1vY7i/eVyXdrmSUsx3Ek815f8ACLUf2hfin/wTb8b6H8J/iTdz%2BNLPUvHfhzwD4s1jVS1xcW%2Bn69qmn6ZcSXkoctKbW2gH2tw5dsTtv3HPmPw3%2BI2i2HhX42eFP2jX%2BMfhPwF4C8Z6EPDOiTfGDUb7xVNql3pcW7Q11HTNSmubmWW4mt5orNL2Vib2EEqrCGMA%2Bn9R/Yi/Zr1TUPDs9x4M1RNO8JwaZDoHhW18YarBoFsunFGsc6PHcrYSGBoomjZ4GKtDEQcxoR1Hjz4B/B/4oeI38VfELwNa6vdyeD9U8LTi9kkeGbR9Re2e9tJId3lSJKbS3yWUsAhAIDOG%2BBP2z/jp%2B1d8Av2QPAPwi%2BKGu/FjRNd0rQbDxF4u8Z%2BEvDmt6tLNL/a8cdl4fm1fS7aRBLHESbuaSSNrj7NEg85L2TH09Gl9pv8AwU48L6tonjrxk2leNvgb4i1PUfDWq%2BINQ/s2Kez1Hw3DbSx6ZO4hs5ljubgMyxJKTPIHJ6AA9O%2BB37Mfwb/Z1bVLj4X6Lqq3espbR6nqniDxTqOtXs8NsrrbwG61G4nmEMQkk8uEOI0MshVQXYnq/B//ACCZv%2Bwrff8ApXLWpWX4P/5BM3/YVvv/AErloA1KKKKACiiigAooooAKKKKACiiigAooooAKKKKACiiigAooooAKKKKACiiigArxn9l//kt/7R3/AGWax/8AUK8L17NXjP7L/wDyW/8AaO/7LNY/%2BoV4XoA9mooooAKKKKACiiigAooooAKKKKACiiigAooooAKKKKACiiigAooooAKKKKACvGfHH/KQv4X/APZGfHn/AKdvCFezV84ftH6v8a9H/bw%2BE8/wO%2BH/AIW8Rak3wj8drd2nivxhc6LBHB/anhIl0lt9PvWd920bDGowSd%2BQFIB9H0V4z/wnH/BQv/o1/wCDP/h%2BNW/%2BZej/AITj/goX/wBGv/Bn/wAPxq3/AMy9AHs1FeM/8Jx/wUL/AOjX/gz/AOH41b/5l6P%2BE4/4KF/9Gv8AwZ/8Pxq3/wAy9AHs1FfOOk/tHft26x8Z9f8Agdb/ALKHwkXVPDvhfSNdvLl/jrqnkSQajc6lbwohHhjcXVtLnLAqAA8eCxLBeo/4Tj/goX/0a/8ABn/w/Grf/MvQB7NRXjP/AAnH/BQv/o1/4M/%2BH41b/wCZej/hOP8AgoX/ANGv/Bn/AMPxq3/zL0AezUV4z/wnH/BQv/o1/wCDP/h%2BNW/%2BZeuX8A/tHft2/ETxX438IaP%2Byh8JIbjwH4oi0LVZLn466oEnnk0rT9TDxbfDBJTydRhUlgp3o4xgBmAPo6ivGf8AhOP%2BChf/AEa/8Gf/AA/Grf8AzL0f8Jx/wUL/AOjX/gz/AOH41b/5l6APZqK8Z/4Tj/goX/0a/wDBn/w/Grf/ADL0f8Jx/wAFC/8Ao1/4M/8Ah%2BNW/wDmXoA9mor5x%2BEX7R37dvxl8KXfi/w5%2Byh8JLa3s/FGt6FJHe/HXVFcz6Xqt1pk7jb4YYbGmtJGQ5yUZSQpyo6j/hOP%2BChf/Rr/AMGf/D8at/8AMvQB7NRXjP8AwnH/AAUL/wCjX/gz/wCH41b/AOZej/hOP%2BChf/Rr/wAGf/D8at/8y9AHs1FeM/8ACcf8FC/%2BjX/gz/4fjVv/AJl65f4I/tHft2/Hj4MeEPjj4V/ZQ%2BElrpfjPwvp%2Bu6bbah8ddUWeGC7to7iNJAnhhlDhZAGCswyDgkc0AfR1FeM/wDCcf8ABQv/AKNf%2BDP/AIfjVv8A5l6P%2BE4/4KF/9Gv/AAZ/8Pxq3/zL0AezUV4z/wAJx/wUL/6Nf%2BDP/h%2BNW/8AmXrl/jd%2B0d%2B3b8B/gx4v%2BOPir9lD4SXWl%2BDPC%2Boa7qVtp/x11Rp5oLS2kuJEjD%2BGFUuVjIUMyjJGSBzQB9HUV4z/AMJx/wAFC/8Ao1/4M/8Ah%2BNW/wDmXo/4Tj/goX/0a/8ABn/w/Grf/MvQB7NVLUvDXhzWQRrHh%2Byu89ftNokmf%2B%2Bga8m/4Tj/AIKF/wDRr/wZ/wDD8at/8y9H/Ccf8FC/%2BjX/AIM/%2BH41b/5l6TSasyoTnTlzQbT8m1%2BTR3OpfAP4Faxn%2B1/gt4Sus9ftPhy1fP8A31GawdR/Yv8A2O9Xz/a37J/w0us9ftHgTT3z/wB9QmvPPi7%2B0d%2B3b8GvClp4v8R/sofCS5t7zxRomhRx2Xx11RnE%2Bqara6ZA53eGFGxZruNnOchFYgMcKeo/4Tj/AIKF/wDRr/wZ/wDD8at/8y9YywuFn8VOL9Yxf/tp6dHPs%2Bw38HGVo/4atWP5VUN1D/gnL%2BwNqeftP7Gnw0XP/Pv4Ms4f/RcYrD1D/glJ/wAE59Sz9p/ZE8ILn/n3s3i/9AYVvf8ACcf8FC/%2BjX/gz/4fjVv/AJl6P%2BE4/wCChf8A0a/8Gf8Aw/Grf/MvWEsryyfxUIf%2BAR/%2BRPVo8dccYf8Ah5riV6Yiv/8ALmcNf/8ABGT/AIJlaln7R%2Bynpa5/599a1GL/ANAuBWY//BD3/gmWjGTTP2fLuwc/x2XjfWVP63ZFemf8Jx/wUL/6Nf8Agz/4fjVv/mXrl/H37R37dvw78V%2BCPCGsfsofCSa48eeKJdC0qS2%2BOuqFIJ49K1DUy8u7wwCE8nTplBUMd7oMYJZcXkeSy3w1P/wCP%2BR6VPxT8TKStDO8Wl/2EVX%2Bc2cz/wAOVv2Ibb/kC23jvTfT7D8RdSXH/fUpo/4c5/s82/8AyBvjj8a9O9PsXxRu1x/30DXp3/Ccf8FC/wDo1/4M/wDh%2BNW/%2BZej/hOP%2BChf/Rr/AMGf/D8at/8AMvU/2Fk3ShFeia/KSNP%2BIreJL%2BLNq0v8Uoy/9LpSPMv%2BHR/g%2B3/5A/7dH7TOnen2L4uyLj/vqA1S%2BCn7KU/7MP8AwUK8FpJ%2B0v8AFb4iJrXwZ8ZbB8T/ABaNVOn%2BTq3hXP2c%2BUnl%2BZ5o39d3lR9NvPrX/Ccf8FC/%2BjX/AIM/%2BH41b/5l6oeB/A/7VnjH9qzw58bvjd8OPh74Z0bwz8PfEOhww%2BFfiHfa1dXd1qV9olwjMlxpFikUaJpcoLB3YtKgC4yRtQyrL8NVVSlTtJecvyc2vwPPzTj7jDO8DPB47FupTna6dOgm7NNe9HDwmtUtprs7q6futFFFegfHhRRRQAUUUUAFfOX7EHhjTfC37PPiy9sQ5F7%2B0N4/1O%2BdhnB/4TzVN7cDoqRj8Fr6Nr5K/ZK8Wftnaf8AD3xRZ/DH4B/DDV9CT40/EX%2Bz9R174u6jpt3Mv/CZ6yWMltFoFykRDbgAJnyADkE7Qmk2n2LjUqRhKCekrX87O6%2B56n1B/wAJz4J/6HDS/wDwYR//ABVL/wAJz4J/6HDSv/BhH/8AFV5b/wAJx/wUL/6Nf%2BDP/h%2BNW/8AmXo/4Tj/AIKF/wDRr/wZ/wDD8at/8y9Mg9S/4TnwT/0OGlf%2BDCP/AOKo/wCE58E/9DhpX/gwj/8Aiq8t/wCE4/4KF/8ARr/wZ/8AD8at/wDMvR/wnH/BQv8A6Nf%2BDP8A4fjVv/mXoA1L74GfsUap8ONJ%2BDup/B34W3HhHQL37ZoXhWfw9pr6bptzukbzoLYp5UMm6WU70UHMjnPzHOhp/wAOP2UdJtbWy0rwH8PbaGytNJtLKG30uxRbeDS55LjTIkAUBEtJ5ZZbdRgQSSO8YVmJPmfwR/aO/bt%2BPHwY8IfHHwr%2Byh8JLXS/GfhfT9d0221D466os8MF3bR3EaSBPDDKHCyAMFZhkHBI5rqP%2BE4/4KF/9Gv/AAZ/8Pxq3/zL0Aatj8D/ANirS/FOt%2BOdM%2BEHwut9b8SwXUPiPWIPD%2BmpdarHdY%2B0pcyhN86y7V8wOSHwN2cV0HjfSvgB8TPBFz8MviRpvg7xB4bvIUiu/D2uQ2l3YzxoysiPBKGjZVZVIBXAKgjoK4r/AITj/goX/wBGv/Bn/wAPxq3/AMy9H/Ccf8FC/wDo1/4M/wDh%2BNW/%2BZegDqh4J/ZhHh638Ijwj4DGk2nhufw9a6X9gsvs8OkTiNZtOSPbtW1kEMQeADy2ESAqdoxz%2Bo/s4/sHav8ADCx%2BCOrfAf4R3XgvTNT/ALR03wjceF9LfS7S8w4%2B0xWrRmKOXEsg8xVDfvH5%2BY54343ftHft2/Af4MeL/jj4q/ZQ%2BEl1pfgzwvqGu6lbaf8AHXVGnmgtLaS4kSMP4YVS5WMhQzKMkZIHNdR/wnH/AAUL/wCjX/gz/wCH41b/AOZegDrNL8H/ALM%2BifDeH4N6N4W8C2nhC2QJb%2BFbWxso9NiUS%2BcAtsoESgSfvMBfvfN15rI1X4H/ALFWu/GO3/aJ1z4QfC29%2BINoUNr46u/D%2BmyazCUQRpsvWQzrtQBRh%2BFAA4rK/wCE4/4KF/8ARr/wZ/8AD8at/wDMvR/wnH/BQv8A6Nf%2BDP8A4fjVv/mXoA9R/wCE58E/9Dhpf/gwj/8AiqPBh36GZ1B2TX13LESMbke5kZW%2BhUgj2NeXf8Jx/wAFC/8Ao1/4M/8Ah%2BNW/wDmXrl/i7%2B0d%2B3b8GvClp4v8R/sofCS5t7zxRomhRx2Xx11RnE%2Bqara6ZA53eGFGxZruNnOchFYgMcKQD6Oorxn/hOP%2BChf/Rr/AMGf/D8at/8AMvR/wnH/AAUL/wCjX/gz/wCH41b/AOZegD2aivGf%2BE4/4KF/9Gv/AAZ/8Pxq3/zL0f8ACcf8FC/%2BjX/gz/4fjVv/AJl6APZqK%2BcfH37R37dvw78V%2BCPCGsfsofCSa48eeKJdC0qS2%2BOuqFIJ49K1DUy8u7wwCE8nTplBUMd7oMYJZeo/4Tj/AIKF/wDRr/wZ/wDD8at/8y9AHs1FeM/8Jx/wUL/6Nf8Agz/4fjVv/mXo/wCE4/4KF/8ARr/wZ/8AD8at/wDMvQB7NRXjP/Ccf8FC/wDo1/4M/wDh%2BNW/%2BZeuX1b9o79u3R/jPoHwOuP2UPhI2qeIvC%2Br67Z3KfHXVPIjg065023mRyfDG4OzapAVAUghJMlSFDAH0dRXjP8AwnH/AAUL/wCjX/gz/wCH41b/AOZej/hOP%2BChf/Rr/wAGf/D8at/8y9AHs1FeM/8ACcf8FC/%2BjX/gz/4fjVv/AJl6P%2BE4/wCChf8A0a/8Gf8Aw/Grf/MvQB7NRXzjpP7R37dusfGfX/gdb/sofCRdU8O%2BF9I128uX%2BOuqeRJBqNzqVvCiEeGNxdW0ucsCoADx4LEsF6j/AITj/goX/wBGv/Bn/wAPxq3/AMy9AHs1FeM/8Jx/wUL/AOjX/gz/AOH41b/5l6P%2BE4/4KF/9Gv8AwZ/8Pxq3/wAy9AHs1FeM/wDCcf8ABQv/AKNf%2BDP/AIfjVv8A5l65fwD%2B0d%2B3b8RPFfjfwho/7KHwkhuPAfiiLQtVkufjrqgSeeTStP1MPFt8MElPJ1GFSWCnejjGAGYA%2BjqK8Z/4Tj/goX/0a/8ABn/w/Grf/MvR/wAJx/wUL/6Nf%2BDP/h%2BNW/8AmXoA9mrxn9l//kt/7R3/AGWax/8AUK8L0f8ACcf8FC/%2BjX/gz/4fjVv/AJl6t/srfDn40%2BD9Y%2BKHjv46aB4X0nVPH3xCi1yz0rwn4ludWt7W1i0HR9MVXuLiys2aRpNOlcqItoWRBuY5wAet0UUUAFFFFABRRRQAUUUUAFFFFABRRRQAUUUUAFFFFABRRRQAUUUUAFFFFABXyv8AtPftafFz4YfGPxZrXgHw74Pk8MfB/wAP%2BH73xqda0i4m1XVLfV7%2BVLmCwuI7iNLLyLazjuMyRTi5kKRkQ%2BX5p%2BqK8Z%2BM/wCxD8OPjd8Uj8TNc8c%2BKtLi1G10i18X%2BGtGurVNO8UwaXeyXtjFfLLbyTBY5ppc/Z5YDLHIYpjLGFQAHs1FFFABRRRQB8x%2BHP2lfiZD%2B3/4o%2BD/AMRtY8PeE/Da%2BILTRPBkWo/CLWUuvGMA0CDUcQeI2u105pY7u51AC0ELyeXaTAKCzSL9OV5X4s/Zag8f/GTSPin49%2BN/jXV9K8Pa7HrWgeALg6ZFo1jqEdu8Ec4aGyS9l2eZJIqTXUkYkfds%2BRAvqlABRRRQB4v/AMFBfi78cP2fv2R/Gnx6%2BAV74Uj1jwToV3rl1B4w0W5vra7tLW2lme3RLa6tmSV2RFEhcqgLEo/Arz/x5%2B1p8XPBfx48W6n4U8O%2BEIvh54Q%2BMfhH4feMrObSLg63quq67BoqR6hDdpcLDHHB/bmkxmKS3leRIZ8Sx7UFew/tY/s42X7WnwI179n3Wvir4p8I6T4nspbHXL/wgunfa7mylieKa23X9pdRojq/LIiyAqNrrzni4P2AfB0/xFs/iL4q%2BOPj7XWOs6TrnibRtQl0qKx8T65piRpY6tex21hEy3EQgtMLbNBAxsbYvExjyQD3uiiigArxf9sn4u/HD4JWvgHxj8LL3wp/Y2ofEzw54e8X2PiDRbm5urm11XWbHTQbOWG6hS2kjW5lk3yJOpKIuzkmvaK8q/au/Zbf9qrw3oXhef4%2B%2BN/A1voXiSw11G8Fw6Oz3d7Y3kF5ZtKdS0%2B8G2K4t43CxhA3Kyb1O0AHnH7PP7SvxM1v9qrxb8Efihq/h7wnp0PinW7fwT4Sk%2BEWs6Zc69bQukpv7fWri7%2Bwag7GSaWWK2gL8l2K4Yn6cryXSf2UQ/xk0X4y/Ef9oDx341m8L3d5d%2BE9C8QjSYbDR7q5t5LWS4iWw0%2B2llf7PNPCvnySqizvtAJBHrVABRRRQB4f%2B3d8XPjx%2Bz98GtX%2BOvwo8Y%2BBbHT/AAtotzeXui%2BLPDN7f3PiG9yi2emWcltewfZ5riUi3RvKumaWeILCx%2BVvP/gj%2B198Z9c%2BJfgr%2B1vBnhLSPhp43%2BJ/ij4beFfDWnaXNHq%2BiX%2BgQ6tvnnuRcNbzQSN4f1NFhjt4jGrWx8yTLAen/tK/sgwftJePPBHxAm/aB8d%2BELnwDd3N7otj4Yi0aezkvZUEa3k0Gp6deI88MfmLDIApjE8pHzNkVfAf7DXw98B/GW3%2BLsPxF8XalBp2u6nr2ieENSubL%2BydK1vUY3j1DVIEitUn8%2BcT3ZZXmeFGvrkxxR%2BZwAe10UUUAFfL/wC1z8eP2l/gt8RNP8KaVD4A8a6P45h1q20X4cxeD76TWEtbTQ7q7kv7icXrxXVsLqK3tpIRaxA/b4UExkZEk%2BoK8Om/YmuI/wBo/wAV/tNaJ%2B1X8S9O1fxbpsOnXOlwweH57TT7OGBo4baza50mW5t4lld7rYs2153LuHB20AM/YQ/aD8b/AB7%2BHt5dfFfx9o194u04Wba/4bsvhdq/hG80B57ZZRBc2Wr3U9w4Lb/LuAEjkVDtDbSa90rzf4Hfs3ad8GfE/iT4h6x8UvFPjjxV4risbfWPE/i5rBbl7SzE32W1SLT7W1to4o2ublxthDM1xIWZsjHpFABRRRQB8c/8FBP24/ip%2Bxh45/tPXNF0Dxj4RfRtR1u38Ky/DnU7KW3TTdGvtSST/hIprp9Mnu/temjZYrAl0I5llA2wtI3r37NHxd%2BOerfFTxv%2Bz1%2B0dc%2BFNQ8T%2BEdJ0PWo9a8FaRc2Fjc2OqC8jSIwXNzcussVxp12pfzcSIYm2RklRW%2BOv7CXgj9pzWrq1%2BP/AMW/GvijwXcyXEi/DK8k02HRYpJrGayZt9vZR30gEdxMwSW6dA77tvyIF6f9nz9mbSPgHea94iu/ih4s8ceI/Ehs49W8VeNbize%2BltrSIxWtqPsdtbwrFEHlYYj3s88ruzs5NAHpVFFFABXxH%2B1P%2B2V%2B1n8G/jV4g%2BFHg7w34c8a6nYaLca74YCfA/xBHJooGo6ZaoYW%2B3OPE0gsdUuPO/svynhaErKIxMI6%2B3K8P179i3U/Evj0/E7Wv2ufijNrenwXkXg28KaAB4VW6mhkn%2ByRjSdk7NHAtvuvVumWJnClXdnIB1X7LHxYf4yfCODxZe/EzRvFV/DqN1ZapfaN4MvvDotriKVla1m03ULie6s54xhXjmcPn5tqhgK9GrhvgH8BfD3wA8M6no2leKdb8Qajr%2BvXGt%2BJPEniOaBr3Vb%2BYIjTyi3ihgTEcUMSpDFHGqRIAowSe5oAKKKKACiiigAooooAKKKKAKPijxDYeEvDWo%2BK9VDm10yxmu7kRLlvLjQu2B3OFNfOf7E37Sfxr8f%2BKdH8GfGzw94Msx46%2BFtl8RvDMPgzSri0GmR3lwTd6fdma4lF3NG9zbP9sQQCdpZiYI9oL/S13aWt/ay2N7bpNDNG0c0UqhldSMFSDwQRxivIf2Zv2K/AX7MGqvq%2BgfEHxb4lltvDFj4Z8OjxZe2sw0DQrN5Ht9NtTb28JaNTJ80s5muJBHF5kz%2BWuAD2KiiigArhf2oPHnxF%2BFn7NHxE%2BJ3wf8KLr3i3w54F1fVPC2htYzXQ1HUbezlltrYwwMsswklRE8uNg7bsKQSDXdVneLdEv/EvhjUPD%2Bl%2BK9R0K5vbSSG31rSFga6sXZSBNELiKWIup5AkjdMj5lYZBAPLv2Kfi1P8UPhnfWWrfELw/rOp%2BHdVXTrzTNE%2BGGp%2BDn0NBbQSRWdxpWqXM9zC4RxIrt5aPFLFsTA3v7FXnnwH/Z20n4HXniXxHc/ETxJ4x8SeL9RhvPEXinxW9mLu6MNulvBEI7G2traKKONAFWOFMlnZizMzH0OgAooooA%2BXP2qP2sfih%2Bzh8XvHFl8StG8JeIvhfYfs7%2BL/AB7baFb6JcJqrtog0tZ7a4uZLl7eaKdb6cBBbIVCJl3ywrt/2Z/i/wDHzVPi54y/Z1/aWfwleeKPDHhjw94lj1XwVpNzY2Ullqz6lbrbGG5ublzLDcaRdgyiQLIjxN5cZ3LUHxj/AGFfDvx0%2BOrfGXx58dvHMumzeCtT8I33w9hg0X%2BxLvRtSW2%2B32khfTWvSJ2tIHZxdB1KEIyIzIek/Z3/AGXdD/Z9vta8Rz/FDxb438Q6/a2Flf8Aifxtc2kl6bCxSRbOzH2S2t4/KiM9w4JQyO9zK7u7NmgD0%2BiiigAr5E%2BNf7S/7W3gzXf2gPAlv4V8GeLL3wF4f8KeJPhtY6T8P9Tv51j1HVdShCXlrFePLqM8C6bHOpthbkuSFX5VavruvC5f2KPEMXx08bfH/Qv20PitpWreN9IsdMubGys/DDWmm21lcXM9mlsJdFeT90by6UGZ5S6zkSeYVQqAdX%2Byp8W5vjL8KR4m1H4naN4p1G11W5sdWutH8EX/AIbNncRN81rPpmo3E91aTopXckzBiGVtqqwr0muE%2BAfwD0D4A6FrNjp/i3XPEeq%2BJvEEuueJ/E3iSW3a91W/khhg82QW0MMEYWC3t4VSKKNFSFAFzknu6ACiiigD42/aW/a7/aW/Z4%2BM0Hw21lPhn41vtbggm8Iw6d4WvbSXwXeal4h0zw9pE2pyvfTC6inbV5wWiWzkcWN0sYZfMMXuP7Kvxf8AiR8Rh4/%2BH3xiOiT%2BKvhp48bw1rOq%2BGtOms7DU/M0vTtWt7iG3mnnkt82uqW6PG00uJI5MMQRjhbb/gmr4Sa6%2BIb%2BIf2l/idrNv8AEnXjrmsW%2BpHQvMs9SiuIZ9Puba6i0tLpTYPb24tI3mkiiWFAyPzn1j4B/AXQ/gH4e1bTbLxfrniTVvEWvTa14n8UeJXtjf6vfSRxQ%2BdMLWCCBdkEFvAiRRRoscEaheCSAd1RRRQAy5%2B0/ZpPsezzth8rzc7d2OM45xmviD4rftc/tp/DT4ia58Nre28B%2BM9e8MXvhq31bx14I%2BCuv6tH4ct9Wa8e9sJdKs9Snu7maOGysbomKdP3d1C0sCAxNJ9vXcMlxay28N1JA8kbKs8QUvGSMBl3ArkdRkEeoNfPfwY/YC8QfAT4bXHw0%2BHf7dXxiijutWfU5tZvLLwnPqEt3K8slzPNM%2BhH7TJO8u6SScSPmNNhQDBAPWfgJ8Q7L4rfB3w/8QrD4gaN4qTU9PEj6/4f0mawtLuQErIUtZ5ppbYq6sjQySO8bKysdykDr65L4F/Bfwl%2Bz78L9O%2BFPgq5v7iysJbq4mvtVuRNdX13dXMt1dXUzhVDSzXE80r7VVd0h2qq4UdbQAVR8Tw%2BJLnw3qFv4N1OxstXkspV0u81Owe6toLgoRHJLDHLE00atgsiyRlgCA6k7herN8Y6Df8Aijwtf%2BHdL8W6loNzeWrxQa1o4gN1YuRxNELiKWIup5AkjdDj5lYZFAHw98N/27P2tfjB8U9b%2BCXws034fJ4z02112%2Bk8Z%2BK/hdrWhrqmmaRa6LKljLol5fJqGnyvd%2BIdiTTzPH5UMlwkLrOgP2N8Avi1pvx8%2BBPgr466NpstnZ%2BNfCWm69aWcz7ngivLWO4WNiAMlRIAT6ivFtX/AOCZHgfWtcvviLd/tKfFNPiBqyXlrrXxJtr3SIdWv9Mura1tptMKJpos4bYpZWjDyLaKVZIFlWUOWY/Qfgvwf4a%2BHng7SfAHgzSYtP0fQ9Mg0/SbCHOy2toY1jijXPOFRVUfSgDTooooA5f406j440b4W61rfw58Q2Ol6tYWZuob7UPB974gRI4yHlA06xngubyRoldUihkDl2XCufkb4t%2BEv/BRH4/eJPGmh6n43uPCPgTwZqU86%2BIPHF58DPEU1trF/Dr91pCJcyrfRp4ZnktbS1/cao0ksDyrG%2BdgSvtv4meDNd8e%2BEpvDnhv4pa/4NvJJY3i1/wzFYvdwbWBKqt/bXMDBgCpDxNwTjBwR4rdf8E5vCmoeD7j4bat%2B0h8TbvwxrmoTX/jzQJrjRxF4wu57xrq4mvpV00XEXmllhaOzltYhDEkaoo3bgD6JooooAKKKKACiiigAooooAKKKKACiiigAooooAKKKKACiiigAooooAKKKKACiiigAooooAKKKKACiiigAooooAKKKKACiiigAooooAKKKKACiiigAooooAKKKKACiiigAooooAKKKKACiiigAooooAKKKKACiiigAooooAKKKKACiiigAooooAKKKKACiiigAooooAKKKKACiiigAooooAKKKKACiiigAooooAKKKKACiiigAooooAKKKKACiiigAooooAKKKKACiiigAooooAKKKKACiiigAooooAKKKKACiiigAooooAKKKKACiiigAooooA//2Q%3D%3D\">"
            ]
          },
          "metadata": {
            "tags": []
          }
        }
      ]
    },
    {
      "cell_type": "code",
      "metadata": {
        "id": "2V_YwRGhfg70",
        "colab_type": "code",
        "colab": {}
      },
      "source": [
        "## GRADED PART, DO NOT CHANGE!\n",
        "# Testing shapes \n",
        "grader.set_answer(\"9XaAS\", grading_utils.get_tensors_shapes_string([W, b, input_X, input_y, logits, probas, classes]))\n",
        "# Validation loss\n",
        "grader.set_answer(\"vmogZ\", s.run(loss, {input_X: X_val_flat, input_y: y_val_oh}))\n",
        "# Validation accuracy\n",
        "grader.set_answer(\"RMv95\", accuracy_score(y_val, s.run(classes, {input_X: X_val_flat})))"
      ],
      "execution_count": 0,
      "outputs": []
    },
    {
      "cell_type": "code",
      "metadata": {
        "id": "UG4fg5bsis0y",
        "colab_type": "code",
        "colab": {
          "base_uri": "https://localhost:8080/",
          "height": 35
        },
        "outputId": "96128ec1-9b05-45a6-bc13-bb64eb388949"
      },
      "source": [
        "grader.submit(COURSERA_EMAIL, COURSERA_TOKEN)"
      ],
      "execution_count": 20,
      "outputs": [
        {
          "output_type": "stream",
          "text": [
            "Submitted to Coursera platform. See results on assignment page!\n"
          ],
          "name": "stdout"
        }
      ]
    },
    {
      "cell_type": "markdown",
      "metadata": {
        "id": "IehhTrbpKY58",
        "colab_type": "text"
      },
      "source": [
        "# Adding more layers"
      ]
    },
    {
      "cell_type": "markdown",
      "metadata": {
        "id": "zmmHYGaoKY59",
        "colab_type": "text"
      },
      "source": [
        "Let's add a couple of hidden layers and see how that improves our validation accuracy!\n",
        "\n",
        "Rememeber that we need non-linearities for hidden layers (e.g. `tf.sigmoid`)!\n",
        "\n",
        "Now add 1 or more hidden layers to the code above and restart training.\n",
        "You're aiming for ~0.98 validation accuracy here."
      ]
    },
    {
      "cell_type": "markdown",
      "metadata": {
        "id": "nzkPIqPJi_2X",
        "colab_type": "text"
      },
      "source": [
        "MLP with hidden layers\n",
        "Previously we've coded a dense layer with matrix multiplication by hand. But this is not convenient, you have to create a lot of variables and your code becomes a mess. In TensorFlow there's an easier way to make a dense layer:\n",
        "\n",
        "hidden1 = tf.layers.dense(inputs, 256, activation=tf.nn.sigmoid)\n",
        "That will create all the necessary variables automatically. Here you can also choose an activation function (remember that we need it for a hidden layer!).\n",
        "\n",
        "Now define the MLP with 2 hidden layers and restart training with the cell above.\n",
        "\n",
        "You're aiming for ~0.97 validation accuracy here.\n",
        "\n",
        "In [ ]:\n"
      ]
    },
    {
      "cell_type": "markdown",
      "metadata": {
        "id": "Ih4UWQn-jBqD",
        "colab_type": "text"
      },
      "source": [
        ""
      ]
    },
    {
      "cell_type": "code",
      "metadata": {
        "id": "cE7vvEgMmzfH",
        "colab_type": "code",
        "colab": {
          "base_uri": "https://localhost:8080/",
          "height": 35
        },
        "outputId": "86ca1f1f-fa1e-4b9a-a6ff-40f9184cdd88"
      },
      "source": [
        "import preprocessed_mnist\n",
        "X_train, y_train, X_val, y_val, X_test, y_test = preprocessed_mnist.load_dataset()\n",
        "X_train_flat = X_train.reshape((X_train.shape[0], -1))\n",
        "print(X_train_flat.shape)\n",
        "\n",
        "X_val_flat = X_val.reshape((X_val.shape[0], -1))\n",
        "print(X_val_flat.shape)\n",
        "\n",
        "import keras  # we use keras only for keras.utils.to_categorical\n",
        "\n",
        "y_train_oh = keras.utils.to_categorical(y_train, 10)\n",
        "y_val_oh = keras.utils.to_categorical(y_val, 10)\n",
        "\n",
        "print(y_train_oh.shape)\n",
        "print(y_train_oh[:3], y_train[:3])\n",
        "\n",
        "s = reset_tf_session()\n",
        "\n",
        " Model parameters: W and b\n",
        "# Model parameters: W and b\n",
        "W = tf.get_variable('W', shape = (784, 10), dtype = tf.float32) ### YOUR CODE HERE ### tf.get_variable(...) with shape[0] = 784\n",
        "b = tf.get_variable('b', shape = (10), dtype = tf.float32) ### YOUR CODE HERE ### tf.get_variable(...)\n",
        "\n",
        "# Placeholders for the input data\n",
        "input_X = tf.placeholder(tf.float32, shape = (None, 784), name = 'input_X')\n",
        "input_y = tf.placeholder(tf.float32, shape = (None, 10), name = 'input_y')"
      ],
      "execution_count": 22,
      "outputs": [
        {
          "output_type": "execute_result",
          "data": {
            "text/plain": [
              "<tf.Variable 'W:0' shape=(784, 10) dtype=float32_ref>"
            ]
          },
          "metadata": {
            "tags": []
          },
          "execution_count": 22
        }
      ]
    },
    {
      "cell_type": "code",
      "metadata": {
        "id": "8w6y0FUGnhyC",
        "colab_type": "code",
        "colab": {}
      },
      "source": [
        "hidden_layer1 = tf.layers.dense(input_X, 256, activation = tf.nn.sigmoid)\n",
        "hidden_layer2 = tf.layers.dense(hidden_layer1, 256, activation = tf.nn.sigmoid)\n",
        "#hidden_layer3 = tf.layers.dense(hidden_layer2, 128, activation = tf.nn.sigmoid)\n",
        "\n",
        "logits = tf.layers.dense(hidden_layer2, 10, activation = tf.nn.sigmoid)\n",
        "probas = tf.nn.softmax(logits)\n",
        "classes = tf.argmax(probas, 1)\n",
        "\n",
        "loss = tf.reduce_mean(tf.nn.softmax_cross_entropy_with_logits_v2(logits = logits, labels = input_y))\n",
        "step = tf.train.AdamOptimizer(learning_rate = 0.01).minimize(loss)"
      ],
      "execution_count": 0,
      "outputs": []
    },
    {
      "cell_type": "code",
      "metadata": {
        "id": "ED5scvWfjCFq",
        "colab_type": "code",
        "colab": {
          "base_uri": "https://localhost:8080/",
          "height": 309
        },
        "outputId": "a9213d6d-89f6-49b8-e2e7-6c6786909f95"
      },
      "source": [
        "s.run(tf.global_variables_initializer())\n",
        "\n",
        "BATCH_SIZE = 512\n",
        "EPOCHS = 40\n",
        "\n",
        "# for logging the progress right here in Jupyter (for those who don't have TensorBoard)\n",
        "simpleTrainingCurves = matplotlib_utils.SimpleTrainingCurves(\"cross-entropy\", \"accuracy\")\n",
        "\n",
        "for epoch in range(EPOCHS):  # we finish an epoch when we've looked at all training samples\n",
        "    \n",
        "    batch_losses = []\n",
        "    for batch_start in range(0, X_train_flat.shape[0], BATCH_SIZE):  # data is already shuffled\n",
        "        _, batch_loss = s.run([step, loss], {input_X: X_train_flat[batch_start:batch_start+BATCH_SIZE], \n",
        "                                             input_y: y_train_oh[batch_start:batch_start+BATCH_SIZE]})\n",
        "        # collect batch losses, this is almost free as we need a forward pass for backprop anyway\n",
        "        batch_losses.append(batch_loss)\n",
        "\n",
        "    train_loss = np.mean(batch_losses)\n",
        "    val_loss = s.run(loss, {input_X: X_val_flat, input_y: y_val_oh})  # this part is usually small\n",
        "    train_accuracy = accuracy_score(y_train, s.run(classes, {input_X: X_train_flat}))  # this is slow and usually skipped\n",
        "    valid_accuracy = accuracy_score(y_val, s.run(classes, {input_X: X_val_flat}))  \n",
        "    simpleTrainingCurves.add(train_loss, val_loss, train_accuracy, valid_accuracy)"
      ],
      "execution_count": 30,
      "outputs": [
        {
          "output_type": "display_data",
          "data": {
            "text/html": [
              "<img src=\"data:image/jpeg;base64,/9j/4AAQSkZJRgABAQEASABIAAD/2wBDAAIBAQEBAQIBAQECAgICAgQDAgICAgUEBAMEBgUGBgYFBgYGBwkIBgcJBwYGCAsICQoKCgoKBggLDAsKDAkKCgr/2wBDAQICAgICAgUDAwUKBwYHCgoKCgoKCgoKCgoKCgoKCgoKCgoKCgoKCgoKCgoKCgoKCgoKCgoKCgoKCgoKCgoKCgr/wAARCAEgA2ADASIAAhEBAxEB/8QAHwAAAQUBAQEBAQEAAAAAAAAAAAECAwQFBgcICQoL/8QAtRAAAgEDAwIEAwUFBAQAAAF9AQIDAAQRBRIhMUEGE1FhByJxFDKBkaEII0KxwRVS0fAkM2JyggkKFhcYGRolJicoKSo0NTY3ODk6Q0RFRkdISUpTVFVWV1hZWmNkZWZnaGlqc3R1dnd4eXqDhIWGh4iJipKTlJWWl5iZmqKjpKWmp6ipqrKztLW2t7i5usLDxMXGx8jJytLT1NXW19jZ2uHi4%2BTl5ufo6erx8vP09fb3%2BPn6/8QAHwEAAwEBAQEBAQEBAQAAAAAAAAECAwQFBgcICQoL/8QAtREAAgECBAQDBAcFBAQAAQJ3AAECAxEEBSExBhJBUQdhcRMiMoEIFEKRobHBCSMzUvAVYnLRChYkNOEl8RcYGRomJygpKjU2Nzg5OkNERUZHSElKU1RVVldYWVpjZGVmZ2hpanN0dXZ3eHl6goOEhYaHiImKkpOUlZaXmJmaoqOkpaanqKmqsrO0tba3uLm6wsPExcbHyMnK0tPU1dbX2Nna4uPk5ebn6Onq8vP09fb3%2BPn6/9oADAMBAAIRAxEAPwD9/KKKKACiiigAooooAKKKKACiiigAooooAKKKKACiiigAooooAKKKKACiiigAooooAKKKKACiiigAooooAKKKKACiiigAooooAKKKKACiiigAooooAKKKKACiiigAooooAKKKKACiiigAooooAKKKKACiiigAooooAKKKKACiiigAooooAKKKKACiiigAooooAKKKKACiiigAooooAKKKKACiiigAooooAKKKKACiiigAooooAKKKKACiiigAooooAKKKKACiiigAooooAKKKKACiiigAooooAKKKKACiiigAooooAKKKKACiiigAooooAKKKKACiiigAooooAKKKKACiiigAooooAKKKKACvPfjt%2B1J8FP2b5NGsfil4g1Maj4ilnTQNB8OeF9R1zVNR8lVed4bHTbee5kjiVkMkixlI96biu5c%2BhV4N%2B0P8D/j5/wANJ%2BDv2tv2bLLwfrWueH/B2seFNX8KeOdcutLtLywv7mwuxcQXtraXj288U2noCpt3WVJSCUKK1ABpf/BTL9izWLvxPb2nxXv0h8FWsk/jLUrvwXrEFjoIS0iu9l5dy2iwWsrQzRskMjrJIWKorMrKL2n/APBQ/wDZK1HwBrXxFTx/q9vB4f1ay0vVdE1DwNrNrrkV5ebfscC6PNaLqEr3AYGER27eaAxTcFYjy2b9gH4y%2BMf2a/jn8NfGHinwppHin4o/FS38daHc6U1xeWFpeW0OiywQ3IkihkkiN3pRRwoyYHGDuJVaPi79i/8AaV%2BLmr/Ef45fG34S/CjWvFnjWx8KaPp/gKy%2BI2s2Wm6fY6Hcaldw3qa7b6al5DqDXOqTOksVoPJSKNFZiWcgHsviH9vv9mzwv4a8OeI9XvvG3meK0v5NE8P2vwm8SXGuSRWUscV3NJpMWntf28MLzQq8s0CIpmiy37xM%2Bmaz8RPBHhv4e3XxX8T%2BJbbSvDljo76rf6vqrfZYbSySIzPPMZdvlKsYLNvxtAOcYNfGHin9hH9s/WPgX4X8Nay3hfxV470a58RHRfGV/wDHbxNpGr%2BCLW%2BuUktLO11q1sJLzXIYkjhEy3qw/aTbReYCFGPUfjR/wTotfj1%2Bzb4n%2BHHxD%2BOfjW78d%2BMPhfH4Z17xS3jbWho818tpDE2oJoS3y2FuzzQLK3kRRSEPIBIrSM5AOkg/4KUfsZf8K58V/FbWPite6Jo3giysr7xQ/ifwdq%2Bk3NlZXkxhtb37LeWsVxJaSyK6pcxxtC3luQ%2BEYjj/AI3f8FZP2d/hn8ENU%2BMfgPRfFXiqbQfiD4X8L674Y/4QXXbHU7A6zqVrax3T2cmnNdeV5Fw88DeT5d48aW8MhknjB8r1T/gmJ8ZPHfwq8faR4i8DeG9G8Y%2BI9D0fR7DxDqv7RfjPxut3aWusW%2BoTRyf27AfsEZ8likUSzHe%2BGkxknv8A9qH9gz40/GD4g/F/4g%2BBfEPheOTxfB8LbzwlZ6tfXMSvf%2BE/EdzrUsN40dvJ5ENwGt4VljEzrl2MfyKrgHqFh/wUE/Zb1H4m2XwZh8T%2BJo/Fd5oun6xLoF38N9egudO0%2B9adILu/SSyU6dDut5VeS68pYiFEhQum6j4a/wCCmH7FPi3wZ4s%2BIWkfGC4TR/Bfgi68Zaxe6h4S1W0Fx4et0Z5tWsVntUbVLNVQ4nsxPGxZArEugbB0P9kP4ofEP4mfG74g/G9fD2gxfGj4O%2BHfCF1Y%2BE9duNRl0u4tE11Ltlnns7XzYwNViMT7FZikm6OPA3fN37Y37Kn7UOj/ALDHxS%2BJv7TF34AtIfhD%2BxT8QfBHhePwFqF5cNrzXukWxn1G6W5toBYqE0i3CWcbXAVppCZ22oKAPrPw9/wUl/Yy8TaHrHiPT/i1dQWehppU1/JqnhLVbJmtNSu1s7HUIUuLVGubCWdgovoQ9qoDO0qorMPT9E%2BLvw88R/FLX/gvofiH7T4k8LaXp%2Boa/YR2k22zgvmuBa7pinlF3%2ByzHy1cyKoRmVVkjLfJOofsz%2BIPFegeKfjb/wAFIvF/wz8J%2BBbf9nu5%2BHUlx4f8QTLay6beyQyXmq3k17BbpYOTBbCG2QzCAmT/AEiQsuOw/wCCPngP4u2f7I9r8f8A9pDUDf8AxJ%2BL15H4n8V6g9nJbtJCLSCy01fKl%2BeH/iX2lpI0TYKSzTZAYtkA%2BqqKKKACiiigAooooAKKKKACiiigAooooAKKKKACiiigAooooAKKKKACiiigAooooAKKKKACiiigAooooAKKKKACiiigAooooAK8R0j/AIKMfse6ld69Z6n8Urzw83hzw5c%2BINQk8a%2BEdV0GObSbd0jnv7WTUrWBb63R5IlaW2MqAyxjOXXPtN7FczWcsNndCCZ4mWKYx7/LYjhtp64POO9fmJq//BHL9uX4v6t4X1z43fHHQ31vw14P1Cz1DxRqHxW8TeJx4h1v7ZpV9a6idLvoobLSbaS50xfPsLIBRHJtWWQKgUA%2B2X/b/wD2YbX4aN8WNY8QeKtK0ttcg0axs9c%2BGWv2GqanfzIZIYLLTbixS9v2kQM6/Z4ZAyo7AkIxHReA/wBqz4H/ABH1%2By8J%2BHPEOqQ6vf8AhSfxJDpGteFdS0y7TTYbv7JLLLDeW8UkDrP8hhkVZe%2BzbzXk3xO%2BDn7bvxib4e/G3XPBvwq0P4h/Cjx1NrHh/wAM2vjjUr/Rdcs7jSbvTLmO4vn0qGaxmKXskkbpa3AjMQU%2BYJGxV%2BJPwG/bg1/4y%2BHf2mvA%2BjfCu08WX3ww1XwX4x0LUvFepSWGkLcX8N1a39lcJpwk1AxCN1kt5YrQSlxiWLHIB3Gk/wDBRv8AZA8R694F8LeFfiNqus6n8SfBuleLfBunaJ4H1m9nvND1F9lrqMiQWjNa2%2B7HmSTiNbcMpm8oMCdj4a/tufs3fFf4jXPwn8M%2BL9Ws9ft9LudThsvE/gzVtEW/sbeRI57uyl1G1gjv4I3liDy2zSIvmISQGUnyj9hT9hL4sfsw6/8ADjWfHniDw1dnwd%2Byl4R%2BGN%2B%2BkXM8rNq2lvM1zNF5kEe61bemxmKu235o0wK8a%2BGn/BKv9sbxP8UfC/ib9qb4w2eqRaf4A8V%2BF/GniaD4v%2BJNavPEUur2KW39p2umX0Men6EcqWNpaKUXKgTOI1WgD6l8J/8ABRf9kfxrosfirQfHeuf2Hcarpen6f4lvfh/rdrpWoy6lex2VlJaX09mlteQS3M0UYuIJHhBlQs4VgT6X4W%2BLvw88a/EDxT8LvC/iH7XrnguSzj8T2iWkwWxkuoPtEEZlZBG7tCVkKIzMiyRlgokTd8w%2BOPAnxF8K/wDBPbxp8CP%2BChnif4VeCPAWg/DSLQLb4meHfFt2GadI0trXUntLqzgTTZlmFvJDBHcXTGcoiOTtDdr/AMEr/h98WPDf7ImlfFX9oqwS3%2BJ3xYvpfHXxEhW3aL7Pf36xmG02N8yfZbGOys9pyQLXBoA%2BjaKKKACiiigAooooAKKKKACiiigAooooAKKKKACiiigAooooAKKKKACiiigAooooAKKKKACiiigAooooAKKKKACiiigAoorwi48UfF7w3/wUi0j4e3Xxi1K/8FeK/hHr2sxeDLjSrBLbS73T9Q0G2jmhnjt1unZ1v7ousszp867UXYCQD3eivj34w/teePdH/bY1zwTrHiT4ieGvh58O73wnaaxf%2BEPD%2BiXGm3N1q8/ytq02oJJd/ZZGe3tlGnIJIP38s0iI0bR8zr37WH7Sv7LWm/G3xt%2B0fq3xFm8QaT4a%2BI/iX4V%2BGde03w1/wiur6ZpF1cXWnrZzaXF/aKzrp62YZL6VGcSzsFkZN0YB90V4v8evH/7Rf/DRfgX4EfAXxn4K8Ppr/grxLr2r6n4v8F3etEnTrvQ7eGGGO31Kx8sN/akrMzM%2BfLQALyTlfss%2BKfjP4b%2BPvj39mf4vfGq7%2BIh8O%2BCvCviiw8V6jpNhZzhtVl1i2ns9lhBBCYkk0fzoyUMgS7Cu8m0McjWvjJ4a8Tf8FUvh/wDDbS9L1%2BG60n4M%2BPkvrjVfCeo2FtLJ/a3g8r9lubmCOC%2BXAfc1u8qphdxXeuU2luVCEqjtHs392rOu/wCEH/4KF/8AR0HwZ/8ADD6t/wDNRR/wg/8AwUL/AOjoPgz/AOGH1b/5qK9mopknjP8Awg//AAUL/wCjoPgz/wCGH1b/AOaij/hB/wDgoX/0dB8Gf/DD6t/81FezUUAeM/8ACD/8FC/%2BjoPgz/4YfVv/AJqKP%2BEH/wCChf8A0dB8Gf8Aww%2Brf/NRXs1FAHjP/CD/APBQv/o6D4M/%2BGH1b/5qKP8AhB/%2BChf/AEdB8Gf/AAw%2Brf8AzUV7NRQB4z/wg/8AwUL/AOjoPgz/AOGH1b/5qKP%2BEH/4KF/9HQfBn/ww%2Brf/ADUV7NRQB4z/AMIP/wAFC/8Ao6D4M/8Ahh9W/wDmoo/4Qf8A4KF/9HQfBn/ww%2Brf/NRXs1FAHjP/AAg//BQv/o6D4M/%2BGH1b/wCaij/hB/8AgoX/ANHQfBn/AMMPq3/zUV7NRQB4z/wg/wDwUL/6Og%2BDP/hh9W/%2Baij/AIQf/goX/wBHQfBn/wAMPq3/AM1Feo%2BMxv0MQMTsmvrSKUA43I9zGrL9CpIPsa8x1/8Aag/4J%2B%2BFNdvfC3in9oj4Oabqem3clrqOnah4u0qGe1njYpJFJG8oZHVgVZWAIIIIyKyq16FBJ1JqN%2B7S/No7sDleZ5pOUMFh6lVxV2qcJ1GltdqEJtK%2Bl2kr6XvoM/4Qf/goX/0dB8Gf/DD6t/8ANRR/wg//AAUL/wCjoPgz/wCGH1b/AOaiq/8Aw1//AME4P%2Bjovgj/AOFto/8A8dq3oH7UH/BP3xXrtl4W8LftEfBzUtT1K7jtdO07T/FulTT3U8jBI4o40lLO7MQqqoJJIAGTWSx2BbsqsP8AwOP/AMkehPhXimnBznl%2BISSbbdCukktW23QSSSTbbaSSbbSTYz/hB/8AgoX/ANHQfBn/AMMPq3/zUUf8IP8A8FC/%2BjoPgz/4YfVv/morR/ar%2BJfwq/ZQ/Zv8a/tJeKfhcuraf4K8PXGq3Wm6RogmuLlYlzsRY42IycZcjai5dyqqzDn9J/az/Y/1zxvL8NdL8Na/L4htvDi69qGi/wDCmtdW60%2BweO7eKW6jbTw1q0v2G5WKOYJJM8YjjV3dFbqPBL//AAg//BQv/o6D4M/%2BGH1b/wCaij/hB/8AgoX/ANHQfBn/AMMPq3/zUVS0z9pz9mDxNJ4d/wCEV0ywQ6z46m8K3th4l8Jajo%2Bo2N9Ho11q5hayubATJKbW3WZVuFt43hk8xZWYxRzN%2BCn7X/7C/wC0Fo03iP4beJtL/s6Lw/p%2Bupf%2BIvCN3osFzpd8zLa3sEmo20C3NvI6lBLEXUPhCQxAoAv/APCD/wDBQv8A6Og%2BDP8A4YfVv/moo/4Qf/goX/0dB8Gf/DD6t/8ANRUH7aHxKuv2Xvghd/GnwL%2Bzv4Z8XxaRdwtrtlqOsrpX2exZtrzxOtnc%2BdKGKBYiqBtxzIgGa774kXXwb%2BEvgHWPib490XSbHRtC06W91K6Olo5SKNSx2qqlnY4wqKCzMQqgkgUAcR/wg/8AwUL/AOjoPgz/AOGH1b/5qKP%2BEH/4KF/9HQfBn/ww%2Brf/ADUV4nF/wUZ8F2/7Pvhb4meNf2ePA3gjxZ4p8eeJfDS%2BHPiD48tNL0vR/wCxNRvbO6ub/VfscixDNrGoSKGY%2BfdxRKXQNOO7%2BNf7WHg74N618KfBMfwE8PeIdf8AH2raFD4mh0PV4pLHw1Y6jdQ2S3oujag3atdTBLdDHCblIbiQGMQOoAOx/wCEH/4KF/8AR0HwZ/8ADD6t/wDNRR/wg/8AwUL/AOjoPgz/AOGH1b/5qK5bVvjH8WNB/a0079mq/wD2R/h1d2eteGtf1/S9Z0fx7LLdxWGnyW8MDXdpLo0UVu9zNeW8YVbmTbiZgZRCxPMa7%2B2Pq/gCTxZ4A%2BJv7Jvgy18e%2BH9Y8I6dp%2Bm6J4zF5ol1L4ivZbKyE%2BpS6ZBJaNHJDI0yfZZGWN4GjExnRKAPUP8AhB/%2BChf/AEdB8Gf/AAw%2Brf8AzUUf8IP/AMFC/wDo6D4M/wDhh9W/%2BaivGvEn/BRj4S6B4P0myu/hr8LdK8cXPjDX/Dut6f4u%2BIdvpfh3SJ9GmjivZn1h7F2kjL3FksSi1813vY1eOLZKY%2Bt8Q/ta%2BCrH9pPw9%2BzFo3w9%2BEqa5dabo934k/4ST4jQaa2%2B%2BZ/9F0aH7BLJrM8UUTzMpFshWW3%2BcGVhGAdx/wAIP/wUL/6Og%2BDP/hh9W/8Amoo/4Qf/AIKF/wDR0HwZ/wDDD6t/81FcZ8Hv2qvCXx/%2BNPjD4Y/Cb4cfCe6tfC93rOnQW%2BofEOKLxDc3unXUljLLLpEVhK1tYG9hlhW6aZnKoJBAyuueZtP2xvHemX3xB8I%2BN/2OPAKeIvCnjjw14M8O2/hvx7JfWGs69q0cU7W01zPo1s9mlrbXVpcTSLDOfLlcKjOgRwD1n/hB/wDgoX/0dB8Gf/DD6t/81FH/AAg//BQv/o6D4M/%2BGH1b/wCaivGtc/b5S00yPRNF/ZM8JN4v0jS/GGo%2BO9F1jxlHY2Ol2/hu7tra9FpenT3N68v2y3mgDw26GF9072zfIdCX9v8A%2BFV740t9R8N/A/w1P8Oh4j8HaBf%2BK9Q1qO11M3/iaKyfTGtdM%2ByMLm3J1KzWSVriJl/0grHILd8gHqv/AAg//BQv/o6D4M/%2BGH1b/wCaij/hB/8AgoX/ANHQfBn/AMMPq3/zUV6l/wAIN4J/6E/Sv/BfH/8AE0f8IN4J/wChP0r/AMF8f/xNAHlv/CD/APBQv/o6D4M/%2BGH1b/5qKoeB/HH7Vng79qzw58Efjd8R/h74m0bxN8PfEOuQzeFfh5faLdWl1pt9oluis9xq98ksbpqkpKhEYNEhDYyD6h4s8J%2BFtN8LalqWm%2BHLG2ubaxllt7i3tER43VCysrKAQQQK8%2B8cf8pC/hf/ANkZ8ef%2BnbwhQB7NRRRQAV8of8Fto/2ff%2BHaHxSu/wBoS58KRQWvhXUZvCT%2BLLm3jjGuixuPsf2bzyA12CXMQXL7hlRkZH1fRQB8p/tzfF79nv4u/BnwPrk3xP8ACHij4Sn4l6DP8U7y11q1vdJOgzJcNbSXzo7RfYXvRYF2kPktGGL5j318heMG%2BCP/AAqIf8L8Nl/wrb/hBPin/wAM2/bv9V9t/wCElk/sf%2Bx%2B/wBu%2BwfY/wCyvI/f/Zt32X5d9frTRQByGiXfxisfgdpd3/YOl6p45j8O2pu9P1jVnsLSfUPKTzlkuIbe4MS79/zJDJ7LXiX7P/jL/gon%2B0B4Ev8A4iXXxZ%2BC3hFo/G3ibRR4cj%2BF%2Br62LJdM1y%2B0xV%2B3nXLL7WStoGMv2W33FifKT7o%2BnK8Z/YP/AOSIa5/2Wb4j/wDqa63QAf8ACD/8FC/%2BjoPgz/4YfVv/AJqKP%2BEH/wCChf8A0dB8Gf8Aww%2Brf/NRXs1FAHjP/CD/APBQv/o6D4M/%2BGH1b/5qKP8AhB/%2BChf/AEdB8Gf/AAw%2Brf8AzUV7NRQB4z/wg/8AwUL/AOjoPgz/AOGH1b/5qKP%2BEH/4KF/9HQfBn/ww%2Brf/ADUV7NRQB4z/AMIP/wAFC/8Ao6D4M/8Ahh9W/wDmoo/4Qf8A4KF/9HQfBn/ww%2Brf/NRXs1FAHjP/AAg//BQv/o6D4M/%2BGH1b/wCaij/hB/8AgoX/ANHQfBn/AMMPq3/zUV7NRQB4z/wg/wDwUL/6Og%2BDP/hh9W/%2Baij/AIQf/goX/wBHQfBn/wAMPq3/AM1FezUUAeM/8IP/AMFC/wDo6D4M/wDhh9W/%2Baij/hB/%2BChf/R0HwZ/8MPq3/wA1FezUUAeM/wDCD/8ABQv/AKOg%2BDP/AIYfVv8A5qKP%2BEH/AOChf/R0HwZ/8MPq3/zUV7NRQB4z/wAIP/wUL/6Og%2BDP/hh9W/8Amoo/4Qf/AIKF/wDR0HwZ/wDDD6t/81FezVj%2BMfiF4B%2BHdlFqXxA8caPoVvcS%2BVBPrOpxWqSPjO1WkZQWwCcDnilKUYRvJ2RpRo1sRUVOlFyk9kk236JJt/JM8x/4Qf8A4KF/9HQfBn/ww%2Brf/NRR/wAIP/wUL/6Og%2BDP/hh9W/8Amorsbv8AaT/Z1sNOk1i%2B%2BPngqC0hXdLdTeKrRY0HqWMmAK8g8ef8Ffv%2BCb/w8vf7N1X9qbRNQuC21IvDdpdaqHb0D2cUif8Aj2K5K2Y5fh1erWhFecor9T6DLeDeL85qOngMuxFWS3UKNWVvW1Oy%2BbR13/CD/wDBQv8A6Og%2BDP8A4YfVv/moo/4Qf/goX/0dB8Gf/DD6t/8ANRXmI/4LJfs06j%2B%2B8HfCT4xeIrb/AJ/dF%2BGN5JFj1y%2Bw/pQ3/BZz9k3RyLr4h%2BCvin4R08HE2r%2BJfhrfRW0P%2B%2B0auw/BTXL/AG7k/wDz/j%2BNvv5bfie5/wAQp8SNllVZvslBy9ORVXO/lyX8j07/AIQf/goX/wBHQfBn/wAMPq3/AM1FH/CD/wDBQv8A6Og%2BDP8A4YfVv/mop3gT/gob%2Bwv8SdLGseEv2tPAEkRAzHe%2BJrezmXPTdDcMki/ioroF/a8/ZOYZX9qD4dn6eNbD/wCO12Qx2BnHmjVi1/ij/wDJHztfhXinC1XSrYCvGS0adCsmv/KRzv8Awg//AAUL/wCjoPgz/wCGH1b/AOaij/hB/wDgoX/0dB8Gf/DD6t/81FdhoP7S/wCzj4p1BdJ8MftAeCdRun%2B5bWHiuzmkb6KkhJrT%2BKHxe%2BF3wU8F3HxF%2BLfj/SfDuh2q5m1PVr1IYskZCqWPzseyrlmPABNarEUHBzU1Zbu6svV3svvOGWU5tDFQw0sPUVSbSjF05qUm9EoxcFKTfS0Weef8IP8A8FC/%2BjoPgz/4YfVv/moo/wCEH/4KF/8AR0HwZ/8ADD6t/wDNRXkkX/BYr4cXzyeOdB/ZZ%2BMeqfDBZDFH8UdO8FSPp8jD70wiJEv2cD/lqVzuyuzIrurX/grH/wAE5rvwTH4/T9rfwmllJnFtLcSJfLgZ5syn2gfjHXBTzrKKl7V4rrq%2BXTuubluvNXXmfVYrwx8QsHy8%2BV1pXfL7kPa2l/JNUXVdOfeFRU5rqlrbof8AhB/%2BChf/AEdB8Gf/AAw%2Brf8AzUUf8IP/AMFC/wDo6D4M/wDhh9W/%2BaivN9J/4LV/8E99S1SG3vfijrOl6Zdvs03xJrHg7UbfTr1%2B6xzNDxjqS4Ue9e5eFf2pv2Z/HOjxeIPB37QngnU7KYfu7my8UWkik9xxJwR3B5HetqGZ5bim1SrQlbtJf5r/AC8zz814G41yOMZZhltekpbOVGok/K6jJXXVNqSejinocr/wg/8AwUL/AOjoPgz/AOGH1b/5qKP%2BEH/4KF/9HQfBn/ww%2Brf/ADUV6Vo3xN%2BG3iOf7L4e%2BIWh38uf9XZatDK35KxrcrsjKM1eLufNVaFfDy5asHF9mmn9zSZ4z/wg/wDwUL/6Og%2BDP/hh9W/%2Baij/AIQf/goX/wBHQfBn/wAMPq3/AM1FezUVRkeM/wDCD/8ABQv/AKOg%2BDP/AIYfVv8A5qKP%2BEH/AOChf/R0HwZ/8MPq3/zUVwA/4LMf8E97bxtqHgnX/jLcaUbHVJtPh1i/0C7/ALNvponKSGC6jjaN0DAjeSoOMjIIJn%2BJ3/BWf9ljQL628GfAS/1H4y%2BMdSgEmmeFfhfbf2k7A9HmnT91boCRuLMWQclOK8x51lHK5KvB200km79kldt9rJ36H3MfDHxEdeFKWU4iLmuZOVKUIctk3KVSXLTjFJpyc6kFH7Vnodx/wg//AAUL/wCjoPgz/wCGH1b/AOairf7K3xG%2BNPjDWPih4E%2BOmv8AhfVtU8A/EKLQ7PVfCfhq50m3urWXQdH1NWe3uL28ZZFk1GVCwl2lY0O1TnPnX7Of/BQXxf4h%2BMw/Zp/bN%2BBj/CHx7q8X27wZYXOsR3tjrtowB8qG7QCNrqMna8Q6kZHPyjuv2X/%2BS3/tHf8AZZrH/wBQrwvXThMZh8bTc6T2dmmmmn2admn5NbNPY8LiDhzN%2BGMbHDZhBJyipxlGUZ05we06dSDlCpG6avGTSlGUXaSaPZqKKK6jwwooooAKKKKACiiigAooooAKKKKACiiigAooooAKKKKACvLPF37G3wO8b/Hq2/aX10%2BNF8YWWlTaZZ3mnfFLxBZ2sFnMIhNAljb3yWipIYIHcCL5pIY5Dl0Vh6nRQB5h40/Y5/Z6%2BIfjnSviN4z8IahfarpEWnRoz%2BKdSW3vxp85uLFr%2B3W4EOpNbzs0sT3aTNHIxdSGOaXSP2O/gBpfjzU/iTe%2BGdX1zVdVsL%2Bxmbxb4w1TWre2tL11a7t7W2v7maCyil2IHjt0jVlRExtVVHp1FAHA/Ab9mP4Mfs0aZf6X8IfDt/ajVJIWv7vV/Ed/q11KsMQhgi%2B0X880whijG2OEOI4wTsVdxz5D8e9W/s7/AIKw/s32e7H2/wCFfxMgx64n8LS/%2B06%2BnK%2BPf2t9W/s7/gsV%2Bx1absfb/CPxRg%2BuLLRZP/adc2LnyUb%2BcfxlFfqe1kGH%2BtZi6f8A07rP/wABo1Zf%2B2n2FRRRXSeKFFFFABRRRQAUUUUAFFFFABRRRQAUUUUAZfjD/kEw/wDYVsf/AErirhdf/Ym/Yy8V67e%2BKfFP7I/wx1LU9Su5LrUdR1DwDp0091PIxeSWSR4SzuzEszMSSSSTk13XjD/kEw/9hWx/9K4q%2BdvH/wDwWU/4JufC/wAd638NPHX7R32HW/Dur3OmaxZf8IhrEv2e6t5Wilj3x2jI%2B10YblYqcZBI5rhx1bLaMIvGSgk3pz8tr%2BXMnrbsVHiSpw3%2B9hjXhufS6qypc1tbXjUp3tvZt23t1PRP%2BGB/2Ff%2BjLPhL/4bnTP/AIxVvQP2Jv2MvCmu2Xinwt%2ByP8MdN1PTbuO607UdP8A6dDPazxsHjljkSEMjqwDKykEEAg5FeM/8Pzf%2BCWX/AEdF/wCWTrn/AMhVr%2BAf%2BCyn/BNz4oeO9F%2BGngX9o77drfiLV7bTNHsv%2BEQ1iL7RdXEqxRR75LRUTc7qNzMFGckgc158Mbww5pRnRvdWt7O9%2BltN72sV/wARNxNf9088nLm0t9bqu99LW%2BsO972tZ3vazvZ%2By/tNfBOy/aT/AGdPHf7Peoa/LpMPjfwjqGhvqsEAlez%2B1W7wiYISA5QuG2kgNtxkZzXl/iL9ib4heP8AQfi7L49%2BPtrF4k%2BLfw703wzfa14T8KzabDpslmNRC3MUUl9PIyOL8BojMDiJsSDzBs9c%2BOvxh8Ofs%2B/B7xH8b/GWmajdaN4V0qXU9ZTSoUknis4hunmCu6BljjDysM52xttDNhT5f8Z/%2BCiHwd%2BC2l%2BLtc1Tw3qeoWPgrxbZ%2BG9Y1EeINB0q0e/uNNi1EJDcavqVnDJsgngDAPv3zBUV9khT3jM86%2BCP/BKaL4ReIofE0PxJ8IWG34uDxy%2Bg%2BAvhfHoGkQMPCN54cNnbWqXkphDfahdtKzyMzoykfOHT0L4G/sUeIfgFH4Eu/CPxcsrm/wDA3wN0r4dW8uoeF3aG7%2BxyQMb5o0u1Zd6wsBCHOwuD5jbdrcpa/wDBR3SfFPj6O/8ABNxaXHgLXPBnwk13wjqsWhST3l1/wmHiDVtNKzI93CscYis7MqwBeBpJnZLnCwVY8G/8FGj8TP2ivB/gjwh8H/E1l4B8R%2BCvFmv2nizVNCWdvEMOk3GnQxz6XHZXM05jf7VK3lT26TzBoGhQgnIB6R%2B238APiZ%2B1D%2Bz1q3wN%2BGPxU0LwdPrskcWp6xr3hCbWk%2ByKS7RxQxX9mUlMixESNI6hVdfLJcMl/wAffs%2Bz/Hz4cQ/C79pbX7LXNMe20u6v/wDhEE1Tw5O2s2d0t0t7b3FtqTT20Qmit3jhWRnjaIlppQwCw/tgfEH4v/Dj9lrxj8W/gJqHh208QeHPDN3rVq3jLQ7q8tGitrd53je3huLaXeyptH7xNpOSDjad%2B3%2BMPh/w58AYPjx8UdVtdK0228Jx63rt2qN5VtH9mE0pVfmYgc4UbmPAGSaAPn3wR/wS5h%2BDXhrQLj4MfGhx4u8K/FDxZ4t0DxB8Q7PUvFFvFDr014Z7F4LvVFnO2C5iUzx3MTSzQNPIrNcTq9S%2B/wCCNfwBf4f%2BAvDOj/ELxxp2s%2BDbjwn/AGhruneOdbsotZt9Dnjliiawsr%2BC0gZgsixyJHut/N3JkqK2Pgf%2B0x%2B1d8a/hN8VvFHjHUfAPwr1j4ffEWS2Y%2BIvCd5q0Om6D/YWm6ssV9FFqdsTfRLqGyaaOUQgwMFjYEPXkvjv/gpx%2B1D8I/2c/AvxY%2BM0/wAM/CWr6t8GL34gXtvr3hvUIYvFFwjia38NaZF/aBa01E2jxeZue8cSSApbyIr7QD6z039n7W9I%2BOPxF/aDs/H1vJ4g8XeGdM0Hwz9r0UyQeHrOyS6kjQoJ1NzvvL24nkIMJdfKiJ/dLIfMvgx%2BxB8bPh1%2Bzj4x%2BCfxE%2BMXww8e6v4vu477VPEviT4M3M0Wt30kgN7c6xaS61IuoGWJIooo4ntY7ZIo0RDFHHEnIXf/AAUS%2BLV3%2B2lp/wAG9D0bRo/CN/400bRLS3vfB%2BomS6s77QItUN8%2BvLcf2bZXSSyNCukSxG7mWJJEOy5iYZ3gT/gpP8TfB37O/wAS/jP%2B0nqvh%2B38T%2BDfCt1rVr8MpvhhrfhS6t41u5be3le81O6mXULR3%2Bzq93awiOMuTySqUAdb4c/4JkJ8M/DXg7WPg34%2B8IaP488K6p4hu31rUPhotxosqa0kaXtvBpMN7B9kiSO3s4oFW4YxxWqpIZ98jNnxf8EntI8NaJo3w/8Ahz8YILDww3g3wR4c8aJqvhNbzVtWg8LzebYT2t6tzEljM4wkhME6qFRoVhcFm6Hwl%2B0h8X/Fv7Nni74mQ/tSfDay1bwFqNxd%2BMtT1f4Fa/p0Wj6bDpy3UkE%2Bk3%2BsQXkc21hOl00qxyQsu2HnzKwfFv7S37dXw8/Y28BftQeOpvhnZeIdR8NaNP4g%2BG7eDtRF7rmuahNGI9G0%2BX%2B0z9inIljgXfHeZm3Mdsa0AdZ8M/2AZPhv8dNL8e2fxL0w%2BEfDfjzxR4z8N%2BGrLwl9n1JNX183bX/2vUvtLC6tg9/dNHCtvEV/0cNI4t0zbP7Ct9b/AADl%2BH2m/FuNPG5%2BKU3xCh8dXHh4yRHW21Zr9BLZC4UyWywlbDyhOr/ZkAWRHCuvCah/wUR8X%2BGv20oPgT4w1rwZZ6fffFNfBdp4A/sy6/4SdbaTSjd2/iJpzc%2BU1jLcAQBRahAJB/pJlUwHC%2BGP/BQ/48L%2Bzv4s8d/Fu98ND4kWmnab/Y/wxu/hVrvhafTbrUNSGm2k082pXcp1Oy%2B0TQBri0jRBtcBssoAB2fjj/gnH4i8cfBGL4U6z8R/AGqapq3ifWvEHi/xV4o%2BECapONR1KZnN1o0U1/s0ma3RjFA8n2zascRcSsrmTW8e/wDBOjwZ47%2BJPw/vp4PAdr4P%2BHQ0E6Hax/DhZPE6ro88VzZWg12S7JjshcW9vI8C2wZxGyGXbIwrI1f9pn9pTw78JfjFf%2BNfiv8ADbQNa%2BA%2BsTv4v8Uv8N9QvNM1fSBoVrq6TW9gNailtJgl0YmV7qcFrcsABKoTJ%2BI/7cH7UPwv%2BGvwZ0LXfA3hGX4lazqPgF/jjapY3Sad4ctNe17TtFkgtk%2B0GRbp57y4%2Bz%2BZI67dNuXcHCI4B9gUV8v6/wDt5eKbL9slvhrpXh3S5PhVpXgvxVc6v4jMEsl/fa1ojae15FaESCL7NAt6YHJVme5jmjzH9nbzMr9lj9s34t/tN/BLxF48sPi/4JsfEj%2BENL8T6P4dg%2BDHiKaTQ7C5EsrMYpL2KbxNE8cbww3WnrBHLNC5RZNyxgA%2BofHP/Ik6x/2Crj/0W1eW%2BOP%2BUhfwv/7Iz48/9O3hCs/9lL4/eNf2kf2Vda%2BIPj6xso9QttT1/STcWWi3WlC8js7me3S4fTbySS60yR1QFrS4czRNkNjIA0PHH/KQv4X/APZGfHn/AKdvCFAHs1FFFABRRWb4w8ZeEPh54Xv/ABx4/wDFem6Houl2zXGp6xrF9HbWtnCoy0ksshCRoB1ZiAKANKiuc0z4w/CPWvhkPjXo/wAUvDl34NOnvfjxbba5byaYbRAS9x9qVzF5ShWy%2B7aNpyeKxL79qz9l3TPhVa/HbUv2kvANv4Hvbn7NZeMp/GNkmlXE25l8tLsy%2BS77kddoYnKMOxoA76vGf2D/APkiGuf9lm%2BI/wD6mut17DYX9jqtjDqml3sVzbXMSy29xbyB45Y2AKurDhlIIII4INePfsH/APJENc/7LN8R/wD1NdboA9mooooAKKKKACiiigAooooAKKKKACiiigAoorwD9uX9q/4g/AybwX8F/wBnrwppXiD4p/EzWn0/wppuszSLZ2cEUZkudQuRH85hhXaSFwTuJGdpB58ViaWDoOrU2XZXbbaSSXVttJLuevkWSZhxFmlPL8Glzzu7yajGMYxlOc5yekYQhGUpSeiiuraT9l8f/Ef4ffCjwzP40%2BJ/jjSPDukW3%2Bv1PW9RjtYEPYF5GC5OOBnJr5m1H/grn8KPGOtTaF%2Byb8CPiV8aPsUhXUtV8EeGXGnW2Oqm5uNgd/QKCG5w3q/4cf8ABL3RfGfiy3%2BM/wDwUA%2BJt38bPGcWXtdP1iEReHdHJ6x2mnD92wHQtICHwGKK3NfU2i6Jo3hzSoNC8PaRa2FjaxiO1s7K3WKKFB0VUUAKPYCuBf2xjNdKEfRTn89eSPp7z8z66a8OeHf3bVTM663alLDYVP8Au2i8TVt0k/YRe6jbf5J17/gp58adR01/DPw3/wCCYfx7fxhfEQaJD4k8JpZ6P57HAa4vhKywxr94kqAQMblzuE3ws/4JlxfFfXpfjt/wUp1yy%2BKnjvULcx22gMjjw94YgYgm2sbckByMANM43NgHG7Lt9dUULKvbTUsZUdZLaLjGMV5uK0k%2Bzle3RX1Jnx8stwsqPDWDjl8qmlSrCrVqV5L%2BSNapadGm95Rpcrm/jqOK5D5/tv8Aglb/AME7LXUI9Ti/ZC8GGSJtyrJpxeMn3jZijD2IIr17wD8H/hL8KbP%2Bz/hd8LvDvhuALt8jQNEgs0x6YiRRXRUV20cDgsPLmpUoxflGK/JI%2BZzLijibOaSpZhjq1aK6VK1Wa%2B6VSS/AKRlV1KOoIIwQRwRS0V1HhHlvjj9h79jb4lasde8efssfD/Vb5s%2BZe3fhK0aZ8/3n8vc34k1hN/wTT/4J%2Bucn9jn4d/h4Xtx/7LXt9Fccsvy%2Bcryowb/wR/8AkT6KhxhxdhqSp0cyxEYrRJV6ySXZJVrJeSSPAdf/AOCWP/BO7xJp7abqP7IPgqONurafpf2ST8JICjj8DWB4D/4I6/8ABPj4d%2BNLTxlpHwQa9XTWL6Xouva7ealp1nISMyJbXUroW4H3twGAQAQDX07RWUsnymU1N4eF1/cj/kv1PQp%2BIviDRw86EM3xXJNNNe3qtNPR7zk1daXTi7Nq9m7tgghtoUtraFY441CxxooCqoGAAB0ArjpP2cP2eZvGsvxKm%2BA/gx/EUxBm19vC9ob1yDnJn8veefeuzorunSpVLc8U7bXSdvS6Z8vh8bjcG5PD1ZQ5laXLKUeZPdPllG6fZ3XkVdY0LRPEOlS6F4g0a0vrGdNk9neW6yxSL6MjAgj2Irw/xJ/wS8/4J6%2BK9Wl1vWP2RPBIuJ2zKbLSRaoT67ISig%2BpA5r3qisq%2BEwmKt7anGVu8U/zTO3K%2BIc/yNyeW4yrQ5t/Z1alO/ryTin80/U%2BZ9a/4I6f8E0deg%2Bz337J%2BiRr62WoXts3/fUM6n9a5%2BX/AII7fAzwM39o/sr/ABq%2BKfwiv05jPhLxxczWsh7CaC7aXzV/2dw6V9cUVxyyTJ5O/sIJ90uV/fHlf4n0tHxR8RqMeR5tXnDrGpUdWD9adZVoP5xfyPjC2/aM/aj/AOCenxG0/wAI/t5/ESH4g/CvxHNHa6L8ZLTw/HYS6Desdq22qQQZRYn423AzzksTlgnT/wDBRf4/%2BMtU0fwx%2Bxh%2BzDrsb/ET4zBrez1W0k3poWg7c3mrMyHhRFuWNgQWJYoSyAH6T8ceB/B/xL8Iaj4B8f8Ahuz1jRdXtHttS0y/hEkNxEwwVZT1/mDgjkV4V%2Bxh/wAE2fg/%2BxX448SePPB/inXdfvNXt49N0KTxHdG4fw/o0bGRNMt3Yk%2BUJDu5xkJGMZUs3HWwOZwTwtKd6M95OT54R%2B0k3rLmWkW3zQu7tpRa%2Bjy7ijgjESWf5hhlTzHDK8aNOlFYbFVNqVScI2jRdKVqlanGPssQoQUY05Sqxl6f8G/2b/hL8EfgRoX7OnhXwnaT%2BGdC01LSOzv7ZJVuTyZJpVYbXkkcvIxxyzk1r/Dv4OfCL4QW93a/Cb4V%2BHPC8V/P519H4d0O3sluJP78ghRd7e5ya6Sivahh6FNRUYJcqstFotrLS6VvM/McTm%2BbYydaVfETl7aTnUvOVpzbcnKa5uWUuZt3cW03pbp5p%2B1X%2Byh8JP2wfhdL8Mvitpko8uUXOia3YP5V9o16v%2BruraXrHIpx7MOGBBxXlH/BMTwd8Z/h6vxx8D/tBfEO28WeK9K%2BMsNtfeJLaExjUYF8JeHBazOpAIlNt5Hmdf3m/wCZvvH6irxn9l//AJLf%2B0d/2Wax/wDUK8L1KwtBYp4hK02rN910utm10b1SbV7OxvLPs0qZFHJ6k%2BbDxn7SMWk3CTTUuST96EZq3tIxfLNxhJx5oqT9moooroPHCiiigAooooAKKKKACiiigAooooAKKKKACiiigAooooAK8n%2BD/wC0H8QPHX7SfxM/Z78ffCfTdAHgjTdG1TQ9X0/xS2oNrGn6jPqkMUk0LWsIs5QdMdjErzjEy/OCCK9Yrwfw3%2Bzh%2B014b/aw8e/tGwftB%2BBJdM8ZeHtK0a08OP8AC29E9hb6dc381qz3Y1rbPIRqVwshEEYcrEVWPayuAQeCP24rf4n/ALVWv/s7%2BANP8CTWvhm/urDUTqfxLS28RXdxb2wklls9FW0dprRJ3W2a4kuISJEnIjZY1MnI/Ev/AIKI/FH4F%2BFPigfjb%2Bz74W0zxN8OvBuieJhY6V8TpLrSp7LUr65solu7%2BTTIXsZEe0mdx9nlQxjcjvhwu3H/AME/77Tvj6fiX4d%2BKOk2PhdPihc/EaHw6vg0nUf%2BEin0iTTZGfURdgPZsJXlaEW6yliY/tAi/d0/9m79kz9qb4C%2BA/F9jrn7S/w/8UeNPFmpJq1546vPhFexT3mpeYu%2Ba%2Bi/t1xcQrAiW8FvA1slvHHGFJC7SAesfs8fFTUfjT8KNO%2BJOo3Pgicai0pt7n4d%2BNz4i0maNXKq0N8bW1808EMBEArAjLYzXyl/wUC1H%2Bx/%2BCu37EWpbsZT4g22f%2Bu1ro8eP/Hq%2Bl/2YP2ftW%2BAmieKZ/Ffje01/wAQeNvGV14m8R32laH/AGXYC7mht4NlraGadoIxHbREhppXeVpZGctIcfFP/BS74bfCr4Wf8FY/2OviZ4I%2BGnh/Rdb8U%2BMNdj8Ta1pWjQW93q8jXGhRRtdTRoHuGXzXClyxG9sdTXnZtLkwEpdnD/0umfZcAUfrPFdGj/NCuvvwuK/yP0jooor0T40KKKKACiiigAooooAKKKKACiiigAooooAyvGH/ACCYf%2BwpY/8ApXFWrUN/YWmp2j2N9AJIpBhlJI75ByOQQcEEcgiqH/CH6T/z96p/4PLv/wCO0AatFZf/AAh%2Bk/8AP3qv/g8u/wD47R/wh%2Bk/8/eq/wDg8u//AI7QBZ17QtH8UaHe%2BGfEWmxXmn6jaSWt9Z3Cbo54ZFKPGw7qykgj0NfOvgn/AIJg/Cj4afCPwH8MPh58aviPpWofD7W9T1TS/HK6np9zrd5LfpNFdC6kubKSCTdFN5SusKSxpDEI3TaSfoH/AIQ/Sf8An71X/wAHl3/8do/4Q/Sf%2BfvVf/B5d/8Ax2gDwbwN/wAExPgH8P8Aw14e8K6J4t8YSW3hrw18PNDsGu9Stnke28G6rd6ppbSN9nG6SWe8lW4bgOioIxCwLta%2BG3/BO7wL8KfiJpfxA8JfHX4iKvhfw3ruheA9CuLzTZLDwtZ6rNbTTJaIbHfKYntIPJN09xsVNh3J8te3/wDCH6T/AM/eq/8Ag8u//jtH/CH6T/z96r/4PLv/AOO0Ac3%2B0B8E2/aA%2BB2u/A28%2BKXiTwzb%2BI9KfTdT17w3Hp5v2tpEMc6L9stLiBfMjLIx8nIDkoUYBhneGP2adBs/hJpXwP8Aij431T4j%2BGrHw9caPqumePNG0e5h16F5Ymha9igsIYnaCOIwxrGkcbJI5mSaQJIna/8ACH6T/wA/eq/%2BDy7/APjtH/CH6T/z96r/AODy7/8AjtAHhuh/8Evv2RvBfwt%2BLfwc%2BF/gKDwboPxq1BJvGdp4O0uw00fZRZ29m%2BnwCG2AS0eKGXcjB2DX12yshlBXu/2hv2a7X9ozw%2BngLXvi/wCLtA8KXWnz6f4n8KeGm0%2BK18RWMwVZLW5lmtJbmKMxh482k1u%2ByVwW%2B6V7f/hD9J/5%2B9V/8Hl3/wDHaP8AhD9J/wCfvVf/AAeXf/x2gDyLUP2C/hrffGKf4oJ8Q/F9vpF540sPF9/8Pba5sl0S512ytbe2tr5gbU3aFFtLV/JS5WAyW6OYixYtDffsC%2BBvGs3iS8%2BO3xi8c/Ee58Q%2BCrzwnDc%2BKJ9Nt20jSruWOW4itBpllaKsjyQWz%2BfIJJQ1rEQ42nPsf/CH6T/z96r/AODy7/8AjtH/AAh%2Bk/8AP3qv/g8u/wD47QB49L%2BwN8P9d%2BF/jn4b/Eb4r%2BNvFc/xL1Gwn8ceJdauNPjvtVtbT7Oi6cyWlnDax2jwQG3kSOBGeO4nO8SP5gv/AB4/Y5X45fG/wl8eIv2jviB4U1LwVYXNvoOl%2BHodEuNPimuPlmvfJ1LTLsi6aLMAmVlZIXkRNoml3%2Bpf8IfpP/P3qv8A4PLv/wCO0f8ACH6T/wA/eq/%2BDy7/APjtAHEa9%2BzRZ%2BMPjlpnxm8c/F3xdrVl4f1L%2B0/DHgW8Onpo2kX/ANjez%2B1xiGzS7mfy5ZyFuLiaNHnZ1RWWMx8dqH/BPzwT41i8R3Hxu%2BN/xA%2BIGp6/4UPh201rxFc6ZbXOh2X2hLrNkNNsbWNJhcw28/nSJJJvtYfmwu0%2B0f8ACH6T/wA/eq/%2BDy7/APjtH/CH6T/z96r/AODy7/8AjtAHkkf7CPw7vvhN4j%2BFfjb4k%2BMPEj%2BNfGuneJvHPiTV7ixS/wDENxZyWGy2uBbWkVulq9vp1raPFDDFugVwCHdpDJ%2B1F/wTu/Y2/bDubbWfjr%2Bz74R1fW7bV9FvR4mufCmnXGpyRabqUF/HYvc3FvI5tJWhME0OcPBcToCu/cPV/wDhD9J/5%2B9V/wDB5d//AB2j/hD9J/5%2B9V/8Hl3/APHaAPIb7/gm5%2BxPc/tF6X%2B1JYfs4%2BDNN8Xafb60l1e6X4R06A6rPqhhNzd3ci2/mzXGI5AsvmA4urndu804p/Dr9gHRPhTpt0ngn9pT4mW2qp4Z07w14Z8RTTaPPd%2BGtEspmlh0%2B0WTTWgljO7Y8t3Fc3Eiqu6UsqsPav8AhD9J/wCfvVf/AAeXf/x2j/hD9J/5%2B9V/8Hl3/wDHaAOH%2BHvwI8O/s/8Awc8TeHNG8S6zrt7rFxqWs%2BIPEXiGaF73VdQuFJknl8iKKFDtVEVIoo41SNVVBisXxx/ykL%2BF/wD2Rnx5/wCnbwhXqJ8GaG%2BFna%2BmTIJiuNWuZEb2ZWkKsPYgivLvHH/KQv4X/wDZGfHn/p28IUAezUUUUAFeIft/eG/EWu/BPRtW0TwpqWv2nhv4l%2BFdf8QaHo%2BnSXl1eabY61aXNwYraJWkuXhWP7SIUVpJPs%2B1Fdyqn2%2BigD4u8NfD20%2BJP7J/xb8PeL9C8deEdO8T/Eu/8eeE7b/hWWqXV3Z2sWswXdrK%2Bmi38yZri9s3vJNOwty8N2Q8cbSHHAeEPhx8aNC0rXP2w/H/AIx8T2fiG9%2BPV7r/AICa3/Zy1zUo7izuPCljo05m8NW0pv8ATY5JLK6eKSedHUtG8zH7U8bfohRQB4T%2BxV8Jfjr8JP8Agn58PfhDqmvWekeOtI8E2lt53iPSv7Qh0ybaClvPb2txbrL5KFYSkMyJmP5G2gZd/wAE6bfxLafs3X1r4y1axv8AV4/i38Q11O%2B0zTntLa4nHjPWvMkigeaZoULZIRpZCoIBdsZPuleM/sH/APJENc/7LN8R/wD1NdboA9mooooAKKKKACiiigDz79qT9pDwF%2ByX8C9e%2BPXxHW4l07RIEK2VkFNxezyOscVvEGIBd3ZR14GSeAa8KT/gr58MPDSgfG79lP47fD/A/eXPiP4azG2%2BqyQM%2B4e%2B0Vn/AB//AOM0P%2BCjPg39ly1/0nwT8FI4fG3xEA5iuNYkBGlWL9sqCZypBDIzA8ivsavEVTMMdiajw9VQpwfKrwUuaS%2BJ6tNJNqKt1Uj9PqYPhHhXJcFTzjAyxOKxMPby5cROi6NKbtQilGnUjKdSEZVpc60jOklvr8l/8PjP2etT/wCRD%2BBnxs8VZ%2B4PD3wuu5N/08wpSf8ADx79ozxYP%2BLSf8ErvjPelv8AU/8ACYJaaAD6bjM77a%2BtaK1%2Bp5rP48Vb/DTgvxbl%2BRwf6xcBYf8A3fIeZ/8AT7GYia%2BcacKK/wDJkfJI%2BIf/AAWg%2BJZEnhf9nf4L/DOBuWj8a%2BLLvWbhB6A6eBGT9eKreIPFX/BcL4faJdeJ73wD%2Bzn4yg06FriTRvDVxrdvqN8ictFCZyIhKwBC54zjg9D9f0UPKpta4mrfvzJfgocvyKhx9hYTSjkeA9mvsuhUk2uq9pLFe0u1pzXut0ro8u/ZW/a5%2BEv7W3wgT4teANQezFq72/iTRNUxFeaDexj99a3SHBjZCDyeGHzDivCv2CLa4/a7/aV8e/8ABSXxHA76HM0ng74NxTqcR6LaykXN8gPQ3FwGweGULIpyCKd%2B3B/wTP8AHXxc8X6t8V/2Ovi5D8N/EvjjTzofxQgZWFj4i0qUbJJnRFbF2iFtrgAuCQXTJY/Ufwn%2BGHg/4K/DLQfhJ4A00Wmi%2BHNKg0/TYB1EUSBQWP8AExxuZupYknk1zUaWY4rGQhi4%2B7R15ltUltFpbrlV209ptWbSTPYzHH8G5Dw5icRw7XbrZhan7KV/aYSgrTr05Tso1HWqKnTp1I6zw8JOcYTlOL6GiiivfPyUKKKKACiiigAooooAKKKKACiiigAooooAKKKKACiiigAooooAKKKKACvGf2X/APkt/wC0d/2Wax/9QrwvXs1eM/sv/wDJb/2jv%2ByzWP8A6hXhegD2aiiigAooooAKKKKACiiigAooooAKKKKACiiigAooooAKKKKACiiuZ0/40/BzV/ipf/AvSviz4ZuvG%2Blaauo6n4Ot9et31Wzs2KBbiW0DmaOImSMCRlCnzF5%2BYZAOmorlfG3x2%2BCHw08XaF8P/iP8ZPCvh/XvFFwLfwzomt%2BIba0u9XlLrGI7WGV1e4Yu6LtQMdzKOpFLoPxz%2BCfinx5rfws8MfGHwtqPifwzEsviTw5YeIbaa/0pGAIa5t0cyQKQRguqg5HrQB1NfnN/wWjdrD9uX9jXxKGIXSPG99dyH/ZGs%2BGUOfb56%2B9PhX8Z/g98dfDknjH4I/Fjw14x0iG7e0l1XwrrtvqNsk6BS8Rlt3dQ6hlJXORuGRyK%2BCv%2BC6X%2BhfFv4J%2BKOn9h6bq9/u/u7fEng1M/%2BP15Oe6ZRWfZX%2B6UH%2Bh%2BgeFfveIuWw/nqOH/AIMpYin/AO5D9GqKKK9Y/PwooooAKKKKACiiigAooooAKKKKACiiigAooooAKKKKACiiigAooooAKKKKACiiigAooooAKKKKACiiigAooooAKKKKACvGfHH/ACkL%2BF//AGRnx5/6dvCFezV4z44/5SF/C/8A7Iz48/8ATt4QoA9mooooAKKK534r/FfwD8EfAV78TPibrjafo9g8Ec00VnNcyySzTJBBBFBAjyzzSzSxxRxRo0kkkiIiszAEA6KivO7L9q34CX3wLuv2kU8dND4QsZJ4b69vNIu7e5trmG5NpJaSWUsS3SXQuVMH2VohMZcRhC5CnGu/25/2bLLwNY%2BPZPE3iCSPUfEEuh2mhW3gHWptdbUooHuJbVtHjszqCSJAjTsGtxti2yHCMrEA9drxn9g//kiGuf8AZZviP/6mut16Z8OviH4K%2BLfgLR/if8OPEUGraBr%2Bmw3%2BkalbZ2XNvKgdHAYAjIIyCAQcggEEV5n%2Bwf8A8kQ1z/ss3xH/APU11ugD2aiiigAqHUdRsNI0%2BfVtVvobW1tYWmubm4lCRxRqCWdmPCqACSTwAKmr4t/aj8Y%2BKf8AgoV8fLv/AIJ8/BPXrmy8AeGpY5vj14z02TBZN2U0C3kHHmyFT5pH3QGU52PG3FjsYsHSTS5pydox6yk%2BnklvJ7KKb7X%2Bm4V4bnxJmEoVKnscNRi6les1eNKlFpOVtOacm1ClTTvUqyhBfacaHiz4lfFn/grD4rvvhF%2Bzvr%2BpeEv2ftNu3tPGvxLtQYbzxiyHEmn6WWGVtzysk%2BMMMjkfJJLd/Dv9tb/gmRBLe/s/Wur/ABy%2BDECMR4A1G6L%2BJPDKY4FjNtJvLdeB5JUuoACqPmkP2R4K8F%2BE/hz4S03wH4F8P2ulaNpFnHaaZp1lEEit4UUKqKB0AArUrgWTSmvbVasvbv7cXa392MXePIv5ZJ83xN82q%2BsqeJNLDSWW4LAUnlMdPq1VKTqd61WtFRqrEy6VaU4Kkn7KnB0k41PnD/gmL8BvHHwq%2BA138U/jZYyR/Ej4ra3N4s8cfaIiktvNcndBZlW%2BaNYYSq%2BWfuO0gr6Poor08JhqeDw0KENoq13u31b8222/Nnw3EWeYviXPMRmeJSU6snLlj8MVooQiukKcIwhFdIwXmFFFFdJ4wUUUUAFFFFABRRRQAUUUUAFFFFABRRRQAUUUUAFFFFABRRRQAUUUUAFFFFABRRRQAUUUUAFeM/sv/wDJb/2jv%2ByzWP8A6hXhevZq8Z/Zf/5Lf%2B0d/wBlmsf/AFCvC9AHs1FFFABRRRQAUUUUAFFFFABRRRQAUUUUAFFFFABRRRQAUUUUAFfLfxG%2BIeg%2BF/8AgqR4Q1A/DLx/Ja2Pwg8TaZrHiHSPhPr13pn267vfD9zbRNqFvZPbOzW9hcciUhTCI2KuUQ/UlFAHwx8X4v2nfAv7cniP4s/CyTxvcv43HgOPwdo9p8NGu9I1LSo7uSPVLTVb%2BW0Z9J%2ByxzXV3GjTWbLJclgt0xMC%2BZePv2ffj78TvhXrn7Ofw7%2BEXirTvHvh3wx8aYtd8SX%2Bg3VhYaq%2BvTXh0%2BO21ORFgu2v5bi0uz5Ekhg%2BynzvKkjVT%2BmlFAHzj%2Bxy83jn9oP4o/Hbwp8LfE3hDwZrnh7wppGkaZ4q8JXWhXM%2BoWEV%2BbucWd3FFKqLDdWFqJdmxzZEIzIisflX/guZovxctLi88ReLfGXh7UtItPhTrt74U03SvDE9nd2Cx%2BLfAvmC5uZL2ZLtiGGGSG3C7WyG3Db%2BnFfBH/BbTSf7Z0O6s9m7Z%2Bzv45nx/wBcvEHgmXP/AI5XmZ3HnybEr/p3P/0l/wCR9z4YVlh/EnJaj2WLw9/R1YJ/hI%2B9La4iu7eO6gbKSIHQ%2BoIyKfXO/B/Vv7e%2BEvhbXN277b4csZ8%2Bu%2BBG/rXRV6MJc8FLuk/vSZ8biaLw2JqUXvGUo/8AgMmv0CiiiqMAooooAKKKKACiiigAooooAKKKKACiiigAooooAKKKKACiiigAooooAKKKKACiiigAooooAKKKKACiiigAooooAK8Z8cf8pC/hf/2Rnx5/6dvCFezV4z44/wCUhfwv/wCyM%2BPP/Tt4QoA9mooooAK8g/bX%2BG/j74h/CfSL74ZeGW13WPCfj/w74nh8OpdwwPq0Wn6nb3E9tHJO6RLMYUkMXmukZlWMO6KS6%2Bv0UAfJ/hX4E%2BO/E/7O3xQ8PfGT9n7xnbXfjvxveeONP0Dw5r%2BjLqWl3CX8EmnW8M7Xv2ZdSiNha3pLObQSybPOlAbPkDfsR/tFNpR%2BJ3xI%2BG/xN8YJ4n%2BOl54y8QeH9O%2BIWl6R46sbf/hFLbQbSRdT068sLOB2az3zQ2N1CnkXEcQaVY5Ul/Q%2BigDxv9ln4MfFLwL%2BxB4I%2BBfjTxRL4S8UaT4NtNNuNQ8Kw2Dy6S0aBUSIS20lpJJGgVGbyGjdgzKuCKz/APgnTpN/oP7N19omq%2BJ77W7mz%2BLfxDhuNY1OOBLm%2BdfGetAzSrbxRQh3I3ERxomSdqqMAe6V4z%2Bwf/yRDXP%2ByzfEf/1NdboA9moori/2i/jJo/7PXwG8YfHDXVR7fwt4eutR8l2wJ5I42aOEH1d9qD3YVFSpCjTlUm7JJt%2BiV3%2BCOnBYPE5jjKWEw8eapUlGEUt3KUlGK%2BbkkeMft7ftS/ETw9rGjfsa/snGO7%2BMXxChYWdx1i8K6XkrPq9yQDsCDcIwR8zjIDFQj%2Bofslfst/D39j/4Kab8G/h8JLgQM1zrOs3fNzrGoSYM95O3JZ3YdydqhVBwory3/gmX%2Bztqvg/4Xv8AtWfGe9k1j4r/ABftLfXPF2s3kW17SCVFkttNhXnyYYYyi7B/EMHhEC/TteXl9GpiKn1%2BurSkvcj/ACQetv8AFLRzfpFaRd/vOL8xweTYT/VTKZ81GjO%2BIqr/AJicRC8XLv7Ci%2Benh4vf368lz1Y8hRRRXrn50FFFFABRRRQAUUUUAFFFFABRXgX7TH/BQ/4Q/s%2BeOrP4KeGvDHiD4jfEjUEMlv4A8A2QvL6CILuM1ydwW2jxg5c7sMGClckcInx0/wCCv/xWYXnwz/Yw%2BG3w5svvRN8UfG8t/NOvY%2BVpoBiJ/utnFebVzbCU6rpw5pyWjUIuVn2bXup%2BTlfyPIrZ3gaVaVGHNUnHRqnCU7Ps2rRT8nO/kj64or5Ini/4Lk65GdJluv2ZNDSf5X1awXXbie1Xu8cco2Ow7BuPWo4f%2BCXfjn4sP/a/7Zv7dvxQ8e3TjLaR4e1BfDujxk9QLW1zuI6BtwJGcjnjP%2B0cVV0oYabf9%2B1Nfi5N/JGX9q4ys7YfB1G%2B8%2BWkl83KbfyifWdzq%2BlWV1FY3mp28M9wcQQyzKryH0UE5P4VYr5Rt/8AgiP/AMEzktJodR/Z1k1Ce4H7%2B/v/ABfq0lwx/vb/ALV8p91xVZv%2BCMv7MtsP7K8PfFr4xaPoL8XPhbTfibdrp9wv9x0fc5X6OKft86jvQg/Sp%2Bd6aX3D%2Bs8Qx1eFpv0rbevNTS%2B4%2BjPEnx5%2BBvg3xHF4P8X/ABm8J6Vq85xDpWpeIraC5kP%2BzE7hj%2BAroL3X9C03RZPEeo61aW%2BnRQGaW/muVSFIwM7y5O0LjnOcV8%2B%2BGv8Agkd/wTi8LeHJfDNn%2Byf4buoZx%2B%2BudW869umPdhcTyPKhP%2Bywrm4v%2BCJv/BPO31eKe1%2BFusx6OlwLiXwn/wAJlqLaVPMDlZHhaYliDyBuC84II4pe1zxf8uqbv/fkret4a/K3kL23EkdfYUnftUmret6evyt5HZeHP%2BCon7CXjL46WH7O/hD9oXSNU8Q6lKYLOWxWSSwluP4bdbwL5Dyvg7VVzuI2j5ioPv8AXkHxb/YU/Zg%2BLv7Plz%2BzRe/CnSdF8MtiXTIvDlhFZPpV2o/d3dsY1AjmU87sHcCVbcrMD87eDf2tv27/ANlBrj9j/wCKf7L3iz4zeOLEKvw88c%2BH0WDTvEWm8qs%2BpXUhK2c0WFSQtuLFlyeRLJk8fi8BO2OScZbShGTSf8jXvSu/sy2lqmou18XmeOyypbMknCXwzpxm0pfySj70rv7ErWk7xai7X%2B6Kq63rejeGtHuvEXiLVrawsLG3e4vb68nWKG3iRSzyO7EBVABJJOABXyRpv7Nf/BV74q7/AIl/EL9vrSPhlrc2DYeC/BXgS21XStOi67JXu2D3Ep4BbJCkHaSCMVdc/YI/bS/aQ1fTPh9%2B3P8Atb6N4o%2BGGm3IvNR8P%2BDfD7aRc%2BJZkKmOC%2BZDhbdSNxWM/MfQhXS5ZljJR/d4Wd38PNypesvecorq9G7dLs0lm2YTh%2B6wVS7%2BHmcIrycvfcoLq7xbtpa7sjw9/wAFk/hjq/xXtZtW%2BEfiDSvgvrGrvofh744agjR6Xe6sh5RkZAYrZuVS4ZsFkbKqFcp9d%2BIvFfhnwj4ZvPGninX7PT9I0%2Bze7vtTvLhY4IIEUs0jOTgKFBOc4xWJ4r%2BBnwg8bfCG4%2BAfiX4daTceDbnSxpz%2BHRaKlqlsoARERceXswpUrgoVBUggGvjzQ/8Aglr%2B0PrevWH7Mfxl/aUm8Qfs0eF78ajoXhp5XXWdVQFTBpF9MqjdZ27KSCGywKgKuE8nJ1M6wXuyXt%2BbZpKPLLtL/p31UtZK1mm5JrB1eIcu92UViHPZpKChN9Ja/wALqpazVuWSk5Ra1PD/APwWJibxQPij47/Zw8SaJ%2Bz7rGqtpXhf4xyQs0clwjBDc3NsF8yCzkc7Y5SOqEEEl1j%2Bz9B17Q/FOi2niTwzrFrqOnX9uk9jf2NwssNxE4DLIjqSrKQQQQcEGqtz4E8E3vgtvhveeENMl8PNp32BtCksYzZm12bPI8kjZ5ez5dmMY4xXyjF/wT7/AGnv2Xr%2B%2Buv%2BCdH7U9r4e8M3F493D8KPiHpDalosErnLLb3Kk3NrEWydiA8sSWNXB5tgNan7%2BL35Uoyi%2BtldKUOyvzrvK%2BmkHnmWa1b4mD1fKoxnF9eWN0pQ7K6nHvO%2Bn2HRXyPb/tVf8FV/Bqf2N46/4JgaX4nuIDiXXvBnxcsLezuf9qO3ulMyD2c5qfw3/wAFTdO8EeNrHwH%2B3F%2Bzj4n%2BBkusuE0HXfEd3FfaNdyc5ia%2Btx5cEgxnD4ULyzLkZ1WdYBNKo5Q/xwnFJ%2BcnHlX/AIFbzNlxDliaVVyp30vOnOCT7OUo8q7aytfqfWNFQ6fqFhq1jDqml3sNzbXMSy29xbyB45UYZVlYcMCCCCODXkH7dP7WVj%2ByJ8Dp/GWm6QdZ8W63eR6N4B8MRKWl1jWJztghVRyVBO98Y%2BVSAdzKD34jEUcNQlWqO0Yq7f8AW99Eu7aS3PTxWKoYPDSxFWVoRV2/Ly7t6JJbtpLc9lrD%2BJnxI8F/B/4faz8UfiLrsWmaHoGnS3uqX0x%2BWKGNSxOOrE9Ao5YkAAkgV8K%2BEP2Z/wBu/wD4J3%2BG7T9qbwR491f4tahraNqfx6%2BG13cCRr26kYyS3ukED5ZoVYR%2BXj96sQwD8qJa1v4v%2BG/%2BCzXxn8O/Bn4STX8nwJ8HR2fiL4p3t3ayWx1vUW/eWmhFWwSqMpeYAlcqcEFI2bxZZ3UVP2UqThiJW5YPW99ndacsVrPrGzT3i38/LiKqqPsZUHDFSsoU5a83NtLmWjjFa1Law5XFrWLl7N/wTp/4KFJ%2B3NY%2BL7PxH8M7nwZr3hzULe4ttBv3YzT6LewifT707gOZIyc7cr91gcOK7D9l/wD5Lf8AtHf9lmsf/UK8L145%2B2/bQfseftafC79v3QbdLPwzdtH4A%2BKyQIEij0u5cGxvXA4Vbe4A3Ngnb5aDivY/2XiD8bv2jSDkH4zWOD/3JXheuvK62I5Z4bEy5qlN2btbmi9Yystrq6fnE7smr4rlqYTFz5qtJ2crJc0ZLmhKy0V1eLts4WPZqKKK9U9oKKKKACiiigAooooAKKKKACiiigAooooAKKKKACiiigAoor55%2BAGmar4S/wCCgXxz8Gx%2BPvFeqaTceDPB2v2%2Bl%2BIPFV5qFtp15e3viRLj7HDcSullEyWtsvlQKiYhT5cgkgH0NRXyLoGnfEj4Ift3yX/xum1nWtG%2BMfxA1DTPhnqWl/GzXJ4tISLw8bprO48PP5djBGBpmoOLmBpnWWaPcsZbevFaZ8Avin8TJP2ldL/Zc%2BNfj2ys7S50bwJ4JHiv43%2BJZ7f%2B07J0vNXvYb24ubq4s2ke9XTjJAN6tpsgVSWJYA%2B76%2BLv%2BCrWk/21fapZ7c7P2UfinPj/AK5XnhOX/wBkr2f9hrxvZeIvhz4j8CN4Y1fSNW8BeNbzw74jtNU%2BIuoeLE%2B2pFBdFrfVdQP2i6hMV1DjzFjaN/MiMaGMivHf2zte8SeP/wBoLXfAGrfCHxDolnbfss/FO1sNd1W5057TWxLP4YUtbLbXcs6hcDP2iKAneNob5scmPh7TAVo94SX/AJLI9/hPEfVOK8vr/wAmIoP7q1F/lc%2Bg/wBjXVv7e/ZB%2BFWubt3234baHPn136fA39a9JrxD/gmrq39tf8E/vg5ebs7Ph3pcGf8ArlbpF/7JXt9GAn7TAUZd4R/9JiVxdh/qnFmY0P5cRXX3V6y/KwUUUV1nzwUUUUAFFFFABRRRQAUUUUAFFFFABRRRQAUUUUAFFFFABRRRQAUUUUAFFFFABRRRQAUUUUAFFFFABRRRQAUUUUAFeM%2BOP%2BUhfwv/AOyM%2BPP/AE7eEK9mrxnxx/ykL%2BF//ZGfHn/p28IUAezUUUUAFFFef/tL/HG5%2BAPw1i8WaL4RXxBrWq%2BIdL0Hw3ocmo/Y473UdQvYrSBZZ/LkMEKtL5ksgjkZYo3KpIwVGAPQKK%2Bfbn9ui60L9l7xT8bvFvwpjtPE/g7xifCOt%2BErfxEJLSPWH1KCwgxqDwJiykN1a3BuWgVo4JSzxBkaOqln%2B2h8V9a%2BFvxA8T6L8K/h5F4h%2BEHii70j4pWGr/FO7h0nS1g0u21Q3Ftfw6NNJcj7LeWzMr2sBR/NQ8x/MAfRteM/sH/8kQ1z/ss3xH/9TXW67P8AZ0%2BJPi/4y/ALwX8XfH3w5PhDWfFHhex1bUvCrakbxtIluIElNq0xii8x49%2BxjsX5lPFcZ%2Bwf/wAkQ1z/ALLN8R//AFNdboA9mr5F/wCCsFxN8V9P%2BFP7DWlTMZvjF8RLWHXIY2Ib%2BwtOK3l%2B4xzldsJ9Dg19dV8h/Cn/AIyL/wCCt3xA%2BKL/AL7Qvgh4LtPCWit1jOr35NzeSof76RgwP9R9a8jOf3uHjhVvVko/9u/FP/ySLX/bx%2BheG6WBzivnsvhy%2BjUrr/r9b2WGXr7etCS/69X6H1zBBBawJa20KRxxoFjjRQFVQMAADoAKfRXmn7UH7XHwK/ZA8CDx58bfGC2S3DmLSNItE86/1afjEFrAp3SuSVHZV3AsyjmvSrVqOHpOpVkoxW7eiR%2BcYjEUcNSlWrzUYrVtuyXq3/T82z0uivjqPx3/AMFTv2yAP%2BFb%2BCNL/Zy8E3Q%2BXXvFsCap4ouYj/FHZcQ2pIyCs2HU4KtTJPib/wAFOv2Kd0Pxe%2BHkH7RXgW3zt8UeB7NbHxPaxDvPp/8Aq7ogAACE7urM/avN/tin8fsqns/5%2BR29eX47f3uS3l1PG/t%2Bl/EdCr7L%2BfkdvXl/icv972dvLqe8ftZ/tafC79jz4Yj4i/Ec3l5cXl5HYeHfDmkQibUNbvpDiO1tosgu5JyT0A5PYHzn4T/8FZf2OviF4hHgDx94q1L4X%2BLVwLjwp8VNLfRbqJjwBvm/csScgASbj6Vzv7If7NvxX%2BOfxcT/AIKDftu%2BH2s/FUsDR/DH4d3OWh8Eaa/R3VgM38q4LuQGTOCFOEi%2Bj/it8EPg58ddA/4Rf4zfC7QPFOngkpa69pUV0sZ/vJ5iko3%2B0uD71nTqZvi74ik4wg/hhOLu1/NJpqUW%2Bis7K3MruyzpVc9x18VQcacH8MJwd5R/mk01KDluopPljbmXM2lwHi3/AIKM/sF%2BB3MXiH9r/wCHiyKcPDaeKra6kU%2BhWF3I/EV6X8O/ih8Nvi74ci8YfCvx/o3iTSpv9XqOh6nFdQk4zjfGxAPt1Fcb4U/Yn/Y58DReV4Q/ZV%2BHWn/LtaS28GWSuwxj5n8rc34k15P8UP8Agj1%2Bx54z1i68VfCyy8SfCbWr6Job7U/hTr76QLmFsh4XgUNBsYFgQsa5DHJrVzzyn7zhTn5Jzi/k5Jp/NL1NnU4kpe%2B6dKp/djKcH8pTUov5pepQ%2BMf7bPxh%2BOvxiuf2U/8AgnFZ6Vqut6Ncqvj/AOKGrwGfQ/Cyg826beLu7bBHlqSFwQc4cxY/xC/Zy/4LDaV4I1Txl4X/AOCj2jarrmmWb3emeEbP4R6db2%2BqTRjeLZrl2Z4w%2BNgOOrDJA5H078BvgD8Jf2Zvhjp3wg%2BCng220TQtNTEVtAMvNIQN00rn5pZWxlnYkn6ACuxrNZXWxMHPF1Zc76QnKMY9lFK17fzSvzPolZGSyavjIOpjq8/aS6U5yhCHZRStzW3cp3cnrZK0Tyz9jT9qTwr%2B2F%2Bz/o3xn8O2rWN3OGtPEWiS5E2kapDhbm0kBwwKPyNwBKMjYG6vJ/21Pj98YvH/AMbfD3/BP39kHxh/YvjPX7Q6p4%2B8aQWwnPg/QR8plUE4F1MxCxjIK5U/LvSRfNf2tNe8d/8ABLH9ozWv2ufhD8Ob7xN8P/i7E1p4t8IaUhJtPFojb7Beoo%2B6t0%2BIpSoyWZm%2BdzEh9w/4J5fsr%2BKvgL8PNV%2BKPxyvU1P4tfEy/GufEXVjgmOZgTDp8ZGQsNsjeWqgld2/b8u0DkjicbjWsvndTj/Fkrr3Vs4vvV8neK59monDDF5hmLWVTvGpD%2BNNXXuL4XB9HWXZ3glU2aidb%2Byj%2Bxf8DP2O/Ctxonwr0KafVdUk87xJ4t1mf7Tqut3BJLS3Nww3MSxLbRhAWJCgkk%2BsUUV9BQoUcNSVKlFRitkv6/4L6tn1GGw2HwlCNGhFRitklZf13erb1bb1CiiitTcKKKKACiiigAooooAKKKKACiiigAooooAKyPHngDwP8UfCd74E%2BJHhHTtd0XUYjHfaXq1mk8E6%2BjI4IODyD1BAI5rXopSjGcXGSumTKMZxcZK6e6eqZ8ft/wAE2PjR%2BzvPNqP/AATx/bB1zwPpvntNF8OPGUA1vw8CxyYoRLma0Qnkspd%2BvPpZ/Z5/Zb/ar%2BKH7UyftXf8FB4/CR1PwPpf9lfDXw34OuZZtMtpZV/0vVgJiXWWThFD/MAOQNiGvreivKjkuChUi4cyjF35OZ8l1s%2BV3Ss9Uk0r200VvFjw9l1OrCUOZQi1JU%2BZ%2BzutnyO6XK9Uk1G9ny6KxWV4V8CeCPAkd9F4I8HaVoy6nqMl/qS6Vp8duLu7kx5lxII1G%2BVsDc7ZY4GTxWrRXquMW02tUe04xck2tVscX%2B0X8D/Cf7SfwM8U/AjxvGDpvijRprKWXYGNu7DMU6g/xxyBJF/2kFfNn/BGSL432Hwx%2BLPh79o7SZbPxnofxah0fV0nyWmFl4U8O2kNxk8v50EMUwf%2BMShhwa%2Bx68Z/Zf8A%2BS3/ALR3/ZZrH/1CvC9c7w0PraxC0lyuL7NXTV/R3t6s5ng6bx6xabUuVwfZq6kr/wCF3t/iZ7NRRRXSdYUUUUAFFFFABRRRQAUUUUAFFFFABRRRQAUUUUAFFFFABXmsX7GX7H0HxB1X4twfso/DVPFevFzrniZPAunjUNRLuJHM9z5PmTbnAY72OWAJ5FelUUAcdoH7O37P3hP4nah8bPC3wL8Hab4z1ZXXVfF2n%2BGLSHU7wPt3iW6SMSyBtq53Mc7RnoKs6t8EPgvr/gHUfhTrvwh8L3vhbWLy4u9X8NXegW0mn31xPdNdzzTW7IY5XkuXed2ZSXlZnJLEmuoooAxfh98N/h38JfCVr4B%2BFXgLRfDOhWO77Fovh7S4bK0t9zF22QwqqJlmLHAGSSe9eKftHaT/AG9%2B114T0Lbu%2B2/s9fEiDHrvv/Ca/wBa%2Bha8X8exRzf8FBvhjDKoZX%2BC/j1WB7g6t4QqZxU4OL6qxth60sPiIVVvGSf3NP8AQ5L/AII96t/bX/BNX4TXm7OzQZoM/wDXK8ni/wDZK%2Bla%2BTf%2BCIUskX/BNjwNoU7EyaRqOuWUhPXK6xeH%2BTCvrKvNySTnk2Gb/wCfcP8A0lf5H2nihRjQ8Ss6px2WLxFvR1ZtfhJBRRRXqHwoUUUUAFFFFABRRRQAUUUUAFFFFABRRRQAUUUUAFFFFABRRRQAUUUUAFFFFABRRRQAUUUUAFFFFABRRRQAUUUUAFeM%2BOP%2BUhfwv/7Iz48/9O3hCvZq8Z8cf8pC/hf/ANkZ8ef%2BnbwhQB7NRRRQAV59%2B0v8Drr4/fDWLwnovi9fD%2BtaV4h0vXvDeuSad9sjs9R0%2B9iu4Glt/MjM8LNF5UsYkjZopHCvGxV19BooA8N%2BH/7K3xG8EfCPxj4B1T4meD/EOqeOrrUtV8RX2vfDuSfT7vVb2ZjIZLE6jh7BbYQ2y2hl8zZDue5dmJrk/D3/AATW8PaH%2Byx4y/ZrtvF2haWvxL8XWurfEGTwn4Ij0vSrqxU2FtdaVZaclwwsrebTLBLHmWZl82SZvNdmB%2BnqKAMzxl4J8GfEXwte%2BBviD4R0zXdE1KDydR0fWbCO6tbqPIOySKRWR14HDAjivHv%2BCdPhjw14K/ZuvvB/g3w9Y6RpGl/Fv4h2mmaXplolvbWkEfjPWljiiiQBY0VQFCqAAAABXuleM/sH/wDJENc/7LN8R/8A1NdboA9Q8eeMdJ%2BHngbWvH%2BvybLHQtJudQvWzjEMMTSOf%2B%2BVNfFn7FvxY0n9jr/glhrv7cPxjRZdc8c6jqnjrWIN2G1HUNQuCtnboTz%2B8UWyj%2B7vY9ATXqX/AAV8%2BIGpeBP%2BCfXj2w8P7n1bxVb23hnSrdDhriTULiO2eMe5heU/hXlV58PtO/aS/a%2B%2BHX7D3hwLc/C79mHQtL1PxuUGYNR12O3WLTLBuzCJFMzDkHMiMAQK%2BZzPE1FmajS%2BOMOWH%2BOrK1/SMISk/JeZ9dmmMrZD4RyWH0xGZYyNKHnDDUuZt/3Y1sRzy6P2a6nTeEYP%2BC3fxP8ACum%2BKtY8Y/ATwMNUsIbo6XFoGq3N5YiRA/kzLK7IJUztYKxUMDgkV2v7M3/BPHQ/ht8QpP2k/wBpTx9cfFX4vXY58W63bhbbR0ySINNteUtEXJG4fNy2NgYrX0jRXpUspw8JxnVlKpKOq55OST7qNlFPs7O3S25%2Bb0cjwsKkKlac6so6r2k3JJ/zKNlFPs7O19LbhRRRXqHtBRRRQAUUUUAFFFFACMqsMMoIyDgjvS0UUAFFFFABRRRQAUUUUAFFFFABRRRQAUUUUAFFFFABRRRQAUUUUAFFFFABRRRQAV4z%2By//AMlv/aO/7LNY/wDqFeF69mrxn9l//kt/7R3/AGWax/8AUK8L0AezUUUUAFFFFABRRRQAUUUUAFFFFABRRRQAUUUUAFFFFABRRRQAV5PH%2B0H8QLT9tKH9l3xD8J9NtdB1XwFqPiTw74vt/FLTXN2bG50u3uIJrA2qrAu/U12SC4kLeS2UXcDXrFeHeOv2dP2ifEH7ZOiftOeFPjz4L07RNB8F6n4ctPCuo/DW7u7p4b%2BXT7iaV75NYhQuJ9OgKYtgBG8iHcxWRQDP1j9tnUrf9u2b9i7TNF%2BHdu1pomk6nJdeJfii2n61qMd4b3eNO0oafL9t8lbMlz9ojH7wZ24yeY%2BGv/BTDR/FFn8afG/jbR/AOm%2BGPgqfFza9ZaF8TjqniiOHQtQurVp7rSPsEK2cc8dnNOhNzJw0SgNvLL3Xxu/Zn%2BMXx78ReHdL8ZfGbwtb%2BC9H8UeHvEd7pOm/D6ZNXuNR0m8gvo/K1B9SeO3gkubaPcv2Z5RC0kYmy28c/wDFH9hPxP8AtH%2BNtW1H9pf4taFqvhyfwT4o8K6NovhDwRJpF1Fp%2Buxxw3IvLuW%2BuvtTrDGoXy47eMyEyshIRUAOx/Zv/aL%2BInxR8a%2BJvhD8b/g5ZeB/GfhnR9H1u40jS/FB1i2k0zU/taWsv2hrW2KzCbT76GSLyyqtBlZJFcNVbxx/ykL%2BF/8A2Rnx5/6dvCFWP2b/ANnT4i/C7xr4m%2BLvxw%2BMll448Z%2BJtG0fRLjV9L8LnR7aPTNM%2B1vaxfZ2urktMZtQvppJfMCs0%2BFjjVAtctf/AAj%2BFHgb/gpt4L8e%2BCfhj4e0fXfE/wAHvHEviXWtK0WC3u9WePVvCXltczRoHnK73wXLEbjjqaAOS/4I1f6F%2By74l8L9P7D%2BLniax2/3dt6Xx/4/X1pXyX/wSZ/0DSv2gvC7cf2T%2B094tgjX/pmWtnU/juNfWleTkX/IoorsmvulNfofoHipr4iZjP8AnnGf/gyjh6n/ALeFFFFesfn4UUUUAFFFFABRRRQAUUUUAFFFFABRRRQAUUUUAFFFFABRRRQAUUUUAFFFFABRRRQAUUUUAFFFFABRRRQAUUUUAFeM%2BOP%2BUhfwv/7Iz48/9O3hCvZq8Z8cf8pC/hf/ANkZ8ef%2BnbwhQB7NRRRQAUUV5h%2B1t8ZPGXwY%2BGFhffDWz0yXxL4k8YaL4a0CTW4JJbK1uNQv4bY3U8cUkbyxwxySTeUskZlMQjDx796gHp9FfMN/%2B2P8Z/DP7IfxE%2BJGu%2BHvD1745%2BG/jebwtrd9YabdJowC31tF/bLW3nSTpaw2V3HfTwCZmQQzRiY4EteYR/8ABVvXdQ8JjwV4V8eeC/EPid/jLP4Gs/iD4U8C6trGi6jBF4dh8QNqFlo9hdTXl6fKuEtPJhumBkSWfzfKQrQB9214z%2Bwf/wAkQ1z/ALLN8R//AFNdbrqPh/8AHHwHdfs66P8AHrxt8ZvCdxoUugQ3%2BpeN7f8A4lWkSKVG%2B4C3U0htIy2f3csrNGfkZiwNcT/wTp8T%2BGvGv7N194w8G%2BIbHV9I1T4t/EO70zVNMu0uLa7gk8Z600csUqErIjKQwZSQQQQaAPnf/guH%2B0Bofwq1T4KaFrflzWuleLbzxzeWchIS4fRrUvaW8mOiT3NxHEM8En2r3r/gmf8As7a38AP2XdNvfiIZZ/Hnjq6k8V/EHULpf38%2BqXuJXR/QxqUiwONyMR9418h/tWfDy4/bl/4LseFvgXMrT%2BF/hh4Tsb7xhb/eiaKOQagY3HcSyz2ETDj5ee1fp9Xy2U05YzO8XjZfDGXs4esYpSf/ALb957PEmMo43EZdgaTvDAYflfb6xipvE136wpvC0m/KS7oKKKK%2BpPGCiiigAooooAKKKKACiiigAooooAKKKKACiiigAooooAKKKKACiiigAooooAKKKKACiiigAooooAKKKKACiiigArxn9l//AJLf%2B0d/2Wax/wDUK8L17NXjP7L/APyW/wDaO/7LNY/%2BoV4XoA9mooooAKKKKACiiigAooooAKKKKACiiigAooooAKKKKACiiigAoorhfhp%2B0j8Ifi78SvGPwh8Da3qUviHwFLbJ4nsdQ8N39iIRPJcxwyQy3UEcd3E72dyolt2kjzCw3ZoA7qivN/DP7V/wY8ZfFjxB8F/DNz4mu9Z8LXslnr9zH4A1kaXZ3MdtFcvA2pm0FkZBDNE2xZix3gAFuKwLf/goF%2ByzL4L8U%2BO73xd4g0208G6fZ3%2Bv2Wt/D3XLDUYrS7leG1uYrC5s0urqGWWOSNJIIpFd43UElSAAez14z44/5SF/C/8A7Iz48/8ATt4Qr0f4a/Ejw98V/CkXjPwvp2v2tnNK8aQ%2BJfCmoaLdgo20lrXUIIZ1GejMgDDkEjmvOPHH/KQv4X/9kZ8ef%2BnbwhQB5j/wTZ/4lfx5/am8L9PJ%2BOVxf7f%2Bvm1ifP47a%2BtK%2BS/2Hv8AiV/8FBv2ufC/TyvE3ha/2/8AXzpTvn8dtfWleTkmmXqPaVRfdUmfoHid73F0qv8APQwc/wDwLB4V/oFFFFesfn4UUUUAFFFFABRRRQAUUUUAFFFFABRRRQAUUUUAFFFFABRRRQAUUUUAFFFFABRRRQAUUUUAFFFFABRRRQAUUUUAFeM%2BOP8AlIX8L/8AsjPjz/07eEK9mrxnxx/ykL%2BF/wD2Rnx5/wCnbwhQB7NRRRQAVxvx4%2BCXhr9oH4dS/DvxNrGp6Xt1Kx1PS9a0SaOO90vULK6iu7S7gaWOSPfHPDG22RHjcAo6OjMp7KigDyn4c/ssD4U/D3VvA3gv49eOILrXJLy91LxNKuky6hNq11dPcT6qS9gYfPJcRiLyvsqRRRokChawT%2BwZ4Ii8L2ken/GDxva%2BNLTxvN4ub4pRyaY%2BuXGrzWDabLPIsli1iytp7C0EP2QRJFFFsRWjR190ooA5X4I/B7wj8AfhVovwg8CtePpuiWxjiuNRuPOubmR3aSWeZ8ANLJK7yOQACznAUYA4H9hSWKD4F69PPIERPjJ8SGd2OAoHjXW8k17RXyj4V8azfDj/AIJtfGvx7bXHlT6P4l%2BL93bPnBEqeKPEDRge5YKB7ms61RUaMqj2im/uTf6GVarGhRlUltFNv0Sb/Q4r/gjHpqfGSb4y/wDBQDWLCeO9%2BLXxHu00MXYDPBotmxW3jDeoaR427H7MnpX3HXzN/wAEcfCE3gn/AIJo/CfR50w0%2BiXGodOour24ulP/AHzMK%2Bma83IqTpZPRv8AFKKk/OU/eb%2B%2BX5GeDoTw%2BFhGes2lKT7zlGMpv5yk/RJL7IUUUV6x0hRRRQAUUUUAFFFFABRRRQAUUUUAFFFFABRRRQAUUUUAFFFFABRRRQAUUUUAFFFFABRRRQAUUUUAFFFFABRRRQAV4z%2By/wD8lv8A2jv%2ByzWP/qFeF69mrxn9l/8A5Lf%2B0d/2Wax/9QrwvQB7NRRRQAUUUUAFFFFABRRRQAUUUUAFFFFABRRRQAUUUUAFFFFABXzT4GvvjxoH7fPxX%2BJGofsg%2BOx4V1vwR4a0XQvEiaz4cMF/Ppd5rTzOkX9rfaEjkTU4WjMsSMRHKHWMhQ/0tRQB8rWnwf8Aif4Z/bZg%2BIvwQ%2BCfxF8KaRfeLdR1X4r61rHxCtbnw/4vtTo0trbrY6V/ac5t7xrqPTHExtbMiO1mDyOGCPyfgD4ZfF348%2BC/it8Sf21/2HPiQPFHjbT9NsH8G6b4x8PwpBolpeyS2ek6ZeWWtqwniaaW7nuppLUyyyFY2CRwxp9q0UAeNfsR%2BE/jZ4Q%2BHGvWXxitPEdhaXHjC7uPBGheNPEya1rWkaI0UAjtr6%2BSe4FzL563Uik3E7LFNFG0rlDXO3/gvxJ4e/4KbeC/EWrfFzxDrtnq3we8cPYaDqttpyWmihdW8JZS2a2tIp3D7hn7RLOfkG0r82foevjT9un9op/2bf8Agpr%2ByvrmrsE8P%2BK/D3jfwtr1ww%2BW3F5deGTbSk9FAuoYAWOAFZvWscRXp4ak6lR2Stf5tL82jnxWJpYSg6tV2irXfa7Sv98lc1/2af8AiUf8Faf2mdP6f2x4Z8GX2P73lWUsGf1xX1pXyT4Ami0H/gtT8QdImkWN9f8AgXpWoQoxwZRBftASo74zg46V9bV5%2BT6Uase1Wr/6Xf8A9uP0jxGTlmeArfz4HAv7sP7P/wBxW%2BQUUUV6x%2BfhRRRQAUUUUAFFFFABRRRQAUUUUAFFFFABRRRQAUUUUAFFFFABRRRQAUUUUAFFFFABRRRQAUUUUAFFFFABRRRQAV4z44/5SF/C/wD7Iz48/wDTt4Qr2avGfHH/ACkL%2BF//AGRnx5/6dvCFAHs1FFFABRRXkP7a/wASPH3w8%2BE%2BkWXwy8StoWseLPH/AId8MQ%2BIktIZ30mLUNTt7ee5jjnR4mmELyCLzEeMStGXR1BRgD16ivlKw%2BMv7VE/7IfxQsPBviDUfFXjv4ffEa78M2/ii10G1l1K%2B0uK%2BtWmv47OGJLee/g065lxEkQjmubUAQgSeVXmmk/tBftsfGDwbqHhr4Ja18YtYtfh9%2B0Q2geKvEVh4R8M6R4w1Tws/gv%2B1YpZLLXrW2soJF1TULCIgW0MzW8SMEDO%2BQD74r88/wBrfxu3gT/gjB8a76GbZNqHxY8dabEM8uLn4h6nC4/79tIfwr7J%2BGHx08BeI/2ZvD/x90bxD4k8SaBeeGLW/i1MeGJ7nVr6No1zJJYWFt5huCcl4YYF2vuAjUDA/NT/AIKH%2BP4/F3/BKPRPDfhVL6JviB%2B1P4yjtbbU9MuLK5EB8W%2BI5gJbe4RJoXD%2BSGjkRXUnDKCMV4/ENZ0MixM1vySXzfur/wBKOPMMLPH4SWDg7SrONJPs6s6dJP5e1v8AJn6SfsZ%2BE38CfshfCzwZLGFk0v4d6LazDGP3iWMKufqWBP416VVfSdMtdF0q20awTbBaW6Qwr6IqhQPyFWK9OhTVGhCmvspL7kl%2Bh6uNrQxGMq1YK0ZSk0uycpNL5JpfIKKKK1OYKKKKACiiigAooooAKKKKACiiigAooooAKKKKACiiigAooooAKKKKACiiigAooooAKKKKACiiigAooooAKKKKACvGf2X/APkt/wC0d/2Wax/9QrwvXs1eM/sv/wDJb/2jv%2ByzWP8A6hXhegD2aiiigAooooAKKKKACiiigAooooAKKKKACiiigAooooAKKKKACiivnm%2B0zVfC/wDwVK8Ptp3j7xXJp/i34KeJL3VfDt54qvJtIS4sdT8OQW00Fg8ptreRUubjMkcau/nvuY5AAB9DUV8j/tDWnxK%2BC/7ZVp%2B0v8QZdX1r4aarq/g3wpoun6L8ada02XRNXvNSksfOfQIQlhqUUs2oWJlMshkEcLMIpAgU%2BCePv2hPj78MfhXrn7Rvw7%2BLvinUfHviPwx8aJdc8OX%2Bu3N/YaU%2BgzXg0%2BS20yR2htDYS29paHyI4zP9qPnebI6sAD9M6%2BQf%2BCjn7N9p%2B1l8YdB%2BBrFUv9V%2BAnj6XQbpm2m21KHV/B81rIG6qBMiAkYO0sO9dj%2Bx0s3gf9oP4o/Ajwp8UvEvi/wZoXh7wpq%2Bkan4q8W3Wu3MGoX8V%2BLuAXl1LLKyNDa2F0It%2BxDekoqo6qJr/wAaeJPEP/BTbwX4d1b4R%2BIdCs9J%2BD3jhLDXtVudOe01oNq3hLL2y213LOgTaM/aIoD842hvmxlXo08TQlSqK8ZJp%2BjVjDE4eli8POhVV4zTi15NNP8AP8j5h8b/AB18Q%2BPf2Xvgh/wVj0bTp28ZfB3VP7D%2BL%2BmxR4uJ9PeQWWqxSIOdyybbhFPEYnLnpX6N6HrekeJtEs/EegahFd2GoWsdzZXcDbkmhkUMjqe4KkEH0NfCnxGfwt%2BwN%2B0r8UdB%2BPvg29b9nb9oaZbi78QW9v5tj4e1y5ha3vorwL80Md1kP5pGAdgHCuV77/gkn8S9QsPhp4m/Yz8Z%2BJYtU1z4MayNM03U45lddW8O3CmfSb6NlOGjeA7V25ARI%2Bfmr5jKcTLD5g8PWfvTVpf9fIK3N6VaaUk9nKMle6aPtMoxkuK/DSNKvK%2BOyaXs6i%2B1LCVpv2dS27jTr7PVKOJtdWsfW9FFFfWHyQUUUUAFFFFABRRRQAUUUUAFFFFABRRRQAUUUUAFFFFABRRRQAUUUUAFFFFABRRRQAUUUUAFFFFABRRRQAUUUUAFeM%2BOP%2BUhfwv/AOyM%2BPP/AE7eEK9mrxnxx/ykL%2BF//ZGfHn/p28IUAezUUUUAFc78WPhP4B%2BN/gK9%2BGfxN0NtQ0e/eCSaGK9mtpY5YZkngnhngdJYJopoo5Y5YnWSOSNHRlZQR0VFAHnHhb9lH4L%2BCPh7dfC/whZ%2BJNN0i9tJ4boWfjzWI7qV57qS6nuzdC7%2B0fbZJ5ZJHvfM%2B0uW%2BaUgACgf2LPgJF8OLf4WaVb%2BMNL0yDVZ9SmutD%2BJ2v2GpX93PnzprzULa%2BS8vmfPzG4mkztT%2B4uPVqKAMnwF4D8HfC7wRpHw2%2BHnhy10fQdB06Gw0fS7GPZDaW0SBI4kHYKoA/CvyY/a1vP%2BE4%2BKn7M3wIiO9NS/at%2BIt5qMXpGfiFdxK2P903H5V%2Bvtfjf4EvB8Uf8AgtD8Jvh5E2%2BHwx49%2BIt3LHjOydPGXi29Le3yxwfpXzvFDvlsaX/PypSj99SLf4ROvK6fts%2BwMOntozfpRhWrv5fuY3%2BR%2ByFFFFfRHIFFFFABRRRQAUUUUAFFFFABRRRQAUUUUAFFFFABRRRQAUUUUAFFFFABRRRQAUUUUAFFFFABRRRQAUUUUAFFFFABRRRQAV4z%2By//AMlv/aO/7LNY/wDqFeF69mrxn9l//kt/7R3/AGWax/8AUK8L0AezUUUUAFFFFABRRRQAUUUUAFFFFABRRRQAUUUUAFFFFABRRRQAV554n/ZE/ZP8b/FL/hePjP8AZg%2BHer%2BNfJ8r/hMNU8FWFxqnl%2BV5Wz7XJEZtvl/Jjdjb8vTivQ6KAOHH7Mn7No%2BIun/GAfs%2BeB/%2BEt0i1jttK8U/8InZ/wBo2UEcZjjiiufL82NFjJRVVgApIAxxV7QfgX8EvC3jzXPip4Y%2BDnhXTfE/iaIReJPElh4etob/AFaMAAJc3CIJJ1G0YDsw4HpXVUUAc18K/gv8HfgV4ck8HfBH4T%2BGfBukTXb3culeFdCt9OtnncKGlMVuiKXIVQWIyQoyeBXn3jj/AJSF/C//ALIz48/9O3hCvZq8Z8cf8pC/hf8A9kZ8ef8Ap28IUAereK/Cfhjx14bvvB3jTw/Z6tpOp2zW%2BoabqNss0FzEwwyOjAhlI7EV%2BY37Rv8AwT4/aR/4Jp/Gm0/bc/4J3z6h4j8K6PGyeIPhzc3Ek9xa6YzmSa1j6tc2ecsF5lgbDjfhmH6k0V5eZ5Rhs0hFyvGcdYzjpKL30fVX3T0f4joVcXgcYsZgqjp1lGUeZJNOE1adOpF%2B7UpTWk6c04uyacJxhUh5p%2ByX%2B1f8Iv2zfgrpnxt%2BDutrcWV4vl6hp8rj7Tpd2ADJazoD8ki5HsylXUlWUn0pZI3YojglfvAHpX55/wDBQn/gjR4O8a%2BP5/2qf2bPhtp%2Braq1z9s8ZfCq51S406w8UDne9vNbSRta3TZJ%2B95budxAO8SU/wBk/wDYo/4JJ/tT%2BH5Ln4CeEvFvwt8e6Q7W/iXw1ZePdTsvEOiXKHDpLFcTyblVs4kCFT0OGDKvnU8zzeliPqtelDn6PncVUt1heDV%2B8XK67ONmdtfhzjGWRf21g6FCvh07VPZVZ89Ft%2B6qtOVJypxn9iblOlL4faqa5X%2BjNFfI/wDw74/a%2B%2BG/zfs8f8FTviRaxx/6qy%2BJGkWfiZXH9wyTCNlHbIGR2pr/ALPn/BXjx4f%2BEZ8d/t3eA/CmlRfK2r%2BBvh/52pXyd94uiI7du26M8da7/wC0cZHSeEnfycJL/wAC5lb5o%2BV/tXHw92eCqc39105L/wAC54perifXVFfHtz%2Bwb%2B2z8EpP%2BE8/Za/4KI%2BL/EGvMu/VvD3xpkGraRqzj%2BFDGqyWC9B%2B6DHAAyBViz/bU/4KO%2BHYBoXjr/glVquparakx3eo%2BGPiLp7WF0R/y0h8wF1Rhg7WJYdCcihZq6TtiaM4PyXOn86aevk0vVgs7dB8uMw9Sm%2BloupF/wDb1JS17pxXk2fXVFfJR/bZ/wCCjWp/u/DX/BIfXJH6Z1T4u6RZqPxZDmkPxu/4LF%2BLvk8O/sP/AAy8IFuj%2BLPiUdQC/UWSAn8Kf9sYV/DCo/SlU/VRX4j/ALfwb%2BCnVl6Uan6xivxPraivkoTf8F0Lf9%2B9n%2BytcK3JgSTxGjr7BjwfrS/8Jz/wWv0//j8%2BBfwA1HHX7B4m1OHP080Uf2tFb0Kq/wC4b/STD%2B3IrfDV1/3Cf6TZ9aUV8gy/Cb/grZ%2B0fK1r8V/j74L%2BCXh5jsl074aWD6nq9yncNd3WFtyeqvFyBjI65p3H7PP/AAUR/YqlPiT9l7456h8dPCa/vdT%2BHnxa1YHWCervZapgDexyRHKAi84Dk1LzSuvf%2BrVOTq7K/ryXc2u/XtFkvOcQv3n1Or7PrK0eb1VPmc2u/XtFn2VRXyNbf8FevAmgwInxl/Y7%2BPvgi4RQLxtX%2BGk0lsj/AMWyaJ28xAc4faMjnAqe3/4Lff8ABNZZVttd%2BOt/o8zceTqvgjV42B9CRakD86pZ5k/2q8V/ifL/AOlKJS4kyD7WJhH/ABNxf3TjE%2BsqK%2BTLr/gtV%2BwvqVw1j8LNb8ZePrpDtNr4L8AajcuW9AZYo1J%2BhxUujf8ABZ39h5NSj0H4r634t%2BG2pynCad8QfBN9YyZ7gsscka492Ao/tzJm7fWIet9Pvty/%2BTDXEmQN2%2BtQ9ebT/wACty/%2BTH1dRXlHhH9u39inx5sXwl%2B1n8Ob2R/u26eMrJZv%2B/bSBx%2BVc18WP%2BCon/BP/wCC8j23jT9qfwtLdRna1joN22qzh/7hjsllZWz2YCumeY5fCn7SVaCj35o2/wDSjqnm2VU6XtZYimo9%2BeFv/Sj3yivl/wANf8FnP%2BCaPiiX7Nb/ALUOn2UwOHh1jRNQsih9CZ7dV/Wui/4eof8ABOz/AKPA8E/%2BDT/61ZRzfKZq8cRB/wDb8f8AMyhn2R1FeOKptf8AXyH/AMkj36ivBY/%2BCov/AATxlGV/bC8Cj/e1pB/OuW8Sf8Fof%2BCanhy5%2BwD9pa21K5Jwlvofh/Ub0v8ARobdl/Wieb5TBXliIL/t%2BP8Amwnn2R01eWKppf44f/JM%2Bo6K%2BTrX/guD/wAExZphbXn7R8llMf8AllfeDNYjI%2BpNpgfnXaeGP%2BCpn/BO7xcAdK/bA8ERbhx/amrCx/P7SExShnGUVXaGIg/%2B34/5omnn%2BRVnaGKpt/44f/JI99orzGw/bZ/Yz1WIz6X%2B1v8ADG5RVyzQePdOcAepxNxXN%2BIv%2BCmf/BPrwvci01T9sT4fu5cL/oHiOG7APuYC4H1J4reWYYCCvKtBL/FH/wCSOmeaZXTjzSrwS/xw/wDkj3KivN/B/wC2P%2ByR8QLU3ngr9p74f6oipucWfjCzdkH%2B0okyv4gVV179uP8AYs8LyGDxD%2B1z8M7OQHHlXHjrT1f/AL587P6VX13BcvN7WNu/NG3/AKUW8wy9Q5/bQt354W%2B/mPUqK8TuP%2BCkv7AFqCZf2yvhucf88/Ftq/8A6C5rH1f/AIKu/wDBObRLd7m8/a98HusYyws7x7hj9FiVifwFZSzTLI714f8Agcf/AJIwlnOTwV5Ymmv%2B34f/ACR9CUV8lS/8FpP2OtddoPgxonxI%2BJMoJVIfAvw5v7hpG9F89IQfzqOT/gpJ%2B0fdL/wkWh/8EqPjRL4ei%2Ba7ub%2BO1ttSVPWOwLGSVv8AZDCsP7cyp/BV5v8ACpS/GMWvxOb/AFjyR/BW5/8ABGc198ISX4n1zRXypoH/AAWe/YMmMum/Ezx5rvw81q2UG78OePvCV7Y3sOeOVWN0JzkYVyeK2PC//BX/AP4JseL/ABHB4W0j9rLw/HdXLbYn1K1u7O3z/tT3EKRJ/wACcVUc5yidrYiGv95J/c2n96RcOIchnZLFU7vo5xT9LNpp%2BTSPpOvGfHH/ACkL%2BF//AGRnx5/6dvCFen3nj/wJp/g2T4i3/jXSYfD8VobqXXZdRiWzSADPmmYtsCf7WcV8qfBz9tL4O/te/wDBSfw3b/AxNX1PQ/Cnwf8AGdu3i6XS3h0zVbiXV/C3mRWcrgGfyfKXewAA86MgkMDXZLE4eFWNNzXNLZX1dtW0u3nt5nfPGYWnWhRlNc878qvq7K7aWuiXXbzu0n9hUUUVudIUUV4h%2B394k8RaF8E9G0jRPFepaBaeJPiX4V8P6/rmj6hJZ3Vnp19rVpbXAiuYmV7Z5lk%2BzCZGV4/tG5GRwrAA9vor5B8IRftA%2BOP2Nfiv8L/gv4/17VdR8L/FfUtA8Jaze%2BKpP7V1HRbXVLdruwj1S4cyfaxEb/TYruWTzEkijZ5d6NJXiHiX9qX49eGv2dPi78H7Twx8ZvDmkxfFPVNB0bxPax6t4y1zwpoVv4b0zULuKbUtLOoSC7fULm6tI7hrhxaebJiffYhCAfpbX4y/8E0LePxL/wAF1Pi74m1S6H2fwj4x%2BIksWQT5KHX7m34xycveMAByS2K/Tj9ln4ta74n/AGFfh58XrLwx4r8W6pdfDrSrqXTpoPsmrapcfZYhISNVkth5jvuffM6Bwd4YhgT%2BdH/BF3w/feIv%2BCif7TvxZ1Tw3e6TdN8RNeiudK1J4HuNOe68dXLm2la3kliMifZNrGOSRCVO12XDH5/PabrYjBQ6e2i//AYzf6Hv8M4b2mY1sU9sPhsXP5yoxoR%2B94iVvM/WT/hMNJ/59NU/8Ed3/wDGqX/hMNJ/59NV/wDBHd//ABqvnbx9/wAFkf8Agm98L/HetfDTxz%2B0b9h1vw7q1zpmsWX/AAiGsS/Z7q3laKWPfHaMj7XRhuUlTjIJHNZP/D8v/glp/wBHQ/8Alk63/wDIVdks8yWEnGWJppr%2B/H/M92j4W%2BJmIoxq0skxcoySaaw9VpppNNNQs0000%2BqafU%2Bn/wDhMNJ/59NV/wDBHd//ABqj/hMNJ/59NV/8Ed3/APGq%2BdvAP/BZH/gm98UPHei/DTwN%2B0b9u1vxFq1tpmj2X/CIaxF9ouriVYoo98loqJud1G5iFGckgc1337f3xg%2BJn7Pv7E3xT%2BOPwbtNNm8T%2BEvA%2Boaro66vMyW6ywQtJvfbHJu2qGYJtw7KELIGLr14XG4PGxcsPUjNLfladvWx8/nnDPEnDFaFLOMFVw0ppuKq0503JJ2bSmk2k9G110PS/wDhMNJ/59NV/wDBHd//ABqj/hMNJ/59NV/8Ed3/APGq%2Be9T/bc%2BNvhX4h%2BOfBfxC%2BBXgTQtP%2BGXw8tPE3jnxPd/FS6Njbvdxao1vbW2NHEs6h9PjEsrpEUS4LRxzOgik5n4bf8ABSrV/irqnhnQ9W%2BE%2Br%2BF9bi%2BNEvg7xDpCy3ltDIh8H6hr8M%2B3WNHtL14XSGJNv2e0kEqBllkhUrcdJ4Z9Vf8JhpP/Ppqv/gju/8A41R/wmGk/wDPpqv/AII7v/41Xzz%2ByV%2B3z8Sf2h9P0S48c/swf8I/d%2BLPhNovxB8J6X4e8aw6rPdadfMEeCc3EFlFb3EJeJioeRHR8hwymOup/ar8WfFXUvi18L/2ePhb8V9Q8CN42utYutW8V6NptjdXsVvYWQkW2gW/t7i3VpJpoWZnic%2BVBKq7WYSIAeu/8JhpP/Ppqv8A4I7v/wCNUf8ACYaT/wA%2Bmq/%2BCO7/APjVfOUH7Qn7SPxP/wCCZHhD4/8Aw%2BtLn/hOdd0jw7N4hu/Cuhre3FvaS39pFrGoadZSLIJ5UszeXNvAVl3Msa7JziN/JfDX7Vf7U/xF8OP4fsPG3xdsfDHhb4o674b134i6H8JLe78WXkcemWN9pJudJOmSJbRytfSxSyCxiKm1hEgtjLIVAPuf/hMNJ/59NV/8Ed3/APGqP%2BEw0n/n01X/AMEd3/8AGq%2BMbr46/tL/ABz/AGfv2X/jV4D/AGiPFXgnxl8bpPCkd74L0fR9BuNIEJtjq2t3Tfa9PuLkKdPtrxI2S5VFd7XHLfP6ZrPj74%2B/Df8A4KB%2BEvh1qXjnxnc%2BBPG66sqnxbZeHxoslzFZG7hsNIfT4V1JbqNYpnf%2B0D5TwQzlHkdVwAfROm%2BIdL1W4aztmnSZU3mK5tJYWK5xuAkVSRnjI9au1lXf/I7af/2Crz/0ZbVq0AFFFFABRRRQAUUUUAFFFFABRRRQAUUUUAFFFFABRRRQAUUUUAFFFFABRRRQAV4z%2By//AMlv/aO/7LNY/wDqFeF69mrxn9l//kt/7R3/AGWax/8AUK8L0AezUUUUAFFFFABRRRQAUUUUAFFFFABRRRQAUUUUAFFFFABRRRQAV4u3xd%2BOGjft9WPwE1698KXHgTxF8M9X8Q6HFZ6Lcx6vZ3Wn3mjWzie5a6aGaOQ6lMQiW8bJ5SZdskV7RXjvjT9kfUfF/wC1Fpv7U1r%2B1B8RNHv9I8N3uhaf4Y0u20BtLisrtrSS4X/SNLlumZ5rK1m3G4JVosLtjZo2AOV/aE/bG8e%2BB/2pPh18CPhH4d0fUNJvfGdnpHxO1rU45XOnG9sru4s7K18uRFF2y2xuJC%2B8RQmDMZ%2B1xunP%2BO/2gf21/Af7Qfj34Y6Lrnw%2B8aWHhT4Lat4zGm6P8ONStL%2B0vpJpItBsHk/te4W7%2B0G01LzNkULN9kXYF835e6%2BLP/BOT9j343/EXwz8ZviZ8D/C%2Bp%2BNvDfiOw1uTxpN4S0s6rrFzZ2zW8Ivbg2u6WMKUbYuwK0EOzaEC12eh/s9eH/DHiP4leN/DvjLXrTX/ibcwy6hrqyWz3GkCDTorG3jshJA0aRw%2BW9wiTJMPPuJmbcr7AAcl%2Bw98e/Fnx1%2BH%2BoXXxK%2BImjar4p0u5t01zRLD4Y6v4RutCeW2jlW3ubDVrqe5JO5mSf5I5ExsB2ljiX/AMXPhR45/wCCm3gvwF4J%2BJ3h7WNd8MfB7xxF4l0XStaguLvSXk1bwl5a3MMbl4C2x8BwpO046GvQfgX%2BzhpvwV17xL441P4neKPG3ijxa9oNc8UeLWsVuZYLWN0trZIrC1tbaKKPzJmASFWLTOzMxORz/jj/AJSF/C//ALIz48/9O3hCgD2aiiigArxH9pf/AIJ5fss/tUaunjPx/wCBZNM8XW4U2HjrwreNp2sWrqMI4uIseYVHCiUOF7AV7dRWGIw2HxdL2daClHs1f%2Bn5qz8z1MozvOOH8asZlmInRqrTmhJxdnunbRxfWMlKLWji0fH8Xwt/4Kv/ALLQ8n4S/GHwv8evC9uf3OifERTpniBIx0jS/jPlTv6yT9c9PSe3/wCCuXgb4bsNN/bK/Zn%2BJ/weu4223Woax4Zl1HRw3/TK%2BtFbzh/tCMCvrmkkjjljaKVAysCGVhkEHsa8/wDs3E4f/da8or%2BWf7yPy5mpr5TZ9e%2BNMlzf/kfZTSqze9XDt4Sq/OSpxnh5vzlh4Xe55L8Ov29v2KfixbxTeAf2qfAd88wzHZv4lt4Ln8YJWWVfxUV6rp%2Bpadq1omoaVfw3UEgzHPbyh0YexBINeVfEP9gj9ij4qzy3nj39lXwFf3U5Jmvv%2BEZt4rlye5mjRZD/AN9V5Zf/APBFH/gnj9rfUvCHwp1nwvductc%2BGvGuqWzA%2BoU3DKPwWnz55T3hTn6SnH8JRkvxJ%2Bq%2BFmL1hisbh32nRw9dL/t6lWoyt58l/I%2BrqK%2BSj/wSiHhg%2Bd8Hv2%2B/2hfC7L/q7T/hYH22zX6wTRHP4tR/wyF/wU28I8%2BAf%2BCqJ1OBP9XYeLvhNp05P%2B9cRuJD%2BVH17MIfxMJL/t2dOX5uDF/qrwfif904gpLyrYfFUX98YV4/O9j61or5K/sz/gtt4M/48/E/7O/jS3X739oWWr6ddP8ATysxA/WlHx4/4K/6Z8l/%2BwV8PNUK8M%2Bm/FFIA/uBMhI/Gj%2B1oR%2BOjVj/ANw2/wD0lyD/AIh7iauuGzPAVV5YynD8K1Ok1%2BJ9aUV8mf8ADUn/AAVfi4k/4JYaNLjvH8cNNXP5xUn/AA2B/wAFQbH/AJCn/BIh5FHWSx%2BOmjv/AOOmLNH9s4TrCp/4Kqf/ACIf8Q14gfw4jBv0x%2BC/Wsj60plxb293EYLqBJEb7ySKCD%2BBr5Lb/gqJ45%2BHZMf7TX/BPL4z%2BDUX/Xapoujxa9p0A9ZLi1YbfwU1v%2BC/%2BCw3/BN/xvMLO1/ae0rTLkHbLbeItPu9NaJu6sbmFFBHsSPeqjnWUyfLKsovtK8H901H9TKv4Ycf0qTq08uqVqa%2B3Q5cRD/wLDzrr71H0PpS2tbaygW1s7eOKJBhI4kCqo9gOlQ61oWieJNOk0fxFo1pf2koxLa3tussbj3VgQa84079uH9izVwDpX7XvwvuM9BD4%2B05j%2BQmrp9B%2BOvwR8VY/wCEY%2BMfhXUt33fsHiG2mz/3w5rsjicJVVo1Iv0lF/qz5nE8P57hYv6xg6sF/eo1Yr/yalFHE%2BLv%2BCff7DPjrc3if9kT4dTyP9%2B4i8IWkMp/7aRxq/610fwn/ZY/Zr%2BBSIPg58BfCPhqRBgXOj6Bbwzt7tKq73PuzE13FtfWV6u%2BzvIph6xSBv5VLShg8FCp7SFKKl3UY3%2B9RPn45bgKNb2kaEIz78kU/v5UzK8S%2BBPA/jOLyPGHg3StWTGNmpadFOMemHU1z3/DNX7OZ6/AHwT/AOErZ/8Axuu2orWVGjN3lFP1Sf5o1nh8PUd5wTfmk/zTOFk/Zd/ZmmOZv2dfAj/73hGyP/tKuo8N%2BDPB/g62%2Bx%2BEfCmm6VDjHlabYRwLj6IAK0qKUKNGm7xik/JJfkkEMPh6Urwgk/JJfkkR3dlZ38Jt760imjPVJYwwP4GuK8T/ALMX7NfjYs3jP9nrwNq5b7x1PwlZ3Gfr5kZruaKc6VKqrTin6pP80x1KNGsrVIqS80n%2BaZ4xf/8ABOb9gbUpRNc/sZ/DJSGz%2B48F2UQ/JIwDXSeHf2RP2UPCNq1l4V/Zj%2BHumwshV47HwZYxBgeoO2IZz716HRWMcDgYO8aUU/8ADH/5E54Zbl1OXNGhBPyhBf8Atp4j4v8A%2BCa/7Afjm6F94g/ZB8Aedv3NJY%2BHIbQufVvIVN345q3oP/BPL9g7w0gTSf2OPhmCBgPc%2BC7Kd/8AvqWNj%2Btex0VP9nZcpc3sYX/wR/8AkSFlOVKfP9Xp378kP/kDze3/AGNv2QrMg2n7Kvw3ix08vwNp64/KGtfSf2d/2f8AQbhLvQvgZ4OspYzmOS08MWkbKfUFYwRXY0VrHC4WO1OK/wC3Y/8AyJvHBYKDvGlFekYr/wBtEjjjhjWKKNVVRhVUYAHoKWiitzpKOs%2BF/DXiMxHxD4dsb8wEmE3tokvlk9du4HH4Vj%2BMvgr8HfiJ4Zm8GePfhV4d1nSLgfvtN1PRYJ4H99jqRkZ4PUdq6aiolTpzTUop33ulr%2BBnOjSqJqUU773Sd/W6d/mfJ7f8EWf2EF8WxataeEPEVv4eW9F7cfDyPxXdHw/dXY%2B7PJasxJZcnChwmCQVIOK73VvDnh7wh%2B3d8JPDHhPQrPTNNsPgl46hsdP0%2B2SGC3jXVvCACJGgCoo7AACvc68Z8cf8pC/hf/2Rnx5/6dvCFc%2BGwGCwTboU4wvvZW/peSsvI5cHlmXZe5PDUYwct%2BVJX/4HkrLyPZqKKK6zuCs3xj4M8H/ETwtf%2BB/iB4U03XdE1S2a31PR9YsY7q1vIWGGjlikBSRCOqsCDWlRQBxVv%2BzX%2BznaeC3%2BG9r8AfBUXh2TQ/7Fk0CPwrZrZNpvmNJ9iMAj8s2%2B93fysbNzscZJNa/hL4WfDHwD4Ch%2BFXgT4c6Dovhe3tpLaDw3pOkQ21hHC5YvGtvGojCMWbKhcHcc9TW9RQBW0XRdH8N6PaeHfDuk21hp9hbR21jY2UCxQ20KKFSONFAVEVQAFAAAAAr86/8Agj94Wit/j/8Ati%2BOIoAqXv7TV7YIQOAYPEmpSPj6tc5Pua/R2viT/gk/4WbRvA37Q/iKeP8Aea1%2B2j43lRyOsUfiMQqPwZJPzrz8XS9pi8O/5ZSf/kkl%2Bp9bw/jI4TIc4XWpRpU188VSk/wpq/kfbdFfMXj/AP4Ka/8ACBeO9b8C/wDDvn9p7Wv7F1e5sP7Y0D4T/abC/wDJlaPz7aX7SPNhfbvR8DcrKcDNZH/D2H/rGp%2B1p/4Zv/7qrOWdZZGTi6mq/uz/APlZ%2Bcy4hyaEnGVXVafDU6af8%2Bj60rF%2BI/w88GfFz4fa58KviNoMWq%2BH/EukXOl65pk7MqXVpcRNFNEShDAMjMMqQRnIIPNfPngH/gpr/wAJ7470XwL/AMO%2Bf2ntF/trV7aw/tjX/hP9msLDzpVj8%2B5l%2B0nyoU3b3fB2qrHBxXs37SfjD4nfDz4BeL/iD8GfDlprPifQdAudS0fRb2F3TUpIEMptQEdCHlVGjRt2Fd1YhgCp68NjMNjIuVGV0t9JL/0qMf1O3B4/B5hFyw8uZLR6SXn9qMfwuY0H7Gv7PC%2BFfFPg7U/CGpavZ%2BNfDdvoPiqXxF4r1PU7rUrCD7T5Mclzd3Mk%2B9Ptc%2BJQ4lG5fn%2BRNud4H/YK/Za%2BHupLrnh/wFqU2pDxcPFEura14x1bUry41caRNowu5ri8upZZ2Gnzy2%2BJGZdpU43IjL4b4j/4KP8AxN%2BJHha58Y/suNoeq2HiPx3NpHwoli8JLqjeINOsNIW61W9ka51vSraGOK78%2BAO1wu0WbgJK0g8vifBv7dXxG%2BLniPRPjxZfabXTvHnwy/Z31WPwo2v3v2HSp/EXi7Xba/kg%2BzTxbnMXkozHKTrawrMksS%2BUek7D7D8MfsnfAjwTY6JYeDvCd7pS%2BHPA1p4O0SbTvEeoQzWmi2rxvBarKk4c7TFHmQsZGAIZ2DMDo/G/9nr4U/tE6Jp%2Bh/FLR9RmGkaib7SL/RPEV9pF9Y3BhlgZ4bywmhuIt0M00ThJAHSRlYFSRXyb8E/2qf2oPjd%2B1J8IPGGp%2BKvCP9ieO/hb4/1vw58PdKur3T2tZLO/0aC2g1aUzXCXUsfmlGuEtojbSPcIsUmcn279t/VvEk%2BmfCj4by%2BKtV8O6R47%2BK9hofjPUvDeu3Gn3UNmdPv7pIIb23aKe38%2B9tbO18yNo5GW4KqVLigD0KT9nf4WJ4DHww0ax1jRdAi8OWGhWWmeGfFeo6VHp9jZkm3S0%2Bx3ERs3UHaZYCkroiIzssaKuBf/ALFX7Pt98KrP4LRaT4msfD9pf3N7LFo/xD1uxutQnuWdrl767t7xLnUDM0jtJ9qklEjNl9xAI8s%2BEWo/tC/FP/gm3430P4T/ABJu5/GlnqXjvw54B8Waxqpa4uLfT9e1TT9MuJLyUOWlNrbQD7W4cu2J237jnzX4d%2BP7XS/hd%2B0fF8f9G%2BLnh74e/B%2B7s9c0vTdR%2BNWpz%2BI7SddDW6u9Ok1XTNUlml3MY5ktTeTj/TouFzHFEAfY8HwM%2BE1r4u8K%2BOLLwVbW9/4H0G70XwkLV3it9Lsbn7KJoordGEIytnborlC8aKyIyrJIGxdC/ZS%2BCugfF8/HWPTNev8AxIlxeT2E2veNtW1K10yS6z9oeys7u6ktrAupZCbeKP5GZBhWKn4k/aE%2BHf7aP7Mf7Fvh/wAYeKPG3xJ8R3fgj4A6nqF/qmk/F6e0m0Txuf8ATTfam93epNq%2BnxuTBFbub3CQ%2BWbaXzQV%2BirGPxdpX/BSL4a6zqHi3xVanxz8APFt/wCJ/CFx4qvZdHgvrDUfB8UDw6e8pt4JYxfXqmVEEjee4ZmBAAB9B3f/ACO2n/8AYKvP/RltWpWXd/8AI7af/wBgq8/9GW1alABRRRQAUUUUAFFFFABRRRQAUUUUAFFFFABRRRQAUUUUAFFFFABRRRQAUUUUAFeM/sv/APJb/wBo7/ss1j/6hXhevZq8Z/Zf/wCS3/tHf9lmsf8A1CvC9AHs1FFFABRRRQAUUUUAFFFFABRRRQAUUUUAFFFFABRRRQAUUUUAFFFFABRRRQAV4z44/wCUhfwv/wCyM%2BPP/Tt4Qr2avnD9o/V/jXo/7eHwnn%2BB3w/8LeItSb4R%2BO1u7TxX4wudFgjg/tTwkS6S2%2Bn3rO%2B7aNhjUYJO/ICkA%2Bj6K8Z/4Tj/AIKF/wDRr/wZ/wDD8at/8y9H/Ccf8FC/%2BjX/AIM/%2BH41b/5l6APZqK8Z/wCE4/4KF/8ARr/wZ/8AD8at/wDMvR/wnH/BQv8A6Nf%2BDP8A4fjVv/mXoA9mor5x0n9o79u3WPjPr/wOt/2UPhIuqeHfC%2Bka7eXL/HXVPIkg1G51K3hRCPDG4uraXOWBUAB48FiWC9R/wnH/AAUL/wCjX/gz/wCH41b/AOZegD2aivGf%2BE4/4KF/9Gv/AAZ/8Pxq3/zL0f8ACcf8FC/%2BjX/gz/4fjVv/AJl6APZqK8Z/4Tj/AIKF/wDRr/wZ/wDD8at/8y9cv4B/aO/bt%2BInivxv4Q0f9lD4SQ3HgPxRFoWqyXPx11QJPPJpWn6mHi2%2BGCSnk6jCpLBTvRxjADMAfR1FeM/8Jx/wUL/6Nf8Agz/4fjVv/mXo/wCE4/4KF/8ARr/wZ/8AD8at/wDMvQB7NRXjP/Ccf8FC/wDo1/4M/wDh%2BNW/%2BZej/hOP%2BChf/Rr/AMGf/D8at/8AMvQB7NWD4z%2BFnwx%2BI0BtviF8OdB16Mrgx6zo8N0uPTEqtXh/wi/aO/bt%2BMvhS78X%2BHP2UPhJbW9n4o1vQpI73466ormfS9VutMncbfDDDY01pIyHOSjKSFOVHUf8Jx/wUL/6Nf8Agz/4fjVv/mXqZQhONpK689fzua0MRXw1VVKM3CS2cW4teji018mSah/wTz/YN1TJuv2M/heCeph8DWMRP4pEK5fXv%2BCSv/BOHxJu/tD9kfwtHu6/YEmtfy8iRMV0n/Ccf8FC/wDo1/4M/wDh%2BNW/%2BZej/hOP%2BChf/Rr/AMGf/D8at/8AMvXHPK8sqfFQg/8AtyP/AMifS4fjrjjCO9HNcTH0xFf/AOXM82uf%2BCH/APwS9uW8z/hmFIm7NB4w1lMf983mKj/4cf8A/BNhf9T8ENUj/wBzx3rH/wAlV6b/AMJx/wAFC/8Ao1/4M/8Ah%2BNW/wDmXrl/gj%2B0d%2B3b8ePgx4Q%2BOPhX9lD4SWul%2BM/C%2Bn67pttqHx11RZ4YLu2juI0kCeGGUOFkAYKzDIOCRzWH9hZJ/wBA1P8A8Aj/AJHqrxW8T0rf23i//Ciq/wA5M5n/AIczfsqaUf8AigPH3xX8J4%2B5/wAI78S76PZ9PMZ6P%2BHSnh6H/kG/t%2BftQ2Xp9l%2BL7jH525r07/hOP%2BChf/Rr/wAGf/D8at/8y9H/AAnH/BQv/o1/4M/%2BH41b/wCZel/YWUdKKXo5L8pof/EVfEV/HmVSfnONGo/vqYeo/wATzH/h05bH73/BR79q4/X4xf8A3LR/w6Z0w/6z/goh%2B1S/s3xhP/yNXp3/AAnH/BQv/o1/4M/%2BH41b/wCZeuX%2BN37R37dvwH%2BDHi/44%2BKv2UPhJdaX4M8L6hrupW2n/HXVGnmgtLaS4kSMP4YVS5WMhQzKMkZIHNH9h5T/AM%2Bv/Jp//LA/4inx/wD9B3/lHC//ADGc1/w6I%2BG9x/yF/wBsf9ozUPX7Z8WZmz/3zEKT/hzj%2BznL8198aPjRcv2kn%2BKF2SD68Y5r07/hOP8AgoX/ANGv/Bn/AMPxq3/zL0f8Jx/wUL/6Nf8Agz/4fjVv/mXo/sLKOtFf%2BTP85sP%2BIq%2BIq%2BHMqi9FSj/6Th4nmP8Aw6U8O6b8vgz9vP8AaY0GPp9n074sP5WPTa8Dfzo/4dH%2BEbr5te/bq/aa1R/79/8AFyRiD6/LAK9O/wCE4/4KF/8ARr/wZ/8AD8at/wDMvR/wnH/BQv8A6Nf%2BDP8A4fjVv/mXo/sPKf8An1%2BM/wAvaW/AP%2BIqeIP/AEHu/f2eHv8A%2BBfVOZ/OR5j/AMOkvC6fu7T9vP8AaegiPDwQ/F5wjj0IMBOKB/wRh/ZF1I%2Bb468U/E/xRN1Fzr/xJv5HB9cxugz%2BFdN8Xf2jv27fg14UtPF/iP8AZQ%2BElzb3nijRNCjjsvjrqjOJ9U1W10yBzu8MKNizXcbOc5CKxAY4U9R/wnH/AAUL/wCjX/gz/wCH41b/AOZej%2Bwso60U/Xmf4ObX4B/xFXxFXwZnUg%2B8FSg//AqeHpyfzkzzH/hy5%2BxlH8llf/EW2j/ihg%2BI%2BohWHocyGj/hyR/wT1uedc%2BHPiTVG7tf%2BPtWYn/vm4WvTv8AhOP%2BChf/AEa/8Gf/AA/Grf8AzL0f8Jx/wUL/AOjX/gz/AOH41b/5l6P7CyX/AKB4f%2BA/5th/xFfxMW2cYhelVp/fGKf4nmX/AA43/wCCYB%2Bdv2b5zIPuzHxvrW5fp/plJ/w5L/4J/Rfu7DwL4otIT963t/iBqoQj0INwT%2Btenf8ACcf8FC/%2BjX/gz/4fjVv/AJl65fx9%2B0d%2B3b8O/FfgjwhrH7KHwkmuPHniiXQtKktvjrqhSCePStQ1MvLu8MAhPJ06ZQVDHe6DGCWU/sHJP%2BgaH/gK/Swf8RX8T%2Bud4p%2Bteo//AEps5n/hyD/wTh/1x%2BDmsfaR9y8/4TzV/NQ%2BoP2rH6UD/gjZ%2BzHp/Hg/4pfF/wAPKPupovxOvUC/TeXr07/hOP8AgoX/ANGv/Bn/AMPxq3/zL0f8Jx/wUL/6Nf8Agz/4fjVv/mXo/sLJemHgvRW/JoP%2BIreJb%2BPOMRLylU51904zX4HmX/DpTw7F%2B70/9vv9qG0h/wCfa2%2BL7hPyNuT%2BtUvgp%2ByPpH7LP/BQvwWdL%2BOvxN8bNr3wZ8Zea/xH8XNqptPI1bwrj7PlE8rf5x39d2xP7tetf8Jx/wAFC/8Ao1/4M/8Ah%2BNW/wDmXqh4H8D/ALVnjH9qzw58bvjd8OPh74Z0bwz8PfEOhww%2BFfiHfa1dXd1qV9olwjMlxpFikUaJpcoLB3YtKgC4yRtQyrLsNVVSlTtJbO8v1m1%2BB5%2Bacf8AGOd4GeCx2Lc6U7c0eSgr2aau4YenLdJ/GvO60PdaKKK9A%2BPCs3xh4y8IfDzwvf8Ajjx/4r03Q9F0u2a41PWNYvo7a1s4VGWkllkISNAOrMQBWlXiH7f3hvxFrvwT0bVtE8Kalr9p4b%2BJfhXX/EGh6Pp0l5dXmm2OtWlzcGK2iVpLl4Vj%2B0iFFaST7PtRXcqpAPTNM%2BMPwj1r4ZD416P8UvDl34NOnvfjxbba5byaYbRAS9x9qVzF5ShWy%2B7aNpyeK57Vv2vf2TdB%2BGmnfGjXP2oPh3ZeDtYu2tdJ8WXfjWwj0y9nXfuihumlEUjjy5MqrEjy24%2BU4%2BcvDXw9tPiT%2Byf8W/D3i/QvHXhHTvE/xLv/AB54Ttv%2BFZapdXdnaxazBd2sr6aLfzJmuL2ze8k07C3Lw3ZDxxtIcZ3wYu/iv4L%2BDfxe8e/GPx/8VvD9x8WvizJqvhHxL8OPgPfNqllaxaJpFk0o0K4sdUl0yKafT7oqt7EzsjiRmSWYYAPtzTdS07WdOt9Y0e/gu7S7gSa1uraUSRzRsAyujKSGUgggjgg5r54/Yh8Mab4W/Z48WXtj5hF7%2B0N4/wBTvnYZwf8AhPNU3twOipGPwWug/Y98B/FfwT/wT/8Ahr8NdN0HTPAfi3R/hxpWnw6dremz6jb6RNDaxxhJoFu45JCFXDR/acqxI8xtuT5T%2BxJ4k/bz0T4Na1pOh/Bn4ReJ4YPi78QUfX7v4mapoTX03/CY6x5sg09dFvxaIZN%2B2P7XOQoXMhJOE0m0%2BxcalSMJQT0la/nZ3X3PU%2Brv%2BE58E/8AQ4aX/wCDCP8A%2BKpf%2BE58E/8AQ4aV/wCDCP8A%2BKry3/hOP%2BChf/Rr/wAGf/D8at/8y9H/AAnH/BQv/o1/4M/%2BH41b/wCZemQepf8ACc%2BCf%2Bhw0r/wYR//ABVH/Cc%2BCf8AocNK/wDBhH/8VXlv/Ccf8FC/%2BjX/AIM/%2BH41b/5l6P8AhOP%2BChf/AEa/8Gf/AA/Grf8AzL0Aal98DP2KNU%2BHGk/B3U/g78LbjwjoF79s0LwrP4e019N0253SN50FsU8qGTdLKd6KDmRzn5jnQ0/4cfso6Ta2tlpXgP4e20NlaaTaWUNvpdii28GlzyXGmRIAoCJaTyyy26jAgkkd4wrMSfM/gj%2B0d%2B3b8ePgx4Q%2BOPhX9lD4SWul%2BM/C%2Bn67pttqHx11RZ4YLu2juI0kCeGGUOFkAYKzDIOCRzXUf8Jx/wAFC/8Ao1/4M/8Ah%2BNW/wDmXoA1bH4H/sVaX4p1vxzpnwg%2BF1vrfiWC6h8R6xB4f01LrVY7rH2lLmUJvnWXavmByQ%2BBuziug8b6V8APiZ4Iufhl8SNN8HeIPDd5CkV34e1yG0u7GeNGVkR4JQ0bKrKpAK4BUEdBXFf8Jx/wUL/6Nf8Agz/4fjVv/mXo/wCE4/4KF/8ARr/wZ/8AD8at/wDMvQB1Q8E/swjw9b%2BER4R8BjSbTw3P4etdL%2BwWX2eHSJxGs2nJHt2rayCGIPAB5bCJAVO0Yr%2BHvhr%2Byd4R%2BG4%2BDfhTwB8O9M8ILOJ18KafpVhDpolEwmD/AGZFEW4Sqsmdud6huozXmvxu/aO/bt%2BA/wAGPF/xx8VfsofCS60vwZ4X1DXdSttP%2BOuqNPNBaW0lxIkYfwwqlysZChmUZIyQOa6j/hOP%2BChf/Rr/AMGf/D8at/8AMvQB0/j3wD%2By18VPE2heNPif4L8AeJNY8L3Bn8M6tr2nWN5c6RKWRjJayyqz27Fo423IVOY1P8IrN134H/sVeKPi/aftCeJfhB8LdR8faeYzYeOL7w/ps2sWxjACeXeOhmTaAAMOMAcVlf8ACcf8FC/%2BjX/gz/4fjVv/AJl6P%2BE4/wCChf8A0a/8Gf8Aw/Grf/MvQB6TbavpeueMbW40XUYLuO30y5WeW2lDqjPJAVBK5AJCNx7Vu14z/wAJx/wUL/6Nf%2BDP/h%2BNW/8AmXrl/i7%2B0d%2B3b8GvClp4v8R/sofCS5t7zxRomhRx2Xx11RnE%2Bqara6ZA53eGFGxZruNnOchFYgMcKQD6Oorxn/hOP%2BChf/Rr/wAGf/D8at/8y9H/AAnH/BQv/o1/4M/%2BH41b/wCZegD2aivGf%2BE4/wCChf8A0a/8Gf8Aw/Grf/MvR/wnH/BQv/o1/wCDP/h%2BNW/%2BZegD2aivnHx9%2B0d%2B3b8O/FfgjwhrH7KHwkmuPHniiXQtKktvjrqhSCePStQ1MvLu8MAhPJ06ZQVDHe6DGCWXqP8AhOP%2BChf/AEa/8Gf/AA/Grf8AzL0AezUV4z/wnH/BQv8A6Nf%2BDP8A4fjVv/mXo/4Tj/goX/0a/wDBn/w/Grf/ADL0AezUV4z/AMJx/wAFC/8Ao1/4M/8Ah%2BNW/wDmXrl9W/aO/bt0f4z6B8Drj9lD4SNqniLwvq%2Bu2dynx11TyI4NOudNt5kcnwxuDs2qQFQFIISTJUhQwB9HUV4z/wAJx/wUL/6Nf%2BDP/h%2BNW/8AmXo/4Tj/AIKF/wDRr/wZ/wDD8at/8y9AHs1FeM/8Jx/wUL/6Nf8Agz/4fjVv/mXo/wCE4/4KF/8ARr/wZ/8AD8at/wDMvQB7NRXzjpP7R37dusfGfX/gdb/sofCRdU8O%2BF9I128uX%2BOuqeRJBqNzqVvCiEeGNxdW0ucsCoADx4LEsF6j/hOP%2BChf/Rr/AMGf/D8at/8AMvQB7NRXjP8AwnH/AAUL/wCjX/gz/wCH41b/AOZej/hOP%2BChf/Rr/wAGf/D8at/8y9AHs1FeM/8ACcf8FC/%2BjX/gz/4fjVv/AJl65fwD%2B0d%2B3b8RPFfjfwho/wCyh8JIbjwH4oi0LVZLn466oEnnk0rT9TDxbfDBJTydRhUlgp3o4xgBmAPo6ivGf%2BE4/wCChf8A0a/8Gf8Aw/Grf/MvR/wnH/BQv/o1/wCDP/h%2BNW/%2BZegD2avGf2X/APkt/wC0d/2Wax/9QrwvR/wnH/BQv/o1/wCDP/h%2BNW/%2BZerf7K3w5%2BNPg/WPih47%2BOmgeF9J1Tx98Qotcs9K8J%2BJbnVre1tYtB0fTFV7i4srNmkaTTpXKiLaFkQbmOcAHrdFFFABRRRQAUUUUAFFFFABRRRQAUUUUAFFFFABRRRQAUUUUAFFFFABRRRQAV8r/tPftafFz4YfGPxZrXgHw74Pk8MfB/w/4fvfGp1rSLibVdUt9Xv5UuYLC4juI0svItrOO4zJFOLmQpGRD5fmn6orxn4z/sQ/Dj43fFI/EzXPHPirS4tRtdItfF/hrRrq1TTvFMGl3sl7YxXyy28kwWOaaXP2eWAyxyGKYyxhUAB7NRRRQAUUUUAfMfhz9pX4mQ/t/wDij4P/ABG1jw94T8Nr4gtNE8GRaj8ItZS68YwDQINRxB4ja7XTmlju7nUALQQvJ5dpMAoLNIv05Xlfiz9lqDx/8ZNI%2BKfj343%2BNdX0rw9rsetaB4AuDpkWjWOoR27wRzhobJL2XZ5kkipNdSRiR92z5EC%2BqUAFFFFAHi//AAUF%2BLvxw/Z%2B/ZH8afHr4BXvhSPWPBOhXeuXUHjDRbm%2Btru0tbaWZ7dEtrq2ZJXZEUSFyqAsSj8CvP8Ax5%2B1p8XPBfx48W6n4U8O%2BEIvh54Q%2BMfhH4feMrObSLg63quq67BoqR6hDdpcLDHHB/bmkxmKS3leRIZ8Sx7UFew/tY/s42X7WnwI179n3Wvir4p8I6T4nspbHXL/AMILp32u5spYnimtt1/aXUaI6vyyIsgKja6854uD9gHwdP8AEWz%2BIvir44%2BPtdY6zpOueJtG1CXSorHxPrmmJGljq17HbWETLcRCC0wts0EDGxti8TGPJAPe6KKKACvF/wBsn4u/HD4JWvgHxj8LL3wp/Y2ofEzw54e8X2PiDRbm5urm11XWbHTQbOWG6hS2kjW5lk3yJOpKIuzkmvaK8q/au/Zbf9qrw3oXhef4%2B%2BN/A1voXiSw11G8Fw6Oz3d7Y3kF5ZtKdS0%2B8G2K4t43CxhA3Kyb1O0AHnH7PP7SvxM1v9qrxb8Efihq/h7wnp0PinW7fwT4Sk%2BEWs6Zc69bQukpv7fWri7%2Bwag7GSaWWK2gL8l2K4Yn6cryXSf2UQ/xk0X4y/Ef9oDx341m8L3d5d%2BE9C8QjSYbDR7q5t5LWS4iWw0%2B2llf7PNPCvnySqizvtAJBHrVABRRRQB4f%2B3d8XPjx%2Bz98GtX%2BOvwo8Y%2BBbHT/C2i3N5e6L4s8M3t/c%2BIb3KLZ6ZZyW17B9nmuJSLdG8q6ZpZ4gsLH5W8/wDgj%2B198Z9c%2BJfgr%2B1vBnhLSPhp43%2BJ/ij4beFfDWnaXNHq%2BiX%2BgQ6tvnnuRcNbzQSN4f1NFhjt4jGrWx8yTLAen/tK/sgwftJePPBHxAm/aB8d%2BELnwDd3N7otj4Yi0aezkvZUEa3k0Gp6deI88MfmLDIApjE8pHzNkVfAf7DXw98B/GW3%2BLsPxF8XalBp2u6nr2ieENSubL%2BydK1vUY3j1DVIEitUn8%2BcT3ZZXmeFGvrkxxR%2BZwAe10UUUAFfL/7XPx4/aX%2BC3xE0/wAKaVD4A8a6P45h1q20X4cxeD76TWEtbTQ7q7kv7icXrxXVsLqK3tpIRaxA/b4UExkZEk%2BoK8Om/YmuI/2j/Ff7TWiftV/EvTtX8W6bDp1zpcMHh%2Be00%2BzhgaOG2s2udJlubeJZXe62LNtedy7hwdtADP2EP2g/G/x7%2BHt5dfFfx9o194u04Wba/wCG7L4Xav4RvNAee2WUQXNlq91PcOC2/wAu4ASORUO0NtJr3SvN/gd%2Bzdp3wZ8T%2BJPiHrHxS8U%2BOPFXiuKxt9Y8T%2BLmsFuXtLMTfZbVItPtbW2jija5uXG2EMzXEhZmyMekUAFFFFAHxz/wUE/bj%2BKn7GHjn%2B09c0XQPGPhF9G1HW7fwrL8OdTspbdNN0a%2B1JJP%2BEimun0ye7%2B16aNlisCXQjmWUDbC0jevfs0fF3456t8VPG/7PX7R1z4U1DxP4R0nQ9aj1rwVpFzYWNzY6oLyNIjBc3Ny6yxXGnXal/NxIhibZGSVFb46/sJeCP2nNaurX4//ABb8a%2BKPBdzJcSL8MryTTYdFikmsZrJm329lHfSAR3EzBJbp0Dvu2/IgXp/2fP2ZtI%2BAd5r3iK7%2BKHizxx4j8SGzj1bxV41uLN76W2tIjFa2o%2Bx21vCsUQeVhiPezzyu7Ozk0AelUUUUAFfEf7U/7ZX7Wfwb%2BNXiD4UeDvDfhzxrqdhotxrvhgJ8D/EEcmigajplqhhb7c48TSCx1S487%2By/KeFoSsojEwjr7crw/Xv2LdT8S%2BPT8Tta/a5%2BKM2t6fBeReDbwpoAHhVbqaGSf7JGNJ2Ts0cC2%2B69W6ZYmcKVd2cgHVfssfFh/jJ8I4PFl78TNG8VX8Oo3Vlql9o3gy%2B8Oi2uIpWVrWbTdQuJ7qznjGFeOZw%2Bfm2qGAr0auG%2BAfwF8PfADwzqejaV4p1vxBqOv69ca34k8SeI5oGvdVv5giNPKLeKGBMRxQxKkMUcapEgCjBJ7mgAooooAKKKKACiiigAooooAo%2BKPENh4S8Naj4r1UObXTLGa7uREuW8uNC7YHc4U185/sTftJ/Gvx/4p0fwZ8bPD3gyzHjr4W2XxG8Mw%2BDNKuLQaZHeXBN3p92ZriUXc0b3Ns/2xBAJ2lmJgj2gv9LXdpa39rLY3tuk0M0bRzRSqGV1IwVIPBBHGK8h/Zm/Yr8Bfswaq%2Br6B8QfFviWW28MWPhnw6PFl7azDQNCs3ke3021Nvbwlo1MnzSzma4kEcXmTP5a4APYqKKKACuF/ag8efEX4Wfs0fET4nfB/wAKLr3i3w54F1fVPC2htYzXQ1HUbezlltrYwwMsswklRE8uNg7bsKQSDXdVneLdEv8AxL4Y1Dw/pfivUdCub20kht9a0hYGurF2UgTRC4iliLqeQJI3TI%2BZWGQQDy79in4tT/FD4Z31lq3xC8P6zqfh3VV0680zRPhhqfg59DQW0EkVncaVqlzPcwuEcSK7eWjxSxbEwN7%2BxV558B/2dtJ%2BB154l8R3PxE8SeMfEni/UYbzxF4p8VvZi7ujDbpbwRCOxtra2iijjQBVjhTJZ2YszMx9DoAKKKKAPlz9qj9rH4ofs4fF7xxZfErRvCXiL4X2H7O/i/x7baFb6JcJqrtog0tZ7a4uZLl7eaKdb6cBBbIVCJl3ywrt/wBmf4v/AB81T4ueMv2df2ln8JXnijwx4Y8PeJY9V8FaTc2NlJZas%2BpW62xhubm5cyw3GkXYMokCyI8TeXGdy1B8Y/2FfDvx0%2BOrfGXx58dvHMumzeCtT8I33w9hg0X%2BxLvRtSW2%2B32khfTWvSJ2tIHZxdB1KEIyIzIek/Z3/Zd0P9n2%2B1rxHP8AFDxb438Q6/a2Flf%2BJ/G1zaSXpsLFJFs7MfZLa3j8qIz3DglDI73Mru7s2aAPT6KKKACvkT41/tL/ALW3gzXf2gPAlv4V8GeLL3wF4f8ACniT4bWOk/D/AFO/nWPUdV1KEJeWsV48uozwLpsc6m2FuS5IVflVq%2Bu68Ll/Yo8QxfHTxt8f9C/bQ%2BK2lat430ix0y5sbKz8MNaabbWVxcz2aWwl0V5P3RvLpQZnlLrORJ5hVCoB1f7Knxbm%2BMvwpHibUfido3inUbXVbmx1a60fwRf%2BGzZ3ETfNaz6ZqNxPdWk6KV3JMwYhlbaqsK9JrhPgH8A9A%2BAOhazY6f4t1zxHqvibxBLrnifxN4klt2vdVv5IYYPNkFtDDBGFgt7eFUiijRUhQBc5J7ugAooooA%2BNv2lv2u/2lv2ePjNB8NtZT4Z%2BNb7W4IJvCMOneFr20l8F3mpeIdM8PaRNqcr30wuop21ecFols5HFjdLGGXzDF7j%2Byr8X/iR8Rh4/%2BH3xiOiT%2BKvhp48bw1rOq%2BGtOms7DU/M0vTtWt7iG3mnnkt82uqW6PG00uJI5MMQRjhbb/gmr4Sa6%2BIb%2BIf2l/idrNv8SdeOuaxb6kdC8yz1KK4hn0%2B5trqLS0ulNg9vbi0jeaSKJYUDI/OfWPgH8BdD%2BAfh7VtNsvF%2BueJNW8Ra9NrXifxR4le2N/q99JHFD50wtYIIF2QQW8CJFFGixwRqF4JIB3VFFFADLn7T9mk%2Bx7PO2HyvNzt3Y4zjnGa%2BIPit%2B1z%2B2n8NPiJrnw2t7bwH4z17wxe%2BGrfVvHXgj4K6/q0fhy31Zrx72wl0qz1Ke7uZo4bKxuiYp0/d3ULSwIDE0n29dwyXFrLbw3UkDyRsqzxBS8ZIwGXcCuR1GQR6g189/Bj9gLxB8BPhtcfDT4d/t1fGKKO61Z9Tm1m8svCc%2BoS3cryyXM80z6EftMk7y7pJJxI%2BY02FAMEA9Z%2BAnxDsvit8HfD/AMQrD4gaN4qTU9PEj6/4f0mawtLuQErIUtZ5ppbYq6sjQySO8bKysdykDr65L4F/Bfwl%2Bz78L9O%2BFPgq5v7iysJbq4mvtVuRNdX13dXMt1dXUzhVDSzXE80r7VVd0h2qq4UdbQAVR8Tw%2BJLnw3qFv4N1OxstXkspV0u81Owe6toLgoRHJLDHLE00atgsiyRlgCA6k7herN8Y6Df%2BKPC1/wCHdL8W6loNzeWrxQa1o4gN1YuRxNELiKWIup5AkjdDj5lYZFAHw98N/wBuz9rX4wfFPW/gl8LNN%2BHyeM9NtddvpPGfiv4Xa1oa6ppmkWuiypYy6JeXyahp8r3fiHYk08zx%2BVDJcJC6zoD9jfAL4tab8fPgT4K%2BOujabLZ2fjXwlpuvWlnM%2B54Iry1juFjYgDJUSAE%2BorxbV/8AgmR4H1rXL74i3f7SnxTT4gasl5a618Sba90iHVr/AEy6trW2m0wommizhtillaMPItopVkgWVZQ5Zj9B%2BC/B/hr4eeDtJ8AeDNJi0/R9D0yDT9JsIc7La2hjWOKNc84VFVR9KANOiiigDl/jTqPjjRvhbrWt/DnxDY6Xq1hZm6hvtQ8H3viBEjjIeUDTrGeC5vJGiV1SKGQOXZcK5%2BRvi34S/wDBRH4/eJPGmh6n43uPCPgTwZqU86%2BIPHF58DPEU1trF/Dr91pCJcyrfRp4ZnktbS1/cao0ksDyrG%2BdgSvtv4meDNd8e%2BEpvDnhv4pa/wCDbySWN4tf8MxWL3cG1gSqrf21zAwYAqQ8TcE4wcEeK3X/AATm8Kah4PuPhtq37SHxNu/DGuahNf8AjzQJrjRxF4wu57xrq4mvpV00XEXmllhaOzltYhDEkaoo3bgD6JooooAKKKKACiiigAooooAKKKKACiiigAooooAKKKKACiiigAooooAKKKKACiiigAooooAKKKKACiiigAooooAKKKKACiiigAooooAKKKKACiiigAooooAKKKKACiiigAooooAKKKKACiiigAooooAKKKKACiiigAooooAKKKKACiiigAooooAKKKKACiiigAooooAKKKKACiiigAooooAKKKKACiiigAooooAKKKKACiiigAooooAKKKKACiiigAooooAKKKKACiiigAooooAKKKKACiiigAooooAKKKKACiiigAooooAKKKKACiiigAooooA//9k%3D\">"
            ]
          },
          "metadata": {
            "tags": []
          }
        }
      ]
    },
    {
      "cell_type": "code",
      "metadata": {
        "id": "TWWpiKWyjRXL",
        "colab_type": "code",
        "colab": {
          "base_uri": "https://localhost:8080/",
          "height": 35
        },
        "outputId": "bfbc075b-9578-41f5-b9c3-c308004edb46"
      },
      "source": [
        "## GRADED PART, DO NOT CHANGE!\n",
        "# Validation loss for MLP\n",
        "grader.set_answer(\"i8bgs\", s.run(loss, {input_X: X_val_flat, input_y: y_val_oh}))\n",
        "# Validation accuracy for MLP\n",
        "grader.set_answer(\"rE763\", accuracy_score(y_val, s.run(classes, {input_X: X_val_flat})))\n",
        "# you can make submission with answers so far to check yourself at this stage\n",
        "grader.submit(COURSERA_EMAIL, COURSERA_TOKEN)"
      ],
      "execution_count": 31,
      "outputs": [
        {
          "output_type": "stream",
          "text": [
            "Submitted to Coursera platform. See results on assignment page!\n"
          ],
          "name": "stdout"
        }
      ]
    },
    {
      "cell_type": "code",
      "metadata": {
        "id": "cNETtG6RobNg",
        "colab_type": "code",
        "colab": {}
      },
      "source": [
        ""
      ],
      "execution_count": 0,
      "outputs": []
    }
  ]
}